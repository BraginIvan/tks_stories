{
 "cells": [
  {
   "cell_type": "code",
   "execution_count": 132,
   "metadata": {},
   "outputs": [],
   "source": [
    "import pandas as pd\n",
    "from matplotlib import pyplot as plt\n",
    "import numpy as np"
   ]
  },
  {
   "cell_type": "code",
   "execution_count": 6,
   "metadata": {},
   "outputs": [],
   "source": [
    "data_path = 'dataset/'\n",
    "customer_train = pd.read_csv(f'{data_path}customer_train.csv')\n",
    "customer_test = pd.read_csv(f'{data_path}customer_test.csv')\n",
    "stories_description = pd.read_csv(f'{data_path}stories_description.csv')\n",
    "stories_reaction_test = pd.read_csv(f'{data_path}stories_reaction_test.csv')\n",
    "stories_reaction_train = pd.read_csv(f'{data_path}stories_reaction_train.csv')\n",
    "transactions = pd.read_csv(f'{data_path}transactions.csv')\n",
    "\n",
    "\n",
    "sample_submit = pd.read_csv(f'{data_path}sample_submit.csv')\n",
    "\n"
   ]
  },
  {
   "cell_type": "code",
   "execution_count": 15,
   "metadata": {},
   "outputs": [
    {
     "data": {
      "text/html": [
       "<div>\n",
       "<style scoped>\n",
       "    .dataframe tbody tr th:only-of-type {\n",
       "        vertical-align: middle;\n",
       "    }\n",
       "\n",
       "    .dataframe tbody tr th {\n",
       "        vertical-align: top;\n",
       "    }\n",
       "\n",
       "    .dataframe thead th {\n",
       "        text-align: right;\n",
       "    }\n",
       "</style>\n",
       "<table border=\"1\" class=\"dataframe\">\n",
       "  <thead>\n",
       "    <tr style=\"text-align: right;\">\n",
       "      <th></th>\n",
       "      <th>customer_id</th>\n",
       "      <th>story_id</th>\n",
       "      <th>event_dttm</th>\n",
       "      <th>event</th>\n",
       "    </tr>\n",
       "  </thead>\n",
       "  <tbody>\n",
       "    <tr>\n",
       "      <td>0</td>\n",
       "      <td>15</td>\n",
       "      <td>138</td>\n",
       "      <td>2018-07-24 15:33:22</td>\n",
       "      <td>view</td>\n",
       "    </tr>\n",
       "    <tr>\n",
       "      <td>1</td>\n",
       "      <td>15</td>\n",
       "      <td>202</td>\n",
       "      <td>2018-06-04 08:08:08</td>\n",
       "      <td>skip</td>\n",
       "    </tr>\n",
       "    <tr>\n",
       "      <td>2</td>\n",
       "      <td>15</td>\n",
       "      <td>222</td>\n",
       "      <td>2018-06-17 13:44:45</td>\n",
       "      <td>skip</td>\n",
       "    </tr>\n",
       "  </tbody>\n",
       "</table>\n",
       "</div>"
      ],
      "text/plain": [
       "   customer_id  story_id           event_dttm event\n",
       "0           15       138  2018-07-24 15:33:22  view\n",
       "1           15       202  2018-06-04 08:08:08  skip\n",
       "2           15       222  2018-06-17 13:44:45  skip"
      ]
     },
     "execution_count": 15,
     "metadata": {},
     "output_type": "execute_result"
    }
   ],
   "source": [
    "stories_reaction_train.head(3)"
   ]
  },
  {
   "cell_type": "code",
   "execution_count": 14,
   "metadata": {},
   "outputs": [
    {
     "data": {
      "text/html": [
       "<div>\n",
       "<style scoped>\n",
       "    .dataframe tbody tr th:only-of-type {\n",
       "        vertical-align: middle;\n",
       "    }\n",
       "\n",
       "    .dataframe tbody tr th {\n",
       "        vertical-align: top;\n",
       "    }\n",
       "\n",
       "    .dataframe thead th {\n",
       "        text-align: right;\n",
       "    }\n",
       "</style>\n",
       "<table border=\"1\" class=\"dataframe\">\n",
       "  <thead>\n",
       "    <tr style=\"text-align: right;\">\n",
       "      <th></th>\n",
       "      <th>customer_id</th>\n",
       "      <th>story_id</th>\n",
       "      <th>event_dttm</th>\n",
       "      <th>answer_id</th>\n",
       "    </tr>\n",
       "  </thead>\n",
       "  <tbody>\n",
       "    <tr>\n",
       "      <td>0</td>\n",
       "      <td>466906</td>\n",
       "      <td>1152</td>\n",
       "      <td>2018-08-01 00:00:46</td>\n",
       "      <td>0</td>\n",
       "    </tr>\n",
       "    <tr>\n",
       "      <td>1</td>\n",
       "      <td>466906</td>\n",
       "      <td>1355</td>\n",
       "      <td>2018-08-01 00:00:46</td>\n",
       "      <td>1</td>\n",
       "    </tr>\n",
       "    <tr>\n",
       "      <td>2</td>\n",
       "      <td>146395</td>\n",
       "      <td>537</td>\n",
       "      <td>2018-08-01 00:02:08</td>\n",
       "      <td>2</td>\n",
       "    </tr>\n",
       "  </tbody>\n",
       "</table>\n",
       "</div>"
      ],
      "text/plain": [
       "   customer_id  story_id           event_dttm  answer_id\n",
       "0       466906      1152  2018-08-01 00:00:46          0\n",
       "1       466906      1355  2018-08-01 00:00:46          1\n",
       "2       146395       537  2018-08-01 00:02:08          2"
      ]
     },
     "execution_count": 14,
     "metadata": {},
     "output_type": "execute_result"
    }
   ],
   "source": [
    "stories_reaction_test.head(3)"
   ]
  },
  {
   "cell_type": "code",
   "execution_count": 20,
   "metadata": {},
   "outputs": [
    {
     "data": {
      "text/html": [
       "<div>\n",
       "<style scoped>\n",
       "    .dataframe tbody tr th:only-of-type {\n",
       "        vertical-align: middle;\n",
       "    }\n",
       "\n",
       "    .dataframe tbody tr th {\n",
       "        vertical-align: top;\n",
       "    }\n",
       "\n",
       "    .dataframe thead th {\n",
       "        text-align: right;\n",
       "    }\n",
       "</style>\n",
       "<table border=\"1\" class=\"dataframe\">\n",
       "  <thead>\n",
       "    <tr style=\"text-align: right;\">\n",
       "      <th></th>\n",
       "      <th>answer_id</th>\n",
       "      <th>score</th>\n",
       "    </tr>\n",
       "  </thead>\n",
       "  <tbody>\n",
       "    <tr>\n",
       "      <td>0</td>\n",
       "      <td>0</td>\n",
       "      <td>0.85</td>\n",
       "    </tr>\n",
       "    <tr>\n",
       "      <td>1</td>\n",
       "      <td>1</td>\n",
       "      <td>0.53</td>\n",
       "    </tr>\n",
       "    <tr>\n",
       "      <td>2</td>\n",
       "      <td>2</td>\n",
       "      <td>-0.89</td>\n",
       "    </tr>\n",
       "  </tbody>\n",
       "</table>\n",
       "</div>"
      ],
      "text/plain": [
       "   answer_id  score\n",
       "0          0   0.85\n",
       "1          1   0.53\n",
       "2          2  -0.89"
      ]
     },
     "execution_count": 20,
     "metadata": {},
     "output_type": "execute_result"
    }
   ],
   "source": [
    "sample_submit.head(3)"
   ]
  },
  {
   "cell_type": "code",
   "execution_count": 17,
   "metadata": {},
   "outputs": [
    {
     "data": {
      "text/html": [
       "<div>\n",
       "<style scoped>\n",
       "    .dataframe tbody tr th:only-of-type {\n",
       "        vertical-align: middle;\n",
       "    }\n",
       "\n",
       "    .dataframe tbody tr th {\n",
       "        vertical-align: top;\n",
       "    }\n",
       "\n",
       "    .dataframe thead th {\n",
       "        text-align: right;\n",
       "    }\n",
       "</style>\n",
       "<table border=\"1\" class=\"dataframe\">\n",
       "  <thead>\n",
       "    <tr style=\"text-align: right;\">\n",
       "      <th></th>\n",
       "      <th>customer_id</th>\n",
       "      <th>product_0</th>\n",
       "      <th>product_1</th>\n",
       "      <th>product_2</th>\n",
       "      <th>product_3</th>\n",
       "      <th>product_4</th>\n",
       "      <th>product_5</th>\n",
       "      <th>product_6</th>\n",
       "      <th>gender_cd</th>\n",
       "      <th>age</th>\n",
       "      <th>marital_status_cd</th>\n",
       "      <th>children_cnt</th>\n",
       "      <th>first_session_dttm</th>\n",
       "      <th>job_position_cd</th>\n",
       "      <th>job_title</th>\n",
       "    </tr>\n",
       "  </thead>\n",
       "  <tbody>\n",
       "    <tr>\n",
       "      <td>0</td>\n",
       "      <td>894436</td>\n",
       "      <td>NaN</td>\n",
       "      <td>NaN</td>\n",
       "      <td>NaN</td>\n",
       "      <td>NaN</td>\n",
       "      <td>NaN</td>\n",
       "      <td>UTL</td>\n",
       "      <td>NaN</td>\n",
       "      <td>M</td>\n",
       "      <td>30.0</td>\n",
       "      <td>MAR</td>\n",
       "      <td>0.0</td>\n",
       "      <td>2018-03-20 09:10:16</td>\n",
       "      <td>1</td>\n",
       "      <td>Неруководящий сотрудник - обсл. Персонал</td>\n",
       "    </tr>\n",
       "    <tr>\n",
       "      <td>1</td>\n",
       "      <td>524526</td>\n",
       "      <td>NaN</td>\n",
       "      <td>UTL</td>\n",
       "      <td>NaN</td>\n",
       "      <td>NaN</td>\n",
       "      <td>NaN</td>\n",
       "      <td>UTL</td>\n",
       "      <td>NaN</td>\n",
       "      <td>F</td>\n",
       "      <td>20.0</td>\n",
       "      <td>UNM</td>\n",
       "      <td>0.0</td>\n",
       "      <td>2017-03-29 20:38:45</td>\n",
       "      <td>16</td>\n",
       "      <td>NaN</td>\n",
       "    </tr>\n",
       "    <tr>\n",
       "      <td>2</td>\n",
       "      <td>498134</td>\n",
       "      <td>NaN</td>\n",
       "      <td>UTL</td>\n",
       "      <td>NaN</td>\n",
       "      <td>NaN</td>\n",
       "      <td>NaN</td>\n",
       "      <td>NaN</td>\n",
       "      <td>NaN</td>\n",
       "      <td>F</td>\n",
       "      <td>25.0</td>\n",
       "      <td>UNM</td>\n",
       "      <td>0.0</td>\n",
       "      <td>2018-03-12 11:25:06</td>\n",
       "      <td>22</td>\n",
       "      <td>NaN</td>\n",
       "    </tr>\n",
       "  </tbody>\n",
       "</table>\n",
       "</div>"
      ],
      "text/plain": [
       "   customer_id product_0 product_1 product_2 product_3 product_4 product_5  \\\n",
       "0       894436       NaN       NaN       NaN       NaN       NaN       UTL   \n",
       "1       524526       NaN       UTL       NaN       NaN       NaN       UTL   \n",
       "2       498134       NaN       UTL       NaN       NaN       NaN       NaN   \n",
       "\n",
       "  product_6 gender_cd   age marital_status_cd  children_cnt  \\\n",
       "0       NaN         M  30.0               MAR           0.0   \n",
       "1       NaN         F  20.0               UNM           0.0   \n",
       "2       NaN         F  25.0               UNM           0.0   \n",
       "\n",
       "    first_session_dttm  job_position_cd  \\\n",
       "0  2018-03-20 09:10:16                1   \n",
       "1  2017-03-29 20:38:45               16   \n",
       "2  2018-03-12 11:25:06               22   \n",
       "\n",
       "                                  job_title  \n",
       "0  Неруководящий сотрудник - обсл. Персонал  \n",
       "1                                       NaN  \n",
       "2                                       NaN  "
      ]
     },
     "execution_count": 17,
     "metadata": {},
     "output_type": "execute_result"
    }
   ],
   "source": [
    "customer_train.head(3)"
   ]
  },
  {
   "cell_type": "code",
   "execution_count": 18,
   "metadata": {},
   "outputs": [
    {
     "data": {
      "text/html": [
       "<div>\n",
       "<style scoped>\n",
       "    .dataframe tbody tr th:only-of-type {\n",
       "        vertical-align: middle;\n",
       "    }\n",
       "\n",
       "    .dataframe tbody tr th {\n",
       "        vertical-align: top;\n",
       "    }\n",
       "\n",
       "    .dataframe thead th {\n",
       "        text-align: right;\n",
       "    }\n",
       "</style>\n",
       "<table border=\"1\" class=\"dataframe\">\n",
       "  <thead>\n",
       "    <tr style=\"text-align: right;\">\n",
       "      <th></th>\n",
       "      <th>customer_id</th>\n",
       "      <th>product_0</th>\n",
       "      <th>product_1</th>\n",
       "      <th>product_2</th>\n",
       "      <th>product_3</th>\n",
       "      <th>product_4</th>\n",
       "      <th>product_5</th>\n",
       "      <th>product_6</th>\n",
       "      <th>gender_cd</th>\n",
       "      <th>age</th>\n",
       "      <th>marital_status_cd</th>\n",
       "      <th>children_cnt</th>\n",
       "      <th>first_session_dttm</th>\n",
       "      <th>job_position_cd</th>\n",
       "      <th>job_title</th>\n",
       "    </tr>\n",
       "  </thead>\n",
       "  <tbody>\n",
       "    <tr>\n",
       "      <td>0</td>\n",
       "      <td>234305</td>\n",
       "      <td>NaN</td>\n",
       "      <td>NaN</td>\n",
       "      <td>NaN</td>\n",
       "      <td>NaN</td>\n",
       "      <td>NaN</td>\n",
       "      <td>UTL</td>\n",
       "      <td>NaN</td>\n",
       "      <td>F</td>\n",
       "      <td>25.0</td>\n",
       "      <td>NaN</td>\n",
       "      <td>0.0</td>\n",
       "      <td>2015-10-29 09:59:10</td>\n",
       "      <td>22</td>\n",
       "      <td>Менеджер проектов</td>\n",
       "    </tr>\n",
       "    <tr>\n",
       "      <td>1</td>\n",
       "      <td>914339</td>\n",
       "      <td>NaN</td>\n",
       "      <td>NaN</td>\n",
       "      <td>NaN</td>\n",
       "      <td>NaN</td>\n",
       "      <td>NaN</td>\n",
       "      <td>UTL</td>\n",
       "      <td>NaN</td>\n",
       "      <td>M</td>\n",
       "      <td>15.0</td>\n",
       "      <td>NaN</td>\n",
       "      <td>0.0</td>\n",
       "      <td>2018-04-09 08:51:54</td>\n",
       "      <td>22</td>\n",
       "      <td>NaN</td>\n",
       "    </tr>\n",
       "    <tr>\n",
       "      <td>2</td>\n",
       "      <td>895631</td>\n",
       "      <td>NaN</td>\n",
       "      <td>NaN</td>\n",
       "      <td>NaN</td>\n",
       "      <td>NaN</td>\n",
       "      <td>NaN</td>\n",
       "      <td>UTL</td>\n",
       "      <td>NaN</td>\n",
       "      <td>M</td>\n",
       "      <td>20.0</td>\n",
       "      <td>NaN</td>\n",
       "      <td>0.0</td>\n",
       "      <td>2018-03-22 10:38:33</td>\n",
       "      <td>16</td>\n",
       "      <td>Менеджер по продажам</td>\n",
       "    </tr>\n",
       "  </tbody>\n",
       "</table>\n",
       "</div>"
      ],
      "text/plain": [
       "   customer_id product_0 product_1 product_2 product_3 product_4 product_5  \\\n",
       "0       234305       NaN       NaN       NaN       NaN       NaN       UTL   \n",
       "1       914339       NaN       NaN       NaN       NaN       NaN       UTL   \n",
       "2       895631       NaN       NaN       NaN       NaN       NaN       UTL   \n",
       "\n",
       "  product_6 gender_cd   age marital_status_cd  children_cnt  \\\n",
       "0       NaN         F  25.0               NaN           0.0   \n",
       "1       NaN         M  15.0               NaN           0.0   \n",
       "2       NaN         M  20.0               NaN           0.0   \n",
       "\n",
       "    first_session_dttm  job_position_cd             job_title  \n",
       "0  2015-10-29 09:59:10               22     Менеджер проектов  \n",
       "1  2018-04-09 08:51:54               22                   NaN  \n",
       "2  2018-03-22 10:38:33               16  Менеджер по продажам  "
      ]
     },
     "execution_count": 18,
     "metadata": {},
     "output_type": "execute_result"
    }
   ],
   "source": [
    "customer_test.head(3)"
   ]
  },
  {
   "cell_type": "code",
   "execution_count": 19,
   "metadata": {},
   "outputs": [
    {
     "data": {
      "text/html": [
       "<div>\n",
       "<style scoped>\n",
       "    .dataframe tbody tr th:only-of-type {\n",
       "        vertical-align: middle;\n",
       "    }\n",
       "\n",
       "    .dataframe tbody tr th {\n",
       "        vertical-align: top;\n",
       "    }\n",
       "\n",
       "    .dataframe thead th {\n",
       "        text-align: right;\n",
       "    }\n",
       "</style>\n",
       "<table border=\"1\" class=\"dataframe\">\n",
       "  <thead>\n",
       "    <tr style=\"text-align: right;\">\n",
       "      <th></th>\n",
       "      <th>customer_id</th>\n",
       "      <th>transaction_month</th>\n",
       "      <th>transaction_day</th>\n",
       "      <th>transaction_amt</th>\n",
       "      <th>merchant_id</th>\n",
       "      <th>merchant_mcc</th>\n",
       "    </tr>\n",
       "  </thead>\n",
       "  <tbody>\n",
       "    <tr>\n",
       "      <td>0</td>\n",
       "      <td>855115</td>\n",
       "      <td>7</td>\n",
       "      <td>3</td>\n",
       "      <td>1500</td>\n",
       "      <td>4554547</td>\n",
       "      <td>5411</td>\n",
       "    </tr>\n",
       "    <tr>\n",
       "      <td>1</td>\n",
       "      <td>997036</td>\n",
       "      <td>6</td>\n",
       "      <td>6</td>\n",
       "      <td>0</td>\n",
       "      <td>1657528</td>\n",
       "      <td>5411</td>\n",
       "    </tr>\n",
       "    <tr>\n",
       "      <td>2</td>\n",
       "      <td>398237</td>\n",
       "      <td>5</td>\n",
       "      <td>24</td>\n",
       "      <td>2500</td>\n",
       "      <td>26375569</td>\n",
       "      <td>5813</td>\n",
       "    </tr>\n",
       "  </tbody>\n",
       "</table>\n",
       "</div>"
      ],
      "text/plain": [
       "   customer_id  transaction_month  transaction_day  transaction_amt  \\\n",
       "0       855115                  7                3             1500   \n",
       "1       997036                  6                6                0   \n",
       "2       398237                  5               24             2500   \n",
       "\n",
       "   merchant_id  merchant_mcc  \n",
       "0      4554547          5411  \n",
       "1      1657528          5411  \n",
       "2     26375569          5813  "
      ]
     },
     "execution_count": 19,
     "metadata": {},
     "output_type": "execute_result"
    }
   ],
   "source": [
    "transactions.head(3)"
   ]
  },
  {
   "cell_type": "code",
   "execution_count": 21,
   "metadata": {},
   "outputs": [
    {
     "data": {
      "text/html": [
       "<div>\n",
       "<style scoped>\n",
       "    .dataframe tbody tr th:only-of-type {\n",
       "        vertical-align: middle;\n",
       "    }\n",
       "\n",
       "    .dataframe tbody tr th {\n",
       "        vertical-align: top;\n",
       "    }\n",
       "\n",
       "    .dataframe thead th {\n",
       "        text-align: right;\n",
       "    }\n",
       "</style>\n",
       "<table border=\"1\" class=\"dataframe\">\n",
       "  <thead>\n",
       "    <tr style=\"text-align: right;\">\n",
       "      <th></th>\n",
       "      <th>story_id</th>\n",
       "      <th>story_json</th>\n",
       "    </tr>\n",
       "  </thead>\n",
       "  <tbody>\n",
       "    <tr>\n",
       "      <td>0</td>\n",
       "      <td>127</td>\n",
       "      <td>{\"guid\":\"770a5bae-0e3f-4a6b-b924-bd87bd51a038\"...</td>\n",
       "    </tr>\n",
       "    <tr>\n",
       "      <td>1</td>\n",
       "      <td>254</td>\n",
       "      <td>{\"guid\":\"64f4c9ef-647b-4e04-b4d4-02297e939388\"...</td>\n",
       "    </tr>\n",
       "    <tr>\n",
       "      <td>2</td>\n",
       "      <td>865</td>\n",
       "      <td>{\"guid\":\"3482206b-d223-4aec-92ba-0150055cd68a\"...</td>\n",
       "    </tr>\n",
       "  </tbody>\n",
       "</table>\n",
       "</div>"
      ],
      "text/plain": [
       "   story_id                                         story_json\n",
       "0       127  {\"guid\":\"770a5bae-0e3f-4a6b-b924-bd87bd51a038\"...\n",
       "1       254  {\"guid\":\"64f4c9ef-647b-4e04-b4d4-02297e939388\"...\n",
       "2       865  {\"guid\":\"3482206b-d223-4aec-92ba-0150055cd68a\"..."
      ]
     },
     "execution_count": 21,
     "metadata": {},
     "output_type": "execute_result"
    }
   ],
   "source": [
    "stories_description.head(3)"
   ]
  },
  {
   "cell_type": "markdown",
   "metadata": {},
   "source": [
    "# Customers files review"
   ]
  },
  {
   "cell_type": "code",
   "execution_count": 32,
   "metadata": {},
   "outputs": [
    {
     "name": "stdout",
     "output_type": "stream",
     "text": [
      "train customer count 50000\n",
      "test customer count 54245\n",
      "intersection customer count 50000\n"
     ]
    }
   ],
   "source": [
    "train_customer_ids = set(customer_train.customer_id.values)\n",
    "test_customer_ids = set(customer_test.customer_id.values)\n",
    "print(f\"train customer count {len(train_customer_ids)}\")\n",
    "print(f\"test customer count {len(test_customer_ids)}\")\n",
    "print(f\"intersection customer count {len(train_customer_ids.intersection(test_customer_ids))}\")"
   ]
  },
  {
   "cell_type": "markdown",
   "metadata": {},
   "source": [
    "Test includes all train ids. Lets check if data the same"
   ]
  },
  {
   "cell_type": "code",
   "execution_count": 50,
   "metadata": {},
   "outputs": [
    {
     "data": {
      "text/plain": [
       "False"
      ]
     },
     "execution_count": 50,
     "metadata": {},
     "output_type": "execute_result"
    }
   ],
   "source": [
    "customer_test_subset = customer_test[customer_test.customer_id.isin(train_customer_ids)].reset_index(drop=True)\n",
    "customer_test_subset.equals(customer_train)"
   ]
  },
  {
   "cell_type": "markdown",
   "metadata": {},
   "source": [
    "there is a difference, lets find in"
   ]
  },
  {
   "cell_type": "code",
   "execution_count": 83,
   "metadata": {},
   "outputs": [],
   "source": [
    "def pd_column_diff(column_name, return_count = 1):\n",
    "    test_field = customer_test_subset[['customer_id', column_name]]\n",
    "    train_field = customer_train[['customer_id', column_name]]\n",
    "    diff = pd.concat([test_field,train_field]).drop_duplicates(keep=False)\n",
    "    print(f'{column_name} diff_count = {len(diff)}')\n",
    "    return list(diff.customer_id)[:return_count]"
   ]
  },
  {
   "cell_type": "code",
   "execution_count": 84,
   "metadata": {},
   "outputs": [
    {
     "name": "stdout",
     "output_type": "stream",
     "text": [
      "product_0 diff_count = 320\n",
      "product_1 diff_count = 1922\n",
      "product_2 diff_count = 1368\n",
      "product_3 diff_count = 1448\n",
      "product_4 diff_count = 1328\n",
      "product_5 diff_count = 2884\n",
      "product_6 diff_count = 418\n",
      "gender_cd diff_count = 278\n",
      "age diff_count = 3842\n",
      "marital_status_cd diff_count = 2234\n",
      "children_cnt diff_count = 716\n",
      "first_session_dttm diff_count = 0\n",
      "job_position_cd diff_count = 7792\n",
      "job_title diff_count = 9846\n"
     ]
    }
   ],
   "source": [
    "for column in list(customer_train.columns)[1:]:\n",
    "    pd_column_diff(column, 0)"
   ]
  },
  {
   "cell_type": "markdown",
   "metadata": {},
   "source": [
    "lets check it"
   ]
  },
  {
   "cell_type": "code",
   "execution_count": 91,
   "metadata": {},
   "outputs": [
    {
     "name": "stdout",
     "output_type": "stream",
     "text": [
      "children_cnt diff_count = 716\n",
      "37301    0.0\n",
      "Name: children_cnt, dtype: float64\n",
      "209    1.0\n",
      "Name: children_cnt, dtype: float64\n"
     ]
    }
   ],
   "source": [
    "children_cnt_id = pd_column_diff('children_cnt')[0]\n",
    "print(customer_train[customer_train.customer_id == children_cnt_id].children_cnt)\n",
    "print(customer_test[customer_test.customer_id == children_cnt_id].children_cnt)"
   ]
  },
  {
   "cell_type": "markdown",
   "metadata": {},
   "source": [
    "Hmmm... found difference. Must be the provided customer state is at the reaction moment"
   ]
  },
  {
   "cell_type": "code",
   "execution_count": 152,
   "metadata": {},
   "outputs": [
    {
     "name": "stdout",
     "output_type": "stream",
     "text": [
      "count customer who made reaction in train 41001\n",
      "count customer who made reaction in test 22646\n",
      "intersection customers who made reaction 14260\n",
      "union customers who made reaction 49387\n"
     ]
    }
   ],
   "source": [
    "stories_reaction_train_ids = set(stories_reaction_train.customer_id)\n",
    "stories_reaction_test_ids = set(stories_reaction_test.customer_id)\n",
    "print(f\"count customer who made reaction in train {len(stories_reaction_train_ids)}\")\n",
    "print(f\"count customer who made reaction in test {len(stories_reaction_test_ids)}\")\n",
    "print(f\"intersection customers who made reaction {len(stories_reaction_train_ids.intersection(stories_reaction_test_ids))}\")\n",
    "all_customers_in_train_test = stories_reaction_train_ids.union(stories_reaction_test_ids)\n",
    "print(f\"union customers who made reaction {len(all_customers_in_train_test)}\")"
   ]
  },
  {
   "cell_type": "markdown",
   "metadata": {},
   "source": [
    "So why do they provide 54245 customers if there are only 49387 who made reaction??"
   ]
  },
  {
   "cell_type": "code",
   "execution_count": 142,
   "metadata": {},
   "outputs": [
    {
     "name": "stdout",
     "output_type": "stream",
     "text": [
      "count story_id  913\n",
      "count story_id who made reaction in test 802\n",
      "intersection story_id 670\n",
      "union story_id 1045\n"
     ]
    }
   ],
   "source": [
    "stories_reaction_train_ids = set(stories_reaction_train.story_id)\n",
    "stories_reaction_test_ids = set(stories_reaction_test.story_id)\n",
    "print(f\"count story_id  {len(stories_reaction_train_ids)}\")\n",
    "print(f\"count story_id who made reaction in test {len(stories_reaction_test_ids)}\")\n",
    "print(f\"intersection story_id {len(stories_reaction_train_ids.intersection(stories_reaction_test_ids))}\")\n",
    "print(f\"union story_id {len(stories_reaction_train_ids.union(stories_reaction_test_ids))}\")"
   ]
  },
  {
   "cell_type": "code",
   "execution_count": 143,
   "metadata": {},
   "outputs": [
    {
     "name": "stdout",
     "output_type": "stream",
     "text": [
      "union story_id 1045 while sories description count 959\n"
     ]
    }
   ],
   "source": [
    "print(f'union story_id 1045 while sories description count {len(stories_description)}')\n"
   ]
  },
  {
   "cell_type": "code",
   "execution_count": 141,
   "metadata": {},
   "outputs": [
    {
     "data": {
      "image/png": "[encoded data removed]",
      "text/plain": [
       "<Figure size 432x288 with 1 Axes>"
      ]
     },
     "metadata": {
      "needs_background": "light"
     },
     "output_type": "display_data"
    }
   ],
   "source": [
    "train_dates = stories_reaction_train['event_dttm']\n",
    "train_dates = pd.to_datetime(train_dates,infer_datetime_format=True).astype(np.int64)\n",
    "test_dates = stories_reaction_test['event_dttm']\n",
    "test_dates = pd.to_datetime(test_dates,infer_datetime_format=True).astype(np.int64) \n",
    "plt.hist(train_dates.astype(np.int64) , label='train');\n",
    "plt.hist(test_dates, label='test');\n",
    "plt.legend();\n",
    "plt.title('Distribution of reaction dates');"
   ]
  },
  {
   "cell_type": "code",
   "execution_count": 155,
   "metadata": {},
   "outputs": [
    {
     "name": "stdout",
     "output_type": "stream",
     "text": [
      "customers in transctions 46948\n",
      "customers in transctions and in reactions 43036\n"
     ]
    }
   ],
   "source": [
    "transactions_customers = set(transactions.customer_id.values)\n",
    "print(f'customers in transctions {len(transactions_customers)}')\n",
    "print(f'customers in transctions and in reactions {len(all_customers_in_train_test.intersection(transactions_customers))}')\n",
    "\n"
   ]
  },
  {
   "cell_type": "code",
   "execution_count": null,
   "metadata": {},
   "outputs": [],
   "source": [
    "?? customer may have only view but not like and other reactions??\n",
    "?? "
   ]
  }
 ],
 "metadata": {
  "kernelspec": {
   "display_name": "Python 3",
   "language": "python",
   "name": "python3"
  },
  "language_info": {
   "codemirror_mode": {
    "name": "ipython",
    "version": 3
   },
   "file_extension": ".py",
   "mimetype": "text/x-python",
   "name": "python",
   "nbconvert_exporter": "python",
   "pygments_lexer": "ipython3",
   "version": "3.6.8"
  }
 },
 "nbformat": 4,
 "nbformat_minor": 2
}
