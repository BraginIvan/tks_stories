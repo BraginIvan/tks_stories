{
 "cells": [
  {
   "cell_type": "code",
   "execution_count": 1,
   "metadata": {},
   "outputs": [
    {
     "name": "stderr",
     "output_type": "stream",
     "text": [
      "Using TensorFlow backend.\n",
      "/home/ivan/projects/tks_stories/venv/lib/python3.6/site-packages/tensorflow/python/framework/dtypes.py:516: FutureWarning: Passing (type, 1) or '1type' as a synonym of type is deprecated; in a future version of numpy, it will be understood as (type, (1,)) / '(1,)type'.\n",
      "  _np_qint8 = np.dtype([(\"qint8\", np.int8, 1)])\n",
      "/home/ivan/projects/tks_stories/venv/lib/python3.6/site-packages/tensorflow/python/framework/dtypes.py:517: FutureWarning: Passing (type, 1) or '1type' as a synonym of type is deprecated; in a future version of numpy, it will be understood as (type, (1,)) / '(1,)type'.\n",
      "  _np_quint8 = np.dtype([(\"quint8\", np.uint8, 1)])\n",
      "/home/ivan/projects/tks_stories/venv/lib/python3.6/site-packages/tensorflow/python/framework/dtypes.py:518: FutureWarning: Passing (type, 1) or '1type' as a synonym of type is deprecated; in a future version of numpy, it will be understood as (type, (1,)) / '(1,)type'.\n",
      "  _np_qint16 = np.dtype([(\"qint16\", np.int16, 1)])\n",
      "/home/ivan/projects/tks_stories/venv/lib/python3.6/site-packages/tensorflow/python/framework/dtypes.py:519: FutureWarning: Passing (type, 1) or '1type' as a synonym of type is deprecated; in a future version of numpy, it will be understood as (type, (1,)) / '(1,)type'.\n",
      "  _np_quint16 = np.dtype([(\"quint16\", np.uint16, 1)])\n",
      "/home/ivan/projects/tks_stories/venv/lib/python3.6/site-packages/tensorflow/python/framework/dtypes.py:520: FutureWarning: Passing (type, 1) or '1type' as a synonym of type is deprecated; in a future version of numpy, it will be understood as (type, (1,)) / '(1,)type'.\n",
      "  _np_qint32 = np.dtype([(\"qint32\", np.int32, 1)])\n",
      "/home/ivan/projects/tks_stories/venv/lib/python3.6/site-packages/tensorflow/python/framework/dtypes.py:525: FutureWarning: Passing (type, 1) or '1type' as a synonym of type is deprecated; in a future version of numpy, it will be understood as (type, (1,)) / '(1,)type'.\n",
      "  np_resource = np.dtype([(\"resource\", np.ubyte, 1)])\n",
      "/home/ivan/projects/tks_stories/venv/lib/python3.6/site-packages/tensorboard/compat/tensorflow_stub/dtypes.py:541: FutureWarning: Passing (type, 1) or '1type' as a synonym of type is deprecated; in a future version of numpy, it will be understood as (type, (1,)) / '(1,)type'.\n",
      "  _np_qint8 = np.dtype([(\"qint8\", np.int8, 1)])\n",
      "/home/ivan/projects/tks_stories/venv/lib/python3.6/site-packages/tensorboard/compat/tensorflow_stub/dtypes.py:542: FutureWarning: Passing (type, 1) or '1type' as a synonym of type is deprecated; in a future version of numpy, it will be understood as (type, (1,)) / '(1,)type'.\n",
      "  _np_quint8 = np.dtype([(\"quint8\", np.uint8, 1)])\n",
      "/home/ivan/projects/tks_stories/venv/lib/python3.6/site-packages/tensorboard/compat/tensorflow_stub/dtypes.py:543: FutureWarning: Passing (type, 1) or '1type' as a synonym of type is deprecated; in a future version of numpy, it will be understood as (type, (1,)) / '(1,)type'.\n",
      "  _np_qint16 = np.dtype([(\"qint16\", np.int16, 1)])\n",
      "/home/ivan/projects/tks_stories/venv/lib/python3.6/site-packages/tensorboard/compat/tensorflow_stub/dtypes.py:544: FutureWarning: Passing (type, 1) or '1type' as a synonym of type is deprecated; in a future version of numpy, it will be understood as (type, (1,)) / '(1,)type'.\n",
      "  _np_quint16 = np.dtype([(\"quint16\", np.uint16, 1)])\n",
      "/home/ivan/projects/tks_stories/venv/lib/python3.6/site-packages/tensorboard/compat/tensorflow_stub/dtypes.py:545: FutureWarning: Passing (type, 1) or '1type' as a synonym of type is deprecated; in a future version of numpy, it will be understood as (type, (1,)) / '(1,)type'.\n",
      "  _np_qint32 = np.dtype([(\"qint32\", np.int32, 1)])\n",
      "/home/ivan/projects/tks_stories/venv/lib/python3.6/site-packages/tensorboard/compat/tensorflow_stub/dtypes.py:550: FutureWarning: Passing (type, 1) or '1type' as a synonym of type is deprecated; in a future version of numpy, it will be understood as (type, (1,)) / '(1,)type'.\n",
      "  np_resource = np.dtype([(\"resource\", np.ubyte, 1)])\n"
     ]
    }
   ],
   "source": [
    "import pandas as pd\n",
    "import numpy as np\n",
    "from catboost import CatBoostClassifier, Pool,CatBoost, CatBoostRegressor\n",
    "from collections import Counter\n",
    "from keras.layers import Dense, Dropout, Embedding, Input, Reshape, Concatenate, Input, Flatten\n",
    "from keras.models import Model\n",
    "from keras import optimizers\n",
    "from keras import regularizers\n",
    "import json\n",
    "import re"
   ]
  },
  {
   "cell_type": "code",
   "execution_count": 2,
   "metadata": {},
   "outputs": [],
   "source": [
    "def jsons_name_type(jsons_name):\n",
    "    if not jsons_name:\n",
    "        return -1\n",
    "    if \"Цифра дня\" in jsons_name:\n",
    "        return 1\n",
    "    if \"AliExpress\" in jsons_name:\n",
    "        return 2 \n",
    "    if \"Тинькофф\" in jsons_name or \"Tinkoff\" in jsons_name:\n",
    "        return 3\n",
    "    if \"ЧМ\" in jsons_name:\n",
    "        return 4\n",
    "    if \"фильм\"  in jsons_name or \"смотрет\"  in jsons_name:\n",
    "        return 5\n",
    "    if \"кредит\"  in jsons_name:\n",
    "        return 6\n",
    "    if \"инвестиц\"  in jsons_name:\n",
    "        return 7\n",
    "    if \"₽\"  in jsons_name or \"$\"  in jsons_name:\n",
    "        return 8\n",
    "    if \"тпуск\"  in jsons_name:\n",
    "        return 9\n",
    "    return 0"
   ]
  },
  {
   "cell_type": "code",
   "execution_count": 3,
   "metadata": {},
   "outputs": [],
   "source": [
    "data_path = 'dataset/'\n",
    "customer_train = pd.read_csv(f'{data_path}customer_train.csv')\n",
    "customer_test = pd.read_csv(f'{data_path}customer_test.csv')\n",
    "stories_description = pd.read_csv(f'{data_path}stories_description.csv')\n",
    "stories_reaction_test = pd.read_csv(f'{data_path}stories_reaction_test.csv')\n",
    "stories_reaction_test['event_dttm']=pd.to_datetime(stories_reaction_test['event_dttm'],infer_datetime_format=True)\n",
    "stories_reaction_train = pd.read_csv(f'{data_path}stories_reaction_train.csv')\n",
    "stories_reaction_train['event_dttm']=pd.to_datetime(stories_reaction_train['event_dttm'],infer_datetime_format=True)\n",
    "transactions = pd.read_csv(f'{data_path}transactions.csv')\n",
    "\n",
    "\n",
    "sample_submit = pd.read_csv(f'{data_path}sample_submit.csv')"
   ]
  },
  {
   "cell_type": "code",
   "execution_count": 4,
   "metadata": {},
   "outputs": [],
   "source": [
    "stories_reaction_train['reaction_hour']=stories_reaction_train.event_dttm.dt.hour\n",
    "stories_reaction_test['reaction_hour']=stories_reaction_test.event_dttm.dt.hour\n",
    "stories_reaction_train['reaction_dayofweek']=stories_reaction_train.event_dttm.dt.dayofweek\n",
    "stories_reaction_test['reaction_dayofweek']=stories_reaction_test.event_dttm.dt.dayofweek\n",
    "\n",
    "stories_description['jsons'] = stories_description.story_json.map(lambda x:json.loads(x.replace(\"\\\\\\\\\", \"\\\\\")))\n",
    "stories_description['jsons_name'] =stories_description.jsons.map(lambda x:x['properties'].get('name'))\n",
    "stories_description['texts'] =stories_description.jsons.map(lambda x:re.findall(\"\"\"\"text\": \\\"([^\\\"]*)\\\",\"\"\", json.dumps(x, ensure_ascii=False)))\n",
    "stories_description['jsons_name_type'] = stories_description.jsons_name.map(lambda x:jsons_name_type(x))"
   ]
  },
  {
   "cell_type": "code",
   "execution_count": 5,
   "metadata": {},
   "outputs": [],
   "source": [
    "train = stories_reaction_train.merge(customer_train, on='customer_id', how='left')\n",
    "train = train.merge(stories_description, on='story_id', how='left')\n",
    "\n",
    "val = stories_reaction_test.merge(customer_test, on='customer_id', how='left')\n",
    "val = val.merge(stories_description, on='story_id', how='left')\n",
    "\n",
    "train=train.fillna(0)\n",
    "val=val.fillna(0)\n",
    "# train_and_val.fillnull(0)\n"
   ]
  },
  {
   "cell_type": "code",
   "execution_count": 6,
   "metadata": {},
   "outputs": [
    {
     "name": "stderr",
     "output_type": "stream",
     "text": [
      "/home/ivan/projects/tks_stories/venv/lib/python3.6/site-packages/ipykernel_launcher.py:1: FutureWarning: Sorting because non-concatenation axis is not aligned. A future version\n",
      "of pandas will change to not sort by default.\n",
      "\n",
      "To accept the future behavior, pass 'sort=False'.\n",
      "\n",
      "To retain the current behavior and silence the warning, pass 'sort=True'.\n",
      "\n",
      "  \"\"\"Entry point for launching an IPython kernel.\n"
     ]
    }
   ],
   "source": [
    "train_and_val = pd.concat([train,val])"
   ]
  },
  {
   "cell_type": "code",
   "execution_count": 7,
   "metadata": {},
   "outputs": [
    {
     "data": {
      "text/plain": [
       "(473141, 172049, 645190)"
      ]
     },
     "execution_count": 7,
     "metadata": {},
     "output_type": "execute_result"
    }
   ],
   "source": [
    "len(train), len(val) , len(train_and_val) "
   ]
  },
  {
   "cell_type": "code",
   "execution_count": 8,
   "metadata": {},
   "outputs": [],
   "source": [
    "\n",
    "train['gender_cd']=train.gender_cd.map(lambda x: 1 if x ==\"M\" else(0 if x ==\"F\" else -1))\n",
    "val['gender_cd']=val.gender_cd.map(lambda x: 1 if x ==\"M\" else(0 if x ==\"F\" else -1))\n",
    "train['age']=train.age/100\n",
    "val['age']=val.age/100"
   ]
  },
  {
   "cell_type": "code",
   "execution_count": 10,
   "metadata": {},
   "outputs": [],
   "source": [
    "def to_OHE(field):\n",
    "    count = len(set(train_and_val[field].values))\n",
    "    d = dict(zip(list(set(train_and_val[field].values)), range(1, count+1)))\n",
    "    train[field]=train[field].map(lambda x:  d[x])\n",
    "    val[field]=val[field].map(lambda x:  d[x])\n",
    "    return count\n",
    "customers_count = to_OHE('customer_id')\n",
    "marital_status_count = to_OHE('marital_status_cd')\n",
    "stories_count = to_OHE('story_id')\n",
    "job_position_count = to_OHE('job_position_cd')\n",
    "job_title_count = to_OHE('job_title')\n",
    "jsons_name_type_count = to_OHE('jsons_name_type')\n",
    "\n",
    "\n"
   ]
  },
  {
   "cell_type": "code",
   "execution_count": 11,
   "metadata": {},
   "outputs": [],
   "source": [
    "values = set(train_and_val[['product_0', 'product_1', 'product_2', 'product_3', 'product_4', 'product_5', 'product_6']].values.reshape(-1))\n",
    "producs_count = len(values)\n",
    "d = dict(zip(list(values), range(1, len(values)+1)))\n",
    "for f in ['product_0', 'product_1', 'product_2', 'product_3', 'product_4', 'product_5', 'product_6']:\n",
    "    train[f]=train[f].map(lambda x:  d[x])\n",
    "    val[f]=val[f].map(lambda x:  d[x])"
   ]
  },
  {
   "cell_type": "code",
   "execution_count": 12,
   "metadata": {},
   "outputs": [],
   "source": [
    "# customers_count = len(set(train_and_val.customer_id.values))\n",
    "# marital_status_count = len(set(train_and_val.marital_status_cd.values))\n",
    "# stories_count = len(set(train_and_val.story_id.values))\n",
    "# job_position_count = len(set(train_and_val.job_position_cd.values))\n",
    "# job_position_count = len(set(train_and_val.job_position_cd.values))\n",
    "\n",
    "\n",
    "# customers_dict = dict(zip(sorted(list(set(train_and_val.customer_id.values))), range(1, customers_count+1)))\n",
    "# stories_dict = dict(zip(sorted(list(set(train_and_val.story_id.values))), range(1, stories_count+1)))\n",
    "# job_position_dict = dict(zip(sorted(list(set(train_and_val.job_position_cd.values))), range(1, job_position_count+1)))\n",
    "# marital_status_dict = dict(zip(sorted(list(set(train_and_val.marital_status_cd.values))), range(1, marital_status_count+1)))\n",
    "\n",
    "# train['customer_id']=train.customer_id.map(lambda x:  customers_dict[x])\n",
    "# train['story_id']=train.story_id.map(lambda x:  stories_dict[x])\n",
    "# train['job_position_cd']=train.job_position_cd.map(lambda x:  job_position_dict[x])\n",
    "# train['marital_status_cd']=train.marital_status_cd.map(lambda x:  marital_status_dict[x])\n",
    "\n",
    "# val['customer_id']=val.customer_id.map(lambda x:  customers_dict[x])\n",
    "# val['story_id']=val.story_id.map(lambda x:  stories_dict[x])\n",
    "# val['job_position_cd']=val.job_position_cd.map(lambda x:  job_position_dict[x])\n",
    "# val['marital_status_cd']=val.marital_status_cd.map(lambda x:  marital_status_dict[x])\n"
   ]
  },
  {
   "cell_type": "code",
   "execution_count": 13,
   "metadata": {},
   "outputs": [
    {
     "data": {
      "text/plain": [
       "50000     2013-12-30 18:03:33\n",
       "50001     2013-12-30 18:03:33\n",
       "50002     2013-12-30 18:03:33\n",
       "50003     2013-12-30 18:03:33\n",
       "50004     2013-12-30 18:03:33\n",
       "                 ...         \n",
       "473136                      0\n",
       "473137                      0\n",
       "473138                      0\n",
       "473139                      0\n",
       "473140                      0\n",
       "Name: first_session_dttm, Length: 423141, dtype: object"
      ]
     },
     "execution_count": 13,
     "metadata": {},
     "output_type": "execute_result"
    }
   ],
   "source": [
    "train.first_session_dttm[50000:]"
   ]
  },
  {
   "cell_type": "code",
   "execution_count": 14,
   "metadata": {},
   "outputs": [],
   "source": [
    "import keras.backend as K\n",
    "def metric_loss(batch_size):\n",
    "    def the_loss(y_true, y_pred):\n",
    "\n",
    "        return -(len(val.customer_id.values)/batch_size)*K.sum(y_true*y_pred)/40441.4\n",
    "    return(the_loss)\n",
    "# /K.mean(K.abs(y_true))\n",
    "# /K.sum(K.abs(y_true))\n",
    "\n",
    "#     return -K.sum(y_true*y_pred)/K.sum(K.abs(y_true))\n",
    "#     return K.sum(y_true*[10,0.5,0.1,0.1]*y_pred)/K.sum(y_true*[-10,0.5,0.1,-0.1])"
   ]
  },
  {
   "cell_type": "code",
   "execution_count": null,
   "metadata": {},
   "outputs": [],
   "source": []
  },
  {
   "cell_type": "code",
   "execution_count": 15,
   "metadata": {},
   "outputs": [
    {
     "ename": "AttributeError",
     "evalue": "'DataFrame' object has no attribute 'event'",
     "output_type": "error",
     "traceback": [
      "\u001b[0;31m---------------------------------------------------------------------------\u001b[0m",
      "\u001b[0;31mAttributeError\u001b[0m                            Traceback (most recent call last)",
      "\u001b[0;32m<ipython-input-15-c586cb82be0b>\u001b[0m in \u001b[0;36m<module>\u001b[0;34m\u001b[0m\n\u001b[1;32m      9\u001b[0m         \u001b[0;32mreturn\u001b[0m \u001b[0;34m-\u001b[0m\u001b[0;36m0.1\u001b[0m\u001b[0;34m\u001b[0m\u001b[0;34m\u001b[0m\u001b[0m\n\u001b[1;32m     10\u001b[0m \u001b[0mtrainY\u001b[0m \u001b[0;34m=\u001b[0m \u001b[0mnp\u001b[0m\u001b[0;34m.\u001b[0m\u001b[0marray\u001b[0m\u001b[0;34m(\u001b[0m\u001b[0mlist\u001b[0m\u001b[0;34m(\u001b[0m\u001b[0mtrain\u001b[0m\u001b[0;34m.\u001b[0m\u001b[0mevent\u001b[0m\u001b[0;34m.\u001b[0m\u001b[0mmap\u001b[0m\u001b[0;34m(\u001b[0m\u001b[0;32mlambda\u001b[0m \u001b[0mx\u001b[0m\u001b[0;34m:\u001b[0m \u001b[0mreaction_to_class\u001b[0m\u001b[0;34m(\u001b[0m\u001b[0mx\u001b[0m\u001b[0;34m)\u001b[0m\u001b[0;34m)\u001b[0m\u001b[0;34m.\u001b[0m\u001b[0mvalues\u001b[0m\u001b[0;34m)\u001b[0m\u001b[0;34m)\u001b[0m\u001b[0;34m\u001b[0m\u001b[0;34m\u001b[0m\u001b[0m\n\u001b[0;32m---> 11\u001b[0;31m \u001b[0mvalY\u001b[0m \u001b[0;34m=\u001b[0m \u001b[0mnp\u001b[0m\u001b[0;34m.\u001b[0m\u001b[0marray\u001b[0m\u001b[0;34m(\u001b[0m\u001b[0mlist\u001b[0m\u001b[0;34m(\u001b[0m\u001b[0mval\u001b[0m\u001b[0;34m.\u001b[0m\u001b[0mevent\u001b[0m\u001b[0;34m.\u001b[0m\u001b[0mmap\u001b[0m\u001b[0;34m(\u001b[0m\u001b[0;32mlambda\u001b[0m \u001b[0mx\u001b[0m\u001b[0;34m:\u001b[0m \u001b[0mreaction_to_class\u001b[0m\u001b[0;34m(\u001b[0m\u001b[0mx\u001b[0m\u001b[0;34m)\u001b[0m\u001b[0;34m)\u001b[0m\u001b[0;34m.\u001b[0m\u001b[0mvalues\u001b[0m\u001b[0;34m)\u001b[0m\u001b[0;34m)\u001b[0m\u001b[0;34m\u001b[0m\u001b[0;34m\u001b[0m\u001b[0m\n\u001b[0m",
      "\u001b[0;32m~/projects/tks_stories/venv/lib/python3.6/site-packages/pandas/core/generic.py\u001b[0m in \u001b[0;36m__getattr__\u001b[0;34m(self, name)\u001b[0m\n\u001b[1;32m   5177\u001b[0m             \u001b[0;32mif\u001b[0m \u001b[0mself\u001b[0m\u001b[0;34m.\u001b[0m\u001b[0m_info_axis\u001b[0m\u001b[0;34m.\u001b[0m\u001b[0m_can_hold_identifiers_and_holds_name\u001b[0m\u001b[0;34m(\u001b[0m\u001b[0mname\u001b[0m\u001b[0;34m)\u001b[0m\u001b[0;34m:\u001b[0m\u001b[0;34m\u001b[0m\u001b[0;34m\u001b[0m\u001b[0m\n\u001b[1;32m   5178\u001b[0m                 \u001b[0;32mreturn\u001b[0m \u001b[0mself\u001b[0m\u001b[0;34m[\u001b[0m\u001b[0mname\u001b[0m\u001b[0;34m]\u001b[0m\u001b[0;34m\u001b[0m\u001b[0;34m\u001b[0m\u001b[0m\n\u001b[0;32m-> 5179\u001b[0;31m             \u001b[0;32mreturn\u001b[0m \u001b[0mobject\u001b[0m\u001b[0;34m.\u001b[0m\u001b[0m__getattribute__\u001b[0m\u001b[0;34m(\u001b[0m\u001b[0mself\u001b[0m\u001b[0;34m,\u001b[0m \u001b[0mname\u001b[0m\u001b[0;34m)\u001b[0m\u001b[0;34m\u001b[0m\u001b[0;34m\u001b[0m\u001b[0m\n\u001b[0m\u001b[1;32m   5180\u001b[0m \u001b[0;34m\u001b[0m\u001b[0m\n\u001b[1;32m   5181\u001b[0m     \u001b[0;32mdef\u001b[0m \u001b[0m__setattr__\u001b[0m\u001b[0;34m(\u001b[0m\u001b[0mself\u001b[0m\u001b[0;34m,\u001b[0m \u001b[0mname\u001b[0m\u001b[0;34m,\u001b[0m \u001b[0mvalue\u001b[0m\u001b[0;34m)\u001b[0m\u001b[0;34m:\u001b[0m\u001b[0;34m\u001b[0m\u001b[0;34m\u001b[0m\u001b[0m\n",
      "\u001b[0;31mAttributeError\u001b[0m: 'DataFrame' object has no attribute 'event'"
     ]
    }
   ],
   "source": [
    "def reaction_to_class(reaction):\n",
    "    if reaction==\"dislike\":\n",
    "        return -10\n",
    "    if reaction==\"like\":\n",
    "        return 0.5\n",
    "    if reaction==\"view\":\n",
    "        return 0.1\n",
    "    if reaction==\"skip\":\n",
    "        return -0.1\n",
    "trainY = np.array(list(train.event.map(lambda x: reaction_to_class(x)).values))\n",
    "valY = np.array(list(val.event.map(lambda x: reaction_to_class(x)).values))"
   ]
  },
  {
   "cell_type": "code",
   "execution_count": 16,
   "metadata": {},
   "outputs": [
    {
     "name": "stdout",
     "output_type": "stream",
     "text": [
      "Model: \"model_1\"\n",
      "__________________________________________________________________________________________________\n",
      "Layer (type)                    Output Shape         Param #     Connected to                     \n",
      "==================================================================================================\n",
      "customer_id (InputLayer)        (None, 1)            0                                            \n",
      "__________________________________________________________________________________________________\n",
      "story_id (InputLayer)           (None, 1)            0                                            \n",
      "__________________________________________________________________________________________________\n",
      "job_title_id (InputLayer)       (None, 1)            0                                            \n",
      "__________________________________________________________________________________________________\n",
      "story_name_id (InputLayer)      (None, 1)            0                                            \n",
      "__________________________________________________________________________________________________\n",
      "embedding_1 (Embedding)         (None, 1, 4)         197548      customer_id[0][0]                \n",
      "__________________________________________________________________________________________________\n",
      "embedding_2 (Embedding)         (None, 1, 2)         2090        story_id[0][0]                   \n",
      "__________________________________________________________________________________________________\n",
      "embedding_3 (Embedding)         (None, 1, 2)         14534       job_title_id[0][0]               \n",
      "__________________________________________________________________________________________________\n",
      "embedding_4 (Embedding)         (None, 1, 2)         22          story_name_id[0][0]              \n",
      "__________________________________________________________________________________________________\n",
      "flatten_1 (Flatten)             (None, 4)            0           embedding_1[0][0]                \n",
      "__________________________________________________________________________________________________\n",
      "flatten_2 (Flatten)             (None, 2)            0           embedding_2[0][0]                \n",
      "__________________________________________________________________________________________________\n",
      "flatten_3 (Flatten)             (None, 2)            0           embedding_3[0][0]                \n",
      "__________________________________________________________________________________________________\n",
      "flatten_4 (Flatten)             (None, 2)            0           embedding_4[0][0]                \n",
      "__________________________________________________________________________________________________\n",
      "customer_data (InputLayer)      (None, 2)            0                                            \n",
      "__________________________________________________________________________________________________\n",
      "concatenate_1 (Concatenate)     (None, 12)           0           flatten_1[0][0]                  \n",
      "                                                                 flatten_2[0][0]                  \n",
      "                                                                 flatten_3[0][0]                  \n",
      "                                                                 flatten_4[0][0]                  \n",
      "                                                                 customer_data[0][0]              \n",
      "__________________________________________________________________________________________________\n",
      "dense_1 (Dense)                 (None, 8)            104         concatenate_1[0][0]              \n",
      "__________________________________________________________________________________________________\n",
      "dense_2 (Dense)                 (None, 1)            9           dense_1[0][0]                    \n",
      "==================================================================================================\n",
      "Total params: 214,307\n",
      "Trainable params: 214,307\n",
      "Non-trainable params: 0\n",
      "__________________________________________________________________________________________________\n",
      "None\n"
     ]
    }
   ],
   "source": [
    "model_input_customer = Input((1,), name='customer_id')\n",
    "x1 = Embedding(customers_count, 4, input_length=1)(model_input_customer)\n",
    "x1 = Flatten()(x1)\n",
    "\n",
    "model_input_story = Input((1,), name='story_id')\n",
    "x2 = Embedding(stories_count, 2, input_length=1)(model_input_story)\n",
    "x2 = Flatten()(x2)\n",
    "\n",
    "# model_input_job = Input((1,), name='job_id')\n",
    "# x3 = Embedding(job_position_count, 1, input_length=1)(model_input_job)\n",
    "# x3 = Flatten()(x3)\n",
    "\n",
    "\n",
    "model_input_job_title = Input((1,), name='job_title_id')\n",
    "x4 = Embedding(job_title_count, 2, input_length=1)(model_input_job_title)\n",
    "x4 = Flatten()(x4)\n",
    "\n",
    "# model_input_products = Input((7,), name='producs')\n",
    "# x5 = Embedding(producs_count, 8, input_length=7)(model_input_products)\n",
    "# x5 = Flatten()(x5)\n",
    "\n",
    "model_input_story_name = Input((1,), name='story_name_id')\n",
    "x6 = Embedding(jsons_name_type_count, 2, input_length=1)(model_input_story_name)\n",
    "x6 = Flatten()(x6)\n",
    "\n",
    "model_input_3 = Input((2,), name='customer_data')\n",
    "# model_input_4 = Input((2,), name='customer_data2')\n",
    "\n",
    "x = Concatenate()([x1, x2, x4, x6, model_input_3])\n",
    "\n",
    "x = Dense(8, activation='tanh', \n",
    "#           kernel_regularizer=regularizers.l2(0.0000001)\n",
    "         )(x)\n",
    "# x = Dense(64, activation='tanh')(x)\n",
    "\n",
    "# x = Dropout(0.5)(x)\n",
    "\n",
    "\n",
    "# x = Concatenate()([x, model_input_3])\n",
    "\n",
    "# x = Dense(4, activation='tanh')(x)\n",
    "\n",
    "\n",
    "x = Dense(1, activation='tanh')(x)\n",
    "model = Model([model_input_customer, \n",
    "               model_input_story, \n",
    "               model_input_story_name,\n",
    "               model_input_job_title,\n",
    "#                model_input_job, \n",
    "               model_input_3,\n",
    "#                model_input_4, \n",
    "#                model_input_products\n",
    "              ], x)\n",
    "# model = Model(model_input, x)\n",
    "\n",
    "\n",
    "\n",
    "\n",
    "\n",
    "print(model.summary())"
   ]
  },
  {
   "cell_type": "code",
   "execution_count": 17,
   "metadata": {},
   "outputs": [
    {
     "data": {
      "text/plain": [
       "172049"
      ]
     },
     "execution_count": 17,
     "metadata": {},
     "output_type": "execute_result"
    }
   ],
   "source": [
    "len(val.customer_id.values)"
   ]
  },
  {
   "cell_type": "code",
   "execution_count": 18,
   "metadata": {},
   "outputs": [],
   "source": [
    "# batch_size=320248\n",
    "batch_size=64\n",
    "adam = optimizers.Adam(lr=0.001)\n",
    "model.compile(optimizer=adam, loss=metric_loss(batch_size))\n"
   ]
  },
  {
   "cell_type": "code",
   "execution_count": 19,
   "metadata": {
    "scrolled": true
   },
   "outputs": [
    {
     "name": "stdout",
     "output_type": "stream",
     "text": [
      "WARNING:tensorflow:From /home/ivan/projects/tks_stories/venv/lib/python3.6/site-packages/keras/backend/tensorflow_backend.py:422: The name tf.global_variables is deprecated. Please use tf.compat.v1.global_variables instead.\n",
      "\n",
      "Epoch 1/30\n",
      "473141/473141 [==============================] - 16s 33us/step - loss: -0.4166\n",
      "Epoch 2/30\n",
      "473141/473141 [==============================] - 15s 32us/step - loss: -0.6406\n",
      "Epoch 3/30\n",
      "473141/473141 [==============================] - 15s 32us/step - loss: -0.6835\n",
      "Epoch 4/30\n",
      " 29120/473141 [>.............................] - ETA: 14s - loss: -0.7631"
     ]
    },
    {
     "ename": "KeyboardInterrupt",
     "evalue": "",
     "output_type": "error",
     "traceback": [
      "\u001b[0;31m---------------------------------------------------------------------------\u001b[0m",
      "\u001b[0;31mKeyboardInterrupt\u001b[0m                         Traceback (most recent call last)",
      "\u001b[0;32m<ipython-input-19-3be2237e100f>\u001b[0m in \u001b[0;36m<module>\u001b[0;34m\u001b[0m\n\u001b[1;32m     14\u001b[0m           \u001b[0my\u001b[0m \u001b[0;34m=\u001b[0m \u001b[0mtrainY\u001b[0m\u001b[0;34m,\u001b[0m\u001b[0;34m\u001b[0m\u001b[0;34m\u001b[0m\u001b[0m\n\u001b[1;32m     15\u001b[0m           \u001b[0mbatch_size\u001b[0m\u001b[0;34m=\u001b[0m\u001b[0mbatch_size\u001b[0m\u001b[0;34m,\u001b[0m\u001b[0;34m\u001b[0m\u001b[0;34m\u001b[0m\u001b[0m\n\u001b[0;32m---> 16\u001b[0;31m           \u001b[0mepochs\u001b[0m\u001b[0;34m=\u001b[0m\u001b[0;36m30\u001b[0m\u001b[0;34m,\u001b[0m\u001b[0;34m\u001b[0m\u001b[0;34m\u001b[0m\u001b[0m\n\u001b[0m\u001b[1;32m     17\u001b[0m \u001b[0;31m#     validation_data = ([val.customer_id.values, val.story_id.values, val[['age', 'gender_cd']].values], valY),\u001b[0m\u001b[0;34m\u001b[0m\u001b[0;34m\u001b[0m\u001b[0;34m\u001b[0m\u001b[0m\n\u001b[1;32m     18\u001b[0m \u001b[0;31m#           validation_data=([val.customer_id.values,\u001b[0m\u001b[0;34m\u001b[0m\u001b[0;34m\u001b[0m\u001b[0;34m\u001b[0m\u001b[0m\n",
      "\u001b[0;32m~/projects/tks_stories/venv/lib/python3.6/site-packages/keras/engine/training.py\u001b[0m in \u001b[0;36mfit\u001b[0;34m(self, x, y, batch_size, epochs, verbose, callbacks, validation_split, validation_data, shuffle, class_weight, sample_weight, initial_epoch, steps_per_epoch, validation_steps, validation_freq, max_queue_size, workers, use_multiprocessing, **kwargs)\u001b[0m\n\u001b[1;32m   1237\u001b[0m                                         \u001b[0msteps_per_epoch\u001b[0m\u001b[0;34m=\u001b[0m\u001b[0msteps_per_epoch\u001b[0m\u001b[0;34m,\u001b[0m\u001b[0;34m\u001b[0m\u001b[0;34m\u001b[0m\u001b[0m\n\u001b[1;32m   1238\u001b[0m                                         \u001b[0mvalidation_steps\u001b[0m\u001b[0;34m=\u001b[0m\u001b[0mvalidation_steps\u001b[0m\u001b[0;34m,\u001b[0m\u001b[0;34m\u001b[0m\u001b[0;34m\u001b[0m\u001b[0m\n\u001b[0;32m-> 1239\u001b[0;31m                                         validation_freq=validation_freq)\n\u001b[0m\u001b[1;32m   1240\u001b[0m \u001b[0;34m\u001b[0m\u001b[0m\n\u001b[1;32m   1241\u001b[0m     def evaluate(self,\n",
      "\u001b[0;32m~/projects/tks_stories/venv/lib/python3.6/site-packages/keras/engine/training_arrays.py\u001b[0m in \u001b[0;36mfit_loop\u001b[0;34m(model, fit_function, fit_inputs, out_labels, batch_size, epochs, verbose, callbacks, val_function, val_inputs, shuffle, initial_epoch, steps_per_epoch, validation_steps, validation_freq)\u001b[0m\n\u001b[1;32m    184\u001b[0m                             fit_inputs[:-1], batch_ids) + [fit_inputs[-1]]\n\u001b[1;32m    185\u001b[0m                     \u001b[0;32melse\u001b[0m\u001b[0;34m:\u001b[0m\u001b[0;34m\u001b[0m\u001b[0;34m\u001b[0m\u001b[0m\n\u001b[0;32m--> 186\u001b[0;31m                         \u001b[0mins_batch\u001b[0m \u001b[0;34m=\u001b[0m \u001b[0mslice_arrays\u001b[0m\u001b[0;34m(\u001b[0m\u001b[0mfit_inputs\u001b[0m\u001b[0;34m,\u001b[0m \u001b[0mbatch_ids\u001b[0m\u001b[0;34m)\u001b[0m\u001b[0;34m\u001b[0m\u001b[0;34m\u001b[0m\u001b[0m\n\u001b[0m\u001b[1;32m    187\u001b[0m                 \u001b[0;32mexcept\u001b[0m \u001b[0mTypeError\u001b[0m\u001b[0;34m:\u001b[0m\u001b[0;34m\u001b[0m\u001b[0;34m\u001b[0m\u001b[0m\n\u001b[1;32m    188\u001b[0m                     raise TypeError('TypeError while preparing batch. '\n",
      "\u001b[0;32m~/projects/tks_stories/venv/lib/python3.6/site-packages/keras/utils/generic_utils.py\u001b[0m in \u001b[0;36mslice_arrays\u001b[0;34m(arrays, start, stop)\u001b[0m\n\u001b[1;32m    553\u001b[0m             \u001b[0;32mif\u001b[0m \u001b[0mhasattr\u001b[0m\u001b[0;34m(\u001b[0m\u001b[0mstart\u001b[0m\u001b[0;34m,\u001b[0m \u001b[0;34m'shape'\u001b[0m\u001b[0;34m)\u001b[0m\u001b[0;34m:\u001b[0m\u001b[0;34m\u001b[0m\u001b[0;34m\u001b[0m\u001b[0m\n\u001b[1;32m    554\u001b[0m                 \u001b[0mstart\u001b[0m \u001b[0;34m=\u001b[0m \u001b[0mstart\u001b[0m\u001b[0;34m.\u001b[0m\u001b[0mtolist\u001b[0m\u001b[0;34m(\u001b[0m\u001b[0;34m)\u001b[0m\u001b[0;34m\u001b[0m\u001b[0;34m\u001b[0m\u001b[0m\n\u001b[0;32m--> 555\u001b[0;31m             \u001b[0;32mreturn\u001b[0m \u001b[0;34m[\u001b[0m\u001b[0;32mNone\u001b[0m \u001b[0;32mif\u001b[0m \u001b[0mx\u001b[0m \u001b[0;32mis\u001b[0m \u001b[0;32mNone\u001b[0m \u001b[0;32melse\u001b[0m \u001b[0mx\u001b[0m\u001b[0;34m[\u001b[0m\u001b[0mstart\u001b[0m\u001b[0;34m]\u001b[0m \u001b[0;32mfor\u001b[0m \u001b[0mx\u001b[0m \u001b[0;32min\u001b[0m \u001b[0marrays\u001b[0m\u001b[0;34m]\u001b[0m\u001b[0;34m\u001b[0m\u001b[0;34m\u001b[0m\u001b[0m\n\u001b[0m\u001b[1;32m    556\u001b[0m         \u001b[0;32melse\u001b[0m\u001b[0;34m:\u001b[0m\u001b[0;34m\u001b[0m\u001b[0;34m\u001b[0m\u001b[0m\n\u001b[1;32m    557\u001b[0m             \u001b[0;32mreturn\u001b[0m \u001b[0;34m[\u001b[0m\u001b[0;32mNone\u001b[0m \u001b[0;32mif\u001b[0m \u001b[0mx\u001b[0m \u001b[0;32mis\u001b[0m \u001b[0;32mNone\u001b[0m \u001b[0;32melse\u001b[0m \u001b[0mx\u001b[0m\u001b[0;34m[\u001b[0m\u001b[0mstart\u001b[0m\u001b[0;34m:\u001b[0m\u001b[0mstop\u001b[0m\u001b[0;34m]\u001b[0m \u001b[0;32mfor\u001b[0m \u001b[0mx\u001b[0m \u001b[0;32min\u001b[0m \u001b[0marrays\u001b[0m\u001b[0;34m]\u001b[0m\u001b[0;34m\u001b[0m\u001b[0;34m\u001b[0m\u001b[0m\n",
      "\u001b[0;32m~/projects/tks_stories/venv/lib/python3.6/site-packages/keras/utils/generic_utils.py\u001b[0m in \u001b[0;36m<listcomp>\u001b[0;34m(.0)\u001b[0m\n\u001b[1;32m    553\u001b[0m             \u001b[0;32mif\u001b[0m \u001b[0mhasattr\u001b[0m\u001b[0;34m(\u001b[0m\u001b[0mstart\u001b[0m\u001b[0;34m,\u001b[0m \u001b[0;34m'shape'\u001b[0m\u001b[0;34m)\u001b[0m\u001b[0;34m:\u001b[0m\u001b[0;34m\u001b[0m\u001b[0;34m\u001b[0m\u001b[0m\n\u001b[1;32m    554\u001b[0m                 \u001b[0mstart\u001b[0m \u001b[0;34m=\u001b[0m \u001b[0mstart\u001b[0m\u001b[0;34m.\u001b[0m\u001b[0mtolist\u001b[0m\u001b[0;34m(\u001b[0m\u001b[0;34m)\u001b[0m\u001b[0;34m\u001b[0m\u001b[0;34m\u001b[0m\u001b[0m\n\u001b[0;32m--> 555\u001b[0;31m             \u001b[0;32mreturn\u001b[0m \u001b[0;34m[\u001b[0m\u001b[0;32mNone\u001b[0m \u001b[0;32mif\u001b[0m \u001b[0mx\u001b[0m \u001b[0;32mis\u001b[0m \u001b[0;32mNone\u001b[0m \u001b[0;32melse\u001b[0m \u001b[0mx\u001b[0m\u001b[0;34m[\u001b[0m\u001b[0mstart\u001b[0m\u001b[0;34m]\u001b[0m \u001b[0;32mfor\u001b[0m \u001b[0mx\u001b[0m \u001b[0;32min\u001b[0m \u001b[0marrays\u001b[0m\u001b[0;34m]\u001b[0m\u001b[0;34m\u001b[0m\u001b[0;34m\u001b[0m\u001b[0m\n\u001b[0m\u001b[1;32m    556\u001b[0m         \u001b[0;32melse\u001b[0m\u001b[0;34m:\u001b[0m\u001b[0;34m\u001b[0m\u001b[0;34m\u001b[0m\u001b[0m\n\u001b[1;32m    557\u001b[0m             \u001b[0;32mreturn\u001b[0m \u001b[0;34m[\u001b[0m\u001b[0;32mNone\u001b[0m \u001b[0;32mif\u001b[0m \u001b[0mx\u001b[0m \u001b[0;32mis\u001b[0m \u001b[0;32mNone\u001b[0m \u001b[0;32melse\u001b[0m \u001b[0mx\u001b[0m\u001b[0;34m[\u001b[0m\u001b[0mstart\u001b[0m\u001b[0;34m:\u001b[0m\u001b[0mstop\u001b[0m\u001b[0;34m]\u001b[0m \u001b[0;32mfor\u001b[0m \u001b[0mx\u001b[0m \u001b[0;32min\u001b[0m \u001b[0marrays\u001b[0m\u001b[0;34m]\u001b[0m\u001b[0;34m\u001b[0m\u001b[0;34m\u001b[0m\u001b[0m\n",
      "\u001b[0;31mKeyboardInterrupt\u001b[0m: "
     ]
    }
   ],
   "source": [
    "\n",
    "\n",
    "model.fit(\n",
    "    shuffle=True,\n",
    "#     x = [train.customer_id.values, train.story_id.values, train[['age', 'gender_cd']].values],\n",
    "        x = [train.customer_id.values,\n",
    "             train.story_id.values,\n",
    "             train.jsons_name_type.values, \n",
    "             train.job_title.values,\n",
    "#              train.job_position_cd.values,\n",
    "             train[['age', 'gender_cd']].values,\n",
    "#              train[['reaction_hour', 'reaction_dayofweek']].values/30,\n",
    "#              train[['product_0', 'product_1', 'product_2', 'product_3', 'product_4', 'product_5', 'product_6']].values\n",
    "            ], \n",
    "# steps_per_epoch=1000,\n",
    "          y = trainY,\n",
    "          batch_size=batch_size,\n",
    "          epochs=30,\n",
    "#     validation_data = ([val.customer_id.values, val.story_id.values, val[['age', 'gender_cd']].values], valY),\n",
    "#           validation_data=([val.customer_id.values, \n",
    "#                             val.story_id.values, \n",
    "#                             val.jsons_name_type.values, \n",
    "#                             val.job_title.values,\n",
    "# #                             val.job_position_cd.values,\n",
    "#                             val[['age', 'gender_cd']].values,\n",
    "# #                             val[['reaction_hour', 'reaction_dayofweek']].values/30,\n",
    "# #                             val[['product_0', 'product_1', 'product_2', 'product_3', 'product_4', 'product_5', 'product_6']].values\n",
    "#                            ], valY),\n",
    "         )\n",
    "\n",
    "# model.fit(x = train.customer_id.values, \n",
    "#           y = trainY,\n",
    "# #           steps_per_epoch=1000,\n",
    "#           batch_size=batch_size,\n",
    "#           epochs=100,\n",
    "#           validation_data=(val.customer_id.values, valY),\n",
    "# #           validation_steps=len(val.customer_id.values)/batch_size\n",
    "#          )\n",
    "# 320248/320248 [==============================] - 0s 0us/step - loss: -0.2332 - val_loss: -0.2353"
   ]
  },
  {
   "cell_type": "code",
   "execution_count": 20,
   "metadata": {},
   "outputs": [],
   "source": [
    "\n",
    "val_predict = model.predict([val.customer_id.values,\n",
    "                             val.story_id.values,\n",
    "                             val.jsons_name_type.values,\n",
    "                             val.job_title.values,\n",
    "#                              val.job_position_cd.values,\n",
    "                             val[['age', 'gender_cd']].values,\n",
    "#                              val[['reaction_hour', 'reaction_dayofweek']].values/30,\n",
    "#                              val[['product_0', 'product_1', 'product_2', 'product_3', 'product_4', 'product_5', 'product_6']].values\n",
    "                            ])\n",
    "# train_predict = model.predict(train.customer_id.values)\n",
    "# val_predict = model.predict(val.customer_id.values)"
   ]
  },
  {
   "cell_type": "code",
   "execution_count": 22,
   "metadata": {},
   "outputs": [],
   "source": [
    "val['score'] = val_predict"
   ]
  },
  {
   "cell_type": "code",
   "execution_count": 25,
   "metadata": {},
   "outputs": [],
   "source": [
    "val[['answer_id','score']].to_csv('predict2.csv', index=False)"
   ]
  },
  {
   "cell_type": "code",
   "execution_count": null,
   "metadata": {},
   "outputs": [],
   "source": []
  }
 ],
 "metadata": {
  "kernelspec": {
   "display_name": "Python 3",
   "language": "python",
   "name": "python3"
  },
  "language_info": {
   "codemirror_mode": {
    "name": "ipython",
    "version": 3
   },
   "file_extension": ".py",
   "mimetype": "text/x-python",
   "name": "python",
   "nbconvert_exporter": "python",
   "pygments_lexer": "ipython3",
   "version": "3.6.8"
  }
 },
 "nbformat": 4,
 "nbformat_minor": 2
}
