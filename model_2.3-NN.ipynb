{
 "cells": [
  {
   "cell_type": "code",
   "execution_count": 51,
   "metadata": {},
   "outputs": [],
   "source": [
    "import pandas as pd\n",
    "import numpy as np\n",
    "from catboost import CatBoostClassifier, Pool,CatBoost, CatBoostRegressor\n",
    "from collections import Counter\n",
    "from keras.layers import Dense, Dropout, Embedding, Input, Reshape, Concatenate, Input, Flatten, LeakyReLU\n",
    "from keras.models import Model\n",
    "from keras import optimizers\n",
    "from keras import regularizers\n",
    "import json\n",
    "import re"
   ]
  },
  {
   "cell_type": "code",
   "execution_count": 2,
   "metadata": {},
   "outputs": [],
   "source": [
    "def jsons_name_type(jsons_name):\n",
    "    if not jsons_name:\n",
    "        return -1\n",
    "    if \"Цифра дня\" in jsons_name:\n",
    "        return 1\n",
    "    if \"AliExpress\" in jsons_name:\n",
    "        return 2 \n",
    "    if \"Тинькофф\" in jsons_name or \"Tinkoff\" in jsons_name:\n",
    "        return 3\n",
    "    if \"ЧМ\" in jsons_name:\n",
    "        return 4\n",
    "    if \"фильм\"  in jsons_name or \"смотрет\"  in jsons_name:\n",
    "        return 5\n",
    "    if \"кредит\"  in jsons_name:\n",
    "        return 6\n",
    "    if \"инвестиц\"  in jsons_name:\n",
    "        return 7\n",
    "    if \"₽\"  in jsons_name or \"$\"  in jsons_name:\n",
    "        return 8\n",
    "    if \"тпуск\"  in jsons_name:\n",
    "        return 9\n",
    "    return 0"
   ]
  },
  {
   "cell_type": "code",
   "execution_count": 3,
   "metadata": {},
   "outputs": [],
   "source": [
    "data_path = 'dataset/'\n",
    "customer_train = pd.read_csv(f'{data_path}customer_train.csv')\n",
    "customer_test = pd.read_csv(f'{data_path}customer_test.csv')\n",
    "stories_description = pd.read_csv(f'{data_path}stories_description.csv')\n",
    "stories_reaction_test = pd.read_csv(f'{data_path}stories_reaction_test.csv')\n",
    "stories_reaction_test['event_dttm']=pd.to_datetime(stories_reaction_test['event_dttm'],infer_datetime_format=True)\n",
    "stories_reaction_train = pd.read_csv(f'{data_path}stories_reaction_train.csv')\n",
    "stories_reaction_train['event_dttm']=pd.to_datetime(stories_reaction_train['event_dttm'],infer_datetime_format=True)\n",
    "transactions = pd.read_csv(f'{data_path}transactions.csv')\n",
    "\n",
    "\n",
    "sample_submit = pd.read_csv(f'{data_path}sample_submit.csv')"
   ]
  },
  {
   "cell_type": "code",
   "execution_count": 4,
   "metadata": {},
   "outputs": [],
   "source": [
    "stories_reaction_train['reaction_hour']=stories_reaction_train.event_dttm.dt.hour\n",
    "stories_reaction_test['reaction_hour']=stories_reaction_test.event_dttm.dt.hour\n",
    "stories_reaction_train['reaction_dayofweek']=stories_reaction_train.event_dttm.dt.dayofweek\n",
    "stories_reaction_test['reaction_dayofweek']=stories_reaction_test.event_dttm.dt.dayofweek\n",
    "\n",
    "stories_description['jsons'] = stories_description.story_json.map(lambda x:json.loads(x.replace(\"\\\\\\\\\", \"\\\\\")))\n",
    "stories_description['jsons_name'] =stories_description.jsons.map(lambda x:x['properties'].get('name'))\n",
    "stories_description['texts'] =stories_description.jsons.map(lambda x:re.findall(\"\"\"\"text\": \\\"([^\\\"]*)\\\",\"\"\", json.dumps(x, ensure_ascii=False)))\n",
    "stories_description['jsons_name_type'] = stories_description.jsons_name.map(lambda x:jsons_name_type(x))"
   ]
  },
  {
   "cell_type": "code",
   "execution_count": 5,
   "metadata": {},
   "outputs": [],
   "source": [
    "train_and_val = stories_reaction_train.merge(customer_train, on='customer_id', how='left')\n",
    "train_and_val = train_and_val.merge(stories_description, on='story_id', how='left')\n",
    "\n",
    "test = stories_reaction_test.merge(customer_test, on='customer_id', how='left')\n",
    "test = test.merge(stories_description, on='story_id', how='left')\n",
    "\n",
    "train_and_val=train_and_val.fillna(0)\n",
    "# train_and_val.fillnull(0)\n"
   ]
  },
  {
   "cell_type": "code",
   "execution_count": 6,
   "metadata": {},
   "outputs": [],
   "source": [
    "train_dates = stories_reaction_train['event_dttm'].astype(np.int64)\n",
    "test_dates = stories_reaction_test['event_dttm'].astype(np.int64)\n",
    "period = train_dates.max() - (test_dates.max() - test_dates.min())\n",
    "val = train_and_val[train_and_val.event_dttm.astype(np.int64) > period]\n",
    "train = train_and_val[train_and_val.event_dttm.astype(np.int64) <= period]"
   ]
  },
  {
   "cell_type": "code",
   "execution_count": null,
   "metadata": {},
   "outputs": [],
   "source": []
  },
  {
   "cell_type": "code",
   "execution_count": 7,
   "metadata": {},
   "outputs": [
    {
     "data": {
      "text/plain": [
       "(320248, 152893)"
      ]
     },
     "execution_count": 7,
     "metadata": {},
     "output_type": "execute_result"
    }
   ],
   "source": [
    "len(train), len(val) "
   ]
  },
  {
   "cell_type": "code",
   "execution_count": 8,
   "metadata": {},
   "outputs": [
    {
     "name": "stderr",
     "output_type": "stream",
     "text": [
      "/home/ivan/projects/tks_stories/venv/lib/python3.6/site-packages/ipykernel_launcher.py:1: SettingWithCopyWarning: \n",
      "A value is trying to be set on a copy of a slice from a DataFrame.\n",
      "Try using .loc[row_indexer,col_indexer] = value instead\n",
      "\n",
      "See the caveats in the documentation: http://pandas.pydata.org/pandas-docs/stable/user_guide/indexing.html#returning-a-view-versus-a-copy\n",
      "  \"\"\"Entry point for launching an IPython kernel.\n",
      "/home/ivan/projects/tks_stories/venv/lib/python3.6/site-packages/ipykernel_launcher.py:2: SettingWithCopyWarning: \n",
      "A value is trying to be set on a copy of a slice from a DataFrame.\n",
      "Try using .loc[row_indexer,col_indexer] = value instead\n",
      "\n",
      "See the caveats in the documentation: http://pandas.pydata.org/pandas-docs/stable/user_guide/indexing.html#returning-a-view-versus-a-copy\n",
      "  \n",
      "/home/ivan/projects/tks_stories/venv/lib/python3.6/site-packages/ipykernel_launcher.py:3: SettingWithCopyWarning: \n",
      "A value is trying to be set on a copy of a slice from a DataFrame.\n",
      "Try using .loc[row_indexer,col_indexer] = value instead\n",
      "\n",
      "See the caveats in the documentation: http://pandas.pydata.org/pandas-docs/stable/user_guide/indexing.html#returning-a-view-versus-a-copy\n",
      "  This is separate from the ipykernel package so we can avoid doing imports until\n",
      "/home/ivan/projects/tks_stories/venv/lib/python3.6/site-packages/ipykernel_launcher.py:4: SettingWithCopyWarning: \n",
      "A value is trying to be set on a copy of a slice from a DataFrame.\n",
      "Try using .loc[row_indexer,col_indexer] = value instead\n",
      "\n",
      "See the caveats in the documentation: http://pandas.pydata.org/pandas-docs/stable/user_guide/indexing.html#returning-a-view-versus-a-copy\n",
      "  after removing the cwd from sys.path.\n"
     ]
    }
   ],
   "source": [
    "\n",
    "train['gender_cd']=train.gender_cd.map(lambda x: 1 if x ==\"M\" else(0 if x ==\"F\" else -1))\n",
    "val['gender_cd']=val.gender_cd.map(lambda x: 1 if x ==\"M\" else(0 if x ==\"F\" else -1))\n",
    "train['age']=train.age/100\n",
    "val['age']=val.age/100"
   ]
  },
  {
   "cell_type": "code",
   "execution_count": 10,
   "metadata": {},
   "outputs": [
    {
     "name": "stderr",
     "output_type": "stream",
     "text": [
      "/home/ivan/projects/tks_stories/venv/lib/python3.6/site-packages/ipykernel_launcher.py:4: SettingWithCopyWarning: \n",
      "A value is trying to be set on a copy of a slice from a DataFrame.\n",
      "Try using .loc[row_indexer,col_indexer] = value instead\n",
      "\n",
      "See the caveats in the documentation: http://pandas.pydata.org/pandas-docs/stable/user_guide/indexing.html#returning-a-view-versus-a-copy\n",
      "  after removing the cwd from sys.path.\n",
      "/home/ivan/projects/tks_stories/venv/lib/python3.6/site-packages/ipykernel_launcher.py:5: SettingWithCopyWarning: \n",
      "A value is trying to be set on a copy of a slice from a DataFrame.\n",
      "Try using .loc[row_indexer,col_indexer] = value instead\n",
      "\n",
      "See the caveats in the documentation: http://pandas.pydata.org/pandas-docs/stable/user_guide/indexing.html#returning-a-view-versus-a-copy\n",
      "  \"\"\"\n"
     ]
    }
   ],
   "source": [
    "def to_OHE(field):\n",
    "    count = len(set(train_and_val[field].values))\n",
    "    d = dict(zip(list(set(train_and_val[field].values)), range(1, count+1)))\n",
    "    train[field]=train[field].map(lambda x:  d[x])\n",
    "    val[field]=val[field].map(lambda x:  d[x])\n",
    "    return count\n",
    "customers_count = to_OHE('customer_id')\n",
    "marital_status_count = to_OHE('marital_status_cd')\n",
    "stories_count = to_OHE('story_id')\n",
    "job_position_count = to_OHE('job_position_cd')\n",
    "job_title_count = to_OHE('job_title')\n",
    "jsons_name_type_count = to_OHE('jsons_name_type')\n",
    "\n",
    "\n"
   ]
  },
  {
   "cell_type": "code",
   "execution_count": 11,
   "metadata": {},
   "outputs": [
    {
     "name": "stderr",
     "output_type": "stream",
     "text": [
      "/home/ivan/projects/tks_stories/venv/lib/python3.6/site-packages/ipykernel_launcher.py:5: SettingWithCopyWarning: \n",
      "A value is trying to be set on a copy of a slice from a DataFrame.\n",
      "Try using .loc[row_indexer,col_indexer] = value instead\n",
      "\n",
      "See the caveats in the documentation: http://pandas.pydata.org/pandas-docs/stable/user_guide/indexing.html#returning-a-view-versus-a-copy\n",
      "  \"\"\"\n",
      "/home/ivan/projects/tks_stories/venv/lib/python3.6/site-packages/ipykernel_launcher.py:6: SettingWithCopyWarning: \n",
      "A value is trying to be set on a copy of a slice from a DataFrame.\n",
      "Try using .loc[row_indexer,col_indexer] = value instead\n",
      "\n",
      "See the caveats in the documentation: http://pandas.pydata.org/pandas-docs/stable/user_guide/indexing.html#returning-a-view-versus-a-copy\n",
      "  \n"
     ]
    }
   ],
   "source": [
    "values = set(train_and_val[['product_0', 'product_1', 'product_2', 'product_3', 'product_4', 'product_5', 'product_6']].values.reshape(-1))\n",
    "producs_count = len(values)\n",
    "d = dict(zip(list(values), range(1, len(values)+1)))\n",
    "for f in ['product_0', 'product_1', 'product_2', 'product_3', 'product_4', 'product_5', 'product_6']:\n",
    "    train[f]=train[f].map(lambda x:  d[x])\n",
    "    val[f]=val[f].map(lambda x:  d[x])"
   ]
  },
  {
   "cell_type": "code",
   "execution_count": 12,
   "metadata": {},
   "outputs": [],
   "source": [
    "# customers_count = len(set(train_and_val.customer_id.values))\n",
    "# marital_status_count = len(set(train_and_val.marital_status_cd.values))\n",
    "# stories_count = len(set(train_and_val.story_id.values))\n",
    "# job_position_count = len(set(train_and_val.job_position_cd.values))\n",
    "# job_position_count = len(set(train_and_val.job_position_cd.values))\n",
    "\n",
    "\n",
    "# customers_dict = dict(zip(sorted(list(set(train_and_val.customer_id.values))), range(1, customers_count+1)))\n",
    "# stories_dict = dict(zip(sorted(list(set(train_and_val.story_id.values))), range(1, stories_count+1)))\n",
    "# job_position_dict = dict(zip(sorted(list(set(train_and_val.job_position_cd.values))), range(1, job_position_count+1)))\n",
    "# marital_status_dict = dict(zip(sorted(list(set(train_and_val.marital_status_cd.values))), range(1, marital_status_count+1)))\n",
    "\n",
    "# train['customer_id']=train.customer_id.map(lambda x:  customers_dict[x])\n",
    "# train['story_id']=train.story_id.map(lambda x:  stories_dict[x])\n",
    "# train['job_position_cd']=train.job_position_cd.map(lambda x:  job_position_dict[x])\n",
    "# train['marital_status_cd']=train.marital_status_cd.map(lambda x:  marital_status_dict[x])\n",
    "\n",
    "# val['customer_id']=val.customer_id.map(lambda x:  customers_dict[x])\n",
    "# val['story_id']=val.story_id.map(lambda x:  stories_dict[x])\n",
    "# val['job_position_cd']=val.job_position_cd.map(lambda x:  job_position_dict[x])\n",
    "# val['marital_status_cd']=val.marital_status_cd.map(lambda x:  marital_status_dict[x])\n"
   ]
  },
  {
   "cell_type": "code",
   "execution_count": 13,
   "metadata": {},
   "outputs": [
    {
     "data": {
      "text/plain": [
       "75449     2014-11-09 17:35:06\n",
       "75450     2014-11-09 17:35:06\n",
       "75451     2014-11-09 17:35:06\n",
       "75452     2014-11-05 12:28:59\n",
       "75453     2014-11-05 12:28:59\n",
       "                 ...         \n",
       "473128                      0\n",
       "473129                      0\n",
       "473130                      0\n",
       "473131                      0\n",
       "473132                      0\n",
       "Name: first_session_dttm, Length: 270248, dtype: object"
      ]
     },
     "execution_count": 13,
     "metadata": {},
     "output_type": "execute_result"
    }
   ],
   "source": [
    "train.first_session_dttm[50000:]"
   ]
  },
  {
   "cell_type": "code",
   "execution_count": 14,
   "metadata": {},
   "outputs": [],
   "source": [
    "import keras.backend as K\n",
    "def metric_loss(batch_size):\n",
    "    def the_loss(y_true, y_pred):\n",
    "\n",
    "        return -(len(val.customer_id.values)/batch_size)*K.sum(y_true*y_pred)/40441.4\n",
    "    return(the_loss)\n",
    "# /K.mean(K.abs(y_true))\n",
    "# /K.sum(K.abs(y_true))\n",
    "\n",
    "#     return -K.sum(y_true*y_pred)/K.sum(K.abs(y_true))\n",
    "#     return K.sum(y_true*[10,0.5,0.1,0.1]*y_pred)/K.sum(y_true*[-10,0.5,0.1,-0.1])"
   ]
  },
  {
   "cell_type": "code",
   "execution_count": null,
   "metadata": {},
   "outputs": [],
   "source": []
  },
  {
   "cell_type": "code",
   "execution_count": 15,
   "metadata": {},
   "outputs": [],
   "source": [
    "def reaction_to_class(reaction):\n",
    "    if reaction==\"dislike\":\n",
    "        return -10\n",
    "    if reaction==\"like\":\n",
    "        return 0.5\n",
    "    if reaction==\"view\":\n",
    "        return 0.1\n",
    "    if reaction==\"skip\":\n",
    "        return -0.1\n",
    "trainY = np.array(list(train.event.map(lambda x: reaction_to_class(x)).values))\n",
    "valY = np.array(list(val.event.map(lambda x: reaction_to_class(x)).values))"
   ]
  },
  {
   "cell_type": "code",
   "execution_count": 125,
   "metadata": {},
   "outputs": [
    {
     "name": "stdout",
     "output_type": "stream",
     "text": [
      "Model: \"model_24\"\n",
      "__________________________________________________________________________________________________\n",
      "Layer (type)                    Output Shape         Param #     Connected to                     \n",
      "==================================================================================================\n",
      "customer_id (InputLayer)        (None, 1)            0                                            \n",
      "__________________________________________________________________________________________________\n",
      "story_id (InputLayer)           (None, 1)            0                                            \n",
      "__________________________________________________________________________________________________\n",
      "job_title_id (InputLayer)       (None, 1)            0                                            \n",
      "__________________________________________________________________________________________________\n",
      "producs (InputLayer)            (None, 7)            0                                            \n",
      "__________________________________________________________________________________________________\n",
      "story_name_id (InputLayer)      (None, 1)            0                                            \n",
      "__________________________________________________________________________________________________\n",
      "embedding_131 (Embedding)       (None, 1, 4)         164004      customer_id[0][0]                \n",
      "__________________________________________________________________________________________________\n",
      "embedding_132 (Embedding)       (None, 1, 2)         1826        story_id[0][0]                   \n",
      "__________________________________________________________________________________________________\n",
      "embedding_133 (Embedding)       (None, 1, 2)         11976       job_title_id[0][0]               \n",
      "__________________________________________________________________________________________________\n",
      "embedding_134 (Embedding)       (None, 7, 1)         4           producs[0][0]                    \n",
      "__________________________________________________________________________________________________\n",
      "embedding_135 (Embedding)       (None, 1, 2)         22          story_name_id[0][0]              \n",
      "__________________________________________________________________________________________________\n",
      "flatten_131 (Flatten)           (None, 4)            0           embedding_131[0][0]              \n",
      "__________________________________________________________________________________________________\n",
      "flatten_132 (Flatten)           (None, 2)            0           embedding_132[0][0]              \n",
      "__________________________________________________________________________________________________\n",
      "flatten_133 (Flatten)           (None, 2)            0           embedding_133[0][0]              \n",
      "__________________________________________________________________________________________________\n",
      "flatten_134 (Flatten)           (None, 7)            0           embedding_134[0][0]              \n",
      "__________________________________________________________________________________________________\n",
      "flatten_135 (Flatten)           (None, 2)            0           embedding_135[0][0]              \n",
      "__________________________________________________________________________________________________\n",
      "customer_data (InputLayer)      (None, 2)            0                                            \n",
      "__________________________________________________________________________________________________\n",
      "concatenate_25 (Concatenate)    (None, 19)           0           flatten_131[0][0]                \n",
      "                                                                 flatten_132[0][0]                \n",
      "                                                                 flatten_133[0][0]                \n",
      "                                                                 flatten_134[0][0]                \n",
      "                                                                 flatten_135[0][0]                \n",
      "                                                                 customer_data[0][0]              \n",
      "__________________________________________________________________________________________________\n",
      "dense_49 (Dense)                (None, 128)          2560        concatenate_25[0][0]             \n",
      "__________________________________________________________________________________________________\n",
      "dense_50 (Dense)                (None, 1)            129         dense_49[0][0]                   \n",
      "==================================================================================================\n",
      "Total params: 180,521\n",
      "Trainable params: 180,521\n",
      "Non-trainable params: 0\n",
      "__________________________________________________________________________________________________\n",
      "None\n"
     ]
    }
   ],
   "source": [
    "model_input_customer = Input((1,), name='customer_id')\n",
    "x1 = Embedding(customers_count, 4, input_length=1)(model_input_customer)\n",
    "x1 = Flatten()(x1)\n",
    "\n",
    "model_input_story = Input((1,), name='story_id')\n",
    "x2 = Embedding(stories_count, 2, input_length=1)(model_input_story)\n",
    "x2 = Flatten()(x2)\n",
    "\n",
    "# model_input_job = Input((1,), name='job_id')\n",
    "# x3 = Embedding(job_position_count, 1, input_length=1)(model_input_job)\n",
    "# x3 = Flatten()(x3)\n",
    "\n",
    "\n",
    "model_input_job_title = Input((1,), name='job_title_id')\n",
    "x4 = Embedding(job_title_count, 2, input_length=1)(model_input_job_title)\n",
    "x4 = Flatten()(x4)\n",
    "\n",
    "model_input_products = Input((7,), name='producs')\n",
    "x5 = Embedding(producs_count, 1, input_length=7)(model_input_products)\n",
    "x5 = Flatten()(x5)\n",
    "\n",
    "model_input_story_name = Input((1,), name='story_name_id')\n",
    "x6 = Embedding(jsons_name_type_count, 2, input_length=1)(model_input_story_name)\n",
    "x6 = Flatten()(x6)\n",
    "\n",
    "model_input_3 = Input((2,), name='customer_data')\n",
    "# model_input_4 = Input((2,), name='customer_data2')\n",
    "\n",
    "x = Concatenate()([x1, x2, x4,x5, x6, model_input_3])\n",
    "\n",
    "x = Dense(128, \n",
    "          activation='relu', \n",
    "#           kernel_regularizer=regularizers.l2(0.0000001)\n",
    "         )(x)\n",
    "# x = LeakyReLU(alpha=0.1)(x)\n",
    "# x = Dense(64, activation='tanh')(x)\n",
    "\n",
    "# x = Dropout(0.5)(x)\n",
    "\n",
    "\n",
    "# x = Concatenate()([x, model_input_3])\n",
    "\n",
    "# x = Dense(4, activation='tanh')(x)\n",
    "\n",
    "\n",
    "x = Dense(1, activation='tanh')(x)\n",
    "model = Model([model_input_customer, \n",
    "               model_input_story, \n",
    "               model_input_story_name,\n",
    "               model_input_job_title,\n",
    "#                model_input_job, \n",
    "               model_input_3,\n",
    "#                model_input_4, \n",
    "               model_input_products\n",
    "              ], x)\n",
    "# model = Model(model_input, x)\n",
    "\n",
    "\n",
    "\n",
    "\n",
    "\n",
    "print(model.summary())"
   ]
  },
  {
   "cell_type": "code",
   "execution_count": 126,
   "metadata": {},
   "outputs": [
    {
     "data": {
      "text/plain": [
       "152893"
      ]
     },
     "execution_count": 126,
     "metadata": {},
     "output_type": "execute_result"
    }
   ],
   "source": [
    "len(val.customer_id.values)"
   ]
  },
  {
   "cell_type": "code",
   "execution_count": 127,
   "metadata": {},
   "outputs": [],
   "source": [
    "# batch_size=320248\n",
    "batch_size=32\n",
    "adam = optimizers.Adam(lr=0.0001)\n",
    "model.compile(optimizer=adam, loss=metric_loss(batch_size))\n"
   ]
  },
  {
   "cell_type": "code",
   "execution_count": null,
   "metadata": {
    "scrolled": true
   },
   "outputs": [
    {
     "name": "stdout",
     "output_type": "stream",
     "text": [
      "Train on 320248 samples, validate on 152893 samples\n",
      "Epoch 1/30\n",
      "320248/320248 [==============================] - 33s 102us/step - loss: -0.2163 - val_loss: -0.2293\n",
      "Epoch 2/30\n",
      "320248/320248 [==============================] - 32s 100us/step - loss: -0.3366 - val_loss: -0.3234\n",
      "Epoch 3/30\n",
      "225792/320248 [====================>.........] - ETA: 7s - loss: -0.5276"
     ]
    }
   ],
   "source": [
    "\n",
    "\n",
    "model.fit(\n",
    "    shuffle=True,\n",
    "#     x = [train.customer_id.values, train.story_id.values, train[['age', 'gender_cd']].values],\n",
    "        x = [train.customer_id.values,\n",
    "             train.story_id.values,\n",
    "             train.jsons_name_type.values, \n",
    "             train.job_title.values,\n",
    "#              train.job_position_cd.values,\n",
    "             train[['age', 'gender_cd']].values,\n",
    "#              train[['reaction_hour', 'reaction_dayofweek']].values/30,\n",
    "             train[['product_0', 'product_1', 'product_2', 'product_3', 'product_4', 'product_5', 'product_6']].values\n",
    "            ], \n",
    "# steps_per_epoch=1000,\n",
    "          y = trainY,\n",
    "          batch_size=batch_size,\n",
    "          epochs=30,\n",
    "#     validation_data = ([val.customer_id.values, val.story_id.values, val[['age', 'gender_cd']].values], valY),\n",
    "          validation_data=([val.customer_id.values, \n",
    "                            val.story_id.values, \n",
    "                            val.jsons_name_type.values, \n",
    "                            val.job_title.values,\n",
    "#                             val.job_position_cd.values,\n",
    "                            val[['age', 'gender_cd']].values,\n",
    "#                             val[['reaction_hour', 'reaction_dayofweek']].values/30,\n",
    "                            val[['product_0', 'product_1', 'product_2', 'product_3', 'product_4', 'product_5', 'product_6']].values\n",
    "                           ], valY),\n",
    "         )\n",
    "\n",
    "# 320248/320248 [==============================] - 13s 41us/step - loss: -0.6153 - val_loss: -0.3492\n",
    "# 320248/320248 [==============================] - 13s 42us/step - loss: -0.7373 - val_loss: -0.3607\n",
    "# 320248/320248 [==============================] - 14s 42us/step - loss: -0.7263 - val_loss: -0.3656 size 4 tanh\n",
    "# 320248/320248 [==============================] - 14s 43us/step - loss: -0.7046 - val_loss: -0.3612 size 128 relu\n",
    "# 320248/320248 [==============================] - 14s 44us/step - loss: -0.7110 - val_loss: -0.3455 size 128 lrelu\n",
    "# 320248/320248 [==============================] - 14s 43us/step - loss: -0.6390 - val_loss: -0.3683 size 128 relu increase embs\n",
    "# 320248/320248 [==============================] - 16s 48us/step - loss: -0.6319 - val_loss: -0.3705 job_position_cd\n",
    "\n",
    "\n"
   ]
  },
  {
   "cell_type": "code",
   "execution_count": null,
   "metadata": {},
   "outputs": [],
   "source": [
    "train_predict = model.predict([train.customer_id.values,\n",
    "                               train.story_id.values,\n",
    "                               train.jsons_name_type.values, \n",
    "\n",
    "                               train.job_title.values, \n",
    "                               train[['age', 'gender_cd']].values,\n",
    "                               train[['product_0', 'product_1', 'product_2', 'product_3', 'product_4', 'product_5', 'product_6']].values\n",
    "                              ])\n",
    "val_predict = model.predict([val.customer_id.values,\n",
    "                             val.story_id.values,\n",
    "                             val.jsons_name_type.values,\n",
    "                             val.job_title.values,\n",
    "#                              val.job_position_cd.values,\n",
    "                             val[['age', 'gender_cd']].values,\n",
    "#                              val[['reaction_hour', 'reaction_dayofweek']].values/30,\n",
    "                             val[['product_0', 'product_1', 'product_2', 'product_3', 'product_4', 'product_5', 'product_6']].values\n",
    "                            ])\n",
    "# train_predict = model.predict(train.customer_id.values)\n",
    "# val_predict = model.predict(val.customer_id.values)"
   ]
  },
  {
   "cell_type": "code",
   "execution_count": 37,
   "metadata": {},
   "outputs": [
    {
     "data": {
      "text/plain": [
       "94640.0"
      ]
     },
     "execution_count": 37,
     "metadata": {},
     "output_type": "execute_result"
    }
   ],
   "source": [
    "np.sum(np.abs(trainY))"
   ]
  },
  {
   "cell_type": "code",
   "execution_count": 38,
   "metadata": {},
   "outputs": [
    {
     "data": {
      "text/plain": [
       "-0.6840569814593728"
      ]
     },
     "execution_count": 38,
     "metadata": {},
     "output_type": "execute_result"
    }
   ],
   "source": [
    "-np.sum(trainY*train_predict[:,0])/np.sum(np.abs(trainY))"
   ]
  },
  {
   "cell_type": "code",
   "execution_count": 39,
   "metadata": {},
   "outputs": [],
   "source": [
    "# -np.sum(trainY*train_predict[:,0] )/np.sum(np.abs(trainY))\n"
   ]
  },
  {
   "cell_type": "code",
   "execution_count": 40,
   "metadata": {},
   "outputs": [
    {
     "data": {
      "text/plain": [
       "-0.3590916611807316"
      ]
     },
     "execution_count": 40,
     "metadata": {},
     "output_type": "execute_result"
    }
   ],
   "source": [
    "-np.sum(valY*val_predict[:,0] )/np.sum(np.abs(valY))\n",
    "# -0.22921870322866542\n",
    "# -0.29499408463224436\n",
    "# -0.3365937438413243\n",
    "# -0.34325145608255186\n",
    "# -0.35394938525789055"
   ]
  },
  {
   "cell_type": "code",
   "execution_count": 26,
   "metadata": {},
   "outputs": [
    {
     "name": "stderr",
     "output_type": "stream",
     "text": [
      "/home/ivan/PycharmProjects/tks_stories/venv/lib/python3.6/site-packages/ipykernel_launcher.py:1: SettingWithCopyWarning: \n",
      "A value is trying to be set on a copy of a slice from a DataFrame.\n",
      "Try using .loc[row_indexer,col_indexer] = value instead\n",
      "\n",
      "See the caveats in the documentation: http://pandas.pydata.org/pandas-docs/stable/user_guide/indexing.html#returning-a-view-versus-a-copy\n",
      "  \"\"\"Entry point for launching an IPython kernel.\n"
     ]
    }
   ],
   "source": [
    "val['predict'] = val_predict[:,0]"
   ]
  },
  {
   "cell_type": "code",
   "execution_count": 27,
   "metadata": {},
   "outputs": [
    {
     "name": "stderr",
     "output_type": "stream",
     "text": [
      "/home/ivan/PycharmProjects/tks_stories/venv/lib/python3.6/site-packages/pandas/core/indexing.py:494: SettingWithCopyWarning: \n",
      "A value is trying to be set on a copy of a slice from a DataFrame.\n",
      "Try using .loc[row_indexer,col_indexer] = value instead\n",
      "\n",
      "See the caveats in the documentation: http://pandas.pydata.org/pandas-docs/stable/user_guide/indexing.html#returning-a-view-versus-a-copy\n",
      "  self.obj[item] = s\n"
     ]
    }
   ],
   "source": [
    "val.loc[~val.customer_id.isin(set(train.customer_id.values)),'predict'] =-1"
   ]
  },
  {
   "cell_type": "code",
   "execution_count": 28,
   "metadata": {},
   "outputs": [
    {
     "data": {
      "text/plain": [
       "-0.31330923716729303"
      ]
     },
     "execution_count": 28,
     "metadata": {},
     "output_type": "execute_result"
    }
   ],
   "source": [
    "-np.sum(valY*val['predict'])/np.sum(np.abs(valY))\n",
    "# -0.26261507362945524\n",
    "# -0.29364859095899104\n",
    "# -0.3315410025698421"
   ]
  },
  {
   "cell_type": "code",
   "execution_count": null,
   "metadata": {},
   "outputs": [],
   "source": []
  },
  {
   "cell_type": "code",
   "execution_count": null,
   "metadata": {},
   "outputs": [],
   "source": []
  }
 ],
 "metadata": {
  "kernelspec": {
   "display_name": "Python 3",
   "language": "python",
   "name": "python3"
  },
  "language_info": {
   "codemirror_mode": {
    "name": "ipython",
    "version": 3
   },
   "file_extension": ".py",
   "mimetype": "text/x-python",
   "name": "python",
   "nbconvert_exporter": "python",
   "pygments_lexer": "ipython3",
   "version": "3.6.8"
  }
 },
 "nbformat": 4,
 "nbformat_minor": 2
}
