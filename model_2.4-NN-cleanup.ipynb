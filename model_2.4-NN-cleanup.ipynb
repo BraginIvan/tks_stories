{
 "cells": [
  {
   "cell_type": "code",
   "execution_count": 1,
   "metadata": {},
   "outputs": [
    {
     "name": "stderr",
     "output_type": "stream",
     "text": [
      "Using TensorFlow backend.\n",
      "/home/ivan/projects/tks_stories/venv/lib/python3.6/site-packages/tensorflow/python/framework/dtypes.py:516: FutureWarning: Passing (type, 1) or '1type' as a synonym of type is deprecated; in a future version of numpy, it will be understood as (type, (1,)) / '(1,)type'.\n",
      "  _np_qint8 = np.dtype([(\"qint8\", np.int8, 1)])\n",
      "/home/ivan/projects/tks_stories/venv/lib/python3.6/site-packages/tensorflow/python/framework/dtypes.py:517: FutureWarning: Passing (type, 1) or '1type' as a synonym of type is deprecated; in a future version of numpy, it will be understood as (type, (1,)) / '(1,)type'.\n",
      "  _np_quint8 = np.dtype([(\"quint8\", np.uint8, 1)])\n",
      "/home/ivan/projects/tks_stories/venv/lib/python3.6/site-packages/tensorflow/python/framework/dtypes.py:518: FutureWarning: Passing (type, 1) or '1type' as a synonym of type is deprecated; in a future version of numpy, it will be understood as (type, (1,)) / '(1,)type'.\n",
      "  _np_qint16 = np.dtype([(\"qint16\", np.int16, 1)])\n",
      "/home/ivan/projects/tks_stories/venv/lib/python3.6/site-packages/tensorflow/python/framework/dtypes.py:519: FutureWarning: Passing (type, 1) or '1type' as a synonym of type is deprecated; in a future version of numpy, it will be understood as (type, (1,)) / '(1,)type'.\n",
      "  _np_quint16 = np.dtype([(\"quint16\", np.uint16, 1)])\n",
      "/home/ivan/projects/tks_stories/venv/lib/python3.6/site-packages/tensorflow/python/framework/dtypes.py:520: FutureWarning: Passing (type, 1) or '1type' as a synonym of type is deprecated; in a future version of numpy, it will be understood as (type, (1,)) / '(1,)type'.\n",
      "  _np_qint32 = np.dtype([(\"qint32\", np.int32, 1)])\n",
      "/home/ivan/projects/tks_stories/venv/lib/python3.6/site-packages/tensorflow/python/framework/dtypes.py:525: FutureWarning: Passing (type, 1) or '1type' as a synonym of type is deprecated; in a future version of numpy, it will be understood as (type, (1,)) / '(1,)type'.\n",
      "  np_resource = np.dtype([(\"resource\", np.ubyte, 1)])\n",
      "/home/ivan/projects/tks_stories/venv/lib/python3.6/site-packages/tensorboard/compat/tensorflow_stub/dtypes.py:541: FutureWarning: Passing (type, 1) or '1type' as a synonym of type is deprecated; in a future version of numpy, it will be understood as (type, (1,)) / '(1,)type'.\n",
      "  _np_qint8 = np.dtype([(\"qint8\", np.int8, 1)])\n",
      "/home/ivan/projects/tks_stories/venv/lib/python3.6/site-packages/tensorboard/compat/tensorflow_stub/dtypes.py:542: FutureWarning: Passing (type, 1) or '1type' as a synonym of type is deprecated; in a future version of numpy, it will be understood as (type, (1,)) / '(1,)type'.\n",
      "  _np_quint8 = np.dtype([(\"quint8\", np.uint8, 1)])\n",
      "/home/ivan/projects/tks_stories/venv/lib/python3.6/site-packages/tensorboard/compat/tensorflow_stub/dtypes.py:543: FutureWarning: Passing (type, 1) or '1type' as a synonym of type is deprecated; in a future version of numpy, it will be understood as (type, (1,)) / '(1,)type'.\n",
      "  _np_qint16 = np.dtype([(\"qint16\", np.int16, 1)])\n",
      "/home/ivan/projects/tks_stories/venv/lib/python3.6/site-packages/tensorboard/compat/tensorflow_stub/dtypes.py:544: FutureWarning: Passing (type, 1) or '1type' as a synonym of type is deprecated; in a future version of numpy, it will be understood as (type, (1,)) / '(1,)type'.\n",
      "  _np_quint16 = np.dtype([(\"quint16\", np.uint16, 1)])\n",
      "/home/ivan/projects/tks_stories/venv/lib/python3.6/site-packages/tensorboard/compat/tensorflow_stub/dtypes.py:545: FutureWarning: Passing (type, 1) or '1type' as a synonym of type is deprecated; in a future version of numpy, it will be understood as (type, (1,)) / '(1,)type'.\n",
      "  _np_qint32 = np.dtype([(\"qint32\", np.int32, 1)])\n",
      "/home/ivan/projects/tks_stories/venv/lib/python3.6/site-packages/tensorboard/compat/tensorflow_stub/dtypes.py:550: FutureWarning: Passing (type, 1) or '1type' as a synonym of type is deprecated; in a future version of numpy, it will be understood as (type, (1,)) / '(1,)type'.\n",
      "  np_resource = np.dtype([(\"resource\", np.ubyte, 1)])\n"
     ]
    }
   ],
   "source": [
    "import pandas as pd\n",
    "import numpy as np\n",
    "from catboost import CatBoostClassifier, Pool,CatBoost, CatBoostRegressor\n",
    "from collections import Counter\n",
    "from keras.layers import Dense, Dropout, Embedding, Input, Reshape, Concatenate, Input, Flatten, LeakyReLU,BatchNormalization\n",
    "from keras.models import Model\n",
    "from keras import optimizers\n",
    "from keras import regularizers\n",
    "import json\n",
    "import re"
   ]
  },
  {
   "cell_type": "code",
   "execution_count": 2,
   "metadata": {},
   "outputs": [],
   "source": [
    "def jsons_name_type(jsons_name):\n",
    "    if not jsons_name:\n",
    "        return -1\n",
    "    if \"Цифра дня\" in jsons_name:\n",
    "        return 1\n",
    "    if \"AliExpress\" in jsons_name:\n",
    "        return 2 \n",
    "    if \"Тинькофф\" in jsons_name or \"Tinkoff\" in jsons_name:\n",
    "        return 3\n",
    "    if \"ЧМ\" in jsons_name:\n",
    "        return 4\n",
    "    if \"фильм\"  in jsons_name or \"смотрет\"  in jsons_name:\n",
    "        return 5\n",
    "    if \"кредит\"  in jsons_name:\n",
    "        return 6\n",
    "    if \"инвестиц\"  in jsons_name:\n",
    "        return 7\n",
    "    if \"₽\"  in jsons_name or \"$\"  in jsons_name:\n",
    "        return 8\n",
    "    if \"тпуск\"  in jsons_name:\n",
    "        return 9\n",
    "    return 0"
   ]
  },
  {
   "cell_type": "code",
   "execution_count": 3,
   "metadata": {},
   "outputs": [],
   "source": [
    "data_path = 'dataset/'\n",
    "customer_train = pd.read_csv(f'{data_path}customer_train.csv')\n",
    "customer_train['first_session_dttm']=pd.to_datetime(customer_train['first_session_dttm'],infer_datetime_format=True)\n",
    "customer_test = pd.read_csv(f'{data_path}customer_test.csv')\n",
    "customer_test['first_session_dttm']=pd.to_datetime(customer_test['first_session_dttm'],infer_datetime_format=True)\n",
    "stories_description = pd.read_csv(f'{data_path}stories_description.csv')\n",
    "\n",
    "stories_reaction_test = pd.read_csv(f'{data_path}stories_reaction_test.csv')\n",
    "stories_reaction_test['event_dttm']=pd.to_datetime(stories_reaction_test['event_dttm'],infer_datetime_format=True)\n",
    "stories_reaction_train = pd.read_csv(f'{data_path}stories_reaction_train.csv')\n",
    "stories_reaction_train['event_dttm']=pd.to_datetime(stories_reaction_train['event_dttm'],infer_datetime_format=True)\n",
    "transactions = pd.read_csv(f'{data_path}transactions.csv')\n",
    "\n",
    "\n",
    "sample_submit = pd.read_csv(f'{data_path}sample_submit.csv')"
   ]
  },
  {
   "cell_type": "code",
   "execution_count": 4,
   "metadata": {},
   "outputs": [],
   "source": [
    "\n",
    "subsets = stories_reaction_train.groupby(['customer_id', 'event_dttm']).count().reset_index()[['customer_id', 'event_dttm', 'story_id']]\n",
    "subsets.columns = ['customer_id', 'event_dttm','subsets']\n",
    "stories_reaction_train=stories_reaction_train.merge(subsets, on=['customer_id', 'event_dttm'], how='left')\n",
    "\n",
    "subsets = stories_reaction_test.groupby(['customer_id', 'event_dttm']).count().reset_index()[['customer_id', 'event_dttm', 'story_id']]\n",
    "subsets.columns = ['customer_id', 'event_dttm','subsets']\n",
    "stories_reaction_test=stories_reaction_test.merge(subsets, on=['customer_id', 'event_dttm'], how='left')"
   ]
  },
  {
   "cell_type": "code",
   "execution_count": 5,
   "metadata": {},
   "outputs": [],
   "source": [
    "stories_reaction_train['reaction_hour']=stories_reaction_train.event_dttm.dt.hour\n",
    "stories_reaction_test['reaction_hour']=stories_reaction_test.event_dttm.dt.hour\n",
    "stories_reaction_train['reaction_dayofweek']=stories_reaction_train.event_dttm.dt.dayofweek\n",
    "stories_reaction_test['reaction_dayofweek']=stories_reaction_test.event_dttm.dt.dayofweek\n",
    "\n",
    "stories_description['jsons'] = stories_description.story_json.map(lambda x:json.loads(x.replace(\"\\\\\\\\\", \"\\\\\")))\n",
    "stories_description['jsons_name'] =stories_description.jsons.map(lambda x:x['properties'].get('name'))\n",
    "stories_description['texts'] =stories_description.jsons.map(lambda x:re.findall(\"\"\"\"text\": \\\"([^\\\"]*)\\\",\"\"\", json.dumps(x, ensure_ascii=False)))\n",
    "stories_description['jsons_name_type'] = stories_description.jsons_name.map(lambda x:jsons_name_type(x))"
   ]
  },
  {
   "cell_type": "code",
   "execution_count": 6,
   "metadata": {},
   "outputs": [],
   "source": [
    "customer_train['first_session_dttm_year']=(customer_train.first_session_dttm.dt.year-2000)/20\n"
   ]
  },
  {
   "cell_type": "code",
   "execution_count": null,
   "metadata": {},
   "outputs": [],
   "source": []
  },
  {
   "cell_type": "code",
   "execution_count": 7,
   "metadata": {},
   "outputs": [],
   "source": [
    "train_and_val = stories_reaction_train.merge(customer_train, on='customer_id', how='left')\n",
    "train_and_val = train_and_val.merge(stories_description, on='story_id', how='left')\n",
    "\n",
    "test = stories_reaction_test.merge(customer_test, on='customer_id', how='left')\n",
    "test = test.merge(stories_description, on='story_id', how='left')\n",
    "\n",
    "train_and_val=train_and_val.fillna(0)\n",
    "# train_and_val.fillnull(0)\n"
   ]
  },
  {
   "cell_type": "code",
   "execution_count": 8,
   "metadata": {},
   "outputs": [],
   "source": [
    "train_dates = stories_reaction_train['event_dttm'].astype(np.int64)\n",
    "test_dates = stories_reaction_test['event_dttm'].astype(np.int64)\n",
    "period = train_dates.max() - (test_dates.max() - test_dates.min())\n",
    "\n",
    "# np.random.seed(19)\n",
    "# msk = np.random.rand(len(train_and_val)) < 0.8\n",
    "# train = train_and_val[msk]\n",
    "# val = train_and_val[~msk]\n",
    "\n",
    "val = train_and_val[train_and_val.event_dttm.astype(np.int64) > period]\n",
    "train = train_and_val[train_and_val.event_dttm.astype(np.int64) <= period]"
   ]
  },
  {
   "cell_type": "code",
   "execution_count": 9,
   "metadata": {},
   "outputs": [],
   "source": [
    "# customer_shows = train.groupby('customer_id')['event'].count().to_frame().reset_index() \n",
    "# customer_shows.columns = ['customer_id', 'customer_shows']\n",
    "# customer_shows=customer_shows.fillna(0)\n",
    "# train=train.merge(customer_shows, on='customer_id')\n",
    "# val=val.merge(customer_shows, on='customer_id', how='left')\n",
    "# train['customer_shows']=train.customer_shows.fillna(-999)\n",
    "# val['customer_shows']=val.customer_shows.fillna(-999)"
   ]
  },
  {
   "cell_type": "code",
   "execution_count": 10,
   "metadata": {},
   "outputs": [
    {
     "data": {
      "text/plain": [
       "(320248, 152893)"
      ]
     },
     "execution_count": 10,
     "metadata": {},
     "output_type": "execute_result"
    }
   ],
   "source": [
    "len(train), len(val) "
   ]
  },
  {
   "cell_type": "code",
   "execution_count": null,
   "metadata": {},
   "outputs": [],
   "source": []
  },
  {
   "cell_type": "code",
   "execution_count": 11,
   "metadata": {},
   "outputs": [
    {
     "name": "stderr",
     "output_type": "stream",
     "text": [
      "/home/ivan/projects/tks_stories/venv/lib/python3.6/site-packages/ipykernel_launcher.py:1: SettingWithCopyWarning: \n",
      "A value is trying to be set on a copy of a slice from a DataFrame.\n",
      "Try using .loc[row_indexer,col_indexer] = value instead\n",
      "\n",
      "See the caveats in the documentation: http://pandas.pydata.org/pandas-docs/stable/user_guide/indexing.html#returning-a-view-versus-a-copy\n",
      "  \"\"\"Entry point for launching an IPython kernel.\n",
      "/home/ivan/projects/tks_stories/venv/lib/python3.6/site-packages/ipykernel_launcher.py:2: SettingWithCopyWarning: \n",
      "A value is trying to be set on a copy of a slice from a DataFrame.\n",
      "Try using .loc[row_indexer,col_indexer] = value instead\n",
      "\n",
      "See the caveats in the documentation: http://pandas.pydata.org/pandas-docs/stable/user_guide/indexing.html#returning-a-view-versus-a-copy\n",
      "  \n",
      "/home/ivan/projects/tks_stories/venv/lib/python3.6/site-packages/ipykernel_launcher.py:3: SettingWithCopyWarning: \n",
      "A value is trying to be set on a copy of a slice from a DataFrame.\n",
      "Try using .loc[row_indexer,col_indexer] = value instead\n",
      "\n",
      "See the caveats in the documentation: http://pandas.pydata.org/pandas-docs/stable/user_guide/indexing.html#returning-a-view-versus-a-copy\n",
      "  This is separate from the ipykernel package so we can avoid doing imports until\n",
      "/home/ivan/projects/tks_stories/venv/lib/python3.6/site-packages/ipykernel_launcher.py:4: SettingWithCopyWarning: \n",
      "A value is trying to be set on a copy of a slice from a DataFrame.\n",
      "Try using .loc[row_indexer,col_indexer] = value instead\n",
      "\n",
      "See the caveats in the documentation: http://pandas.pydata.org/pandas-docs/stable/user_guide/indexing.html#returning-a-view-versus-a-copy\n",
      "  after removing the cwd from sys.path.\n"
     ]
    }
   ],
   "source": [
    "\n",
    "train['gender_cd']=train.gender_cd.map(lambda x: 1 if x ==\"M\" else(0 if x ==\"F\" else -1))\n",
    "val['gender_cd']=val.gender_cd.map(lambda x: 1 if x ==\"M\" else(0 if x ==\"F\" else -1))\n",
    "val['children_cnt']=val.children_cnt/10\n",
    "train['children_cnt']=train.children_cnt/10\n"
   ]
  },
  {
   "cell_type": "code",
   "execution_count": 12,
   "metadata": {},
   "outputs": [
    {
     "name": "stderr",
     "output_type": "stream",
     "text": [
      "/home/ivan/projects/tks_stories/venv/lib/python3.6/site-packages/ipykernel_launcher.py:4: SettingWithCopyWarning: \n",
      "A value is trying to be set on a copy of a slice from a DataFrame.\n",
      "Try using .loc[row_indexer,col_indexer] = value instead\n",
      "\n",
      "See the caveats in the documentation: http://pandas.pydata.org/pandas-docs/stable/user_guide/indexing.html#returning-a-view-versus-a-copy\n",
      "  after removing the cwd from sys.path.\n",
      "/home/ivan/projects/tks_stories/venv/lib/python3.6/site-packages/ipykernel_launcher.py:5: SettingWithCopyWarning: \n",
      "A value is trying to be set on a copy of a slice from a DataFrame.\n",
      "Try using .loc[row_indexer,col_indexer] = value instead\n",
      "\n",
      "See the caveats in the documentation: http://pandas.pydata.org/pandas-docs/stable/user_guide/indexing.html#returning-a-view-versus-a-copy\n",
      "  \"\"\"\n"
     ]
    }
   ],
   "source": [
    "def to_OHE(field):\n",
    "    count = len(set(train_and_val[field].values))\n",
    "    d = dict(zip(list(set(train_and_val[field].values)), range(1, count+1)))\n",
    "    train[field]=train[field].map(lambda x:  d[x])\n",
    "    val[field]=val[field].map(lambda x:  d[x])\n",
    "    return count\n",
    "customers_count = to_OHE('customer_id')\n",
    "# marital_status_count = to_OHE('marital_status_cd')\n",
    "stories_count = to_OHE('story_id')\n",
    "# job_position_count = to_OHE('job_position_cd')\n",
    "# job_title_count = to_OHE('job_title')\n",
    "jsons_name_type_count = to_OHE('jsons_name_type')\n",
    "\n",
    "\n"
   ]
  },
  {
   "cell_type": "code",
   "execution_count": 13,
   "metadata": {},
   "outputs": [
    {
     "name": "stderr",
     "output_type": "stream",
     "text": [
      "/home/ivan/projects/tks_stories/venv/lib/python3.6/site-packages/ipykernel_launcher.py:5: SettingWithCopyWarning: \n",
      "A value is trying to be set on a copy of a slice from a DataFrame.\n",
      "Try using .loc[row_indexer,col_indexer] = value instead\n",
      "\n",
      "See the caveats in the documentation: http://pandas.pydata.org/pandas-docs/stable/user_guide/indexing.html#returning-a-view-versus-a-copy\n",
      "  \"\"\"\n",
      "/home/ivan/projects/tks_stories/venv/lib/python3.6/site-packages/ipykernel_launcher.py:6: SettingWithCopyWarning: \n",
      "A value is trying to be set on a copy of a slice from a DataFrame.\n",
      "Try using .loc[row_indexer,col_indexer] = value instead\n",
      "\n",
      "See the caveats in the documentation: http://pandas.pydata.org/pandas-docs/stable/user_guide/indexing.html#returning-a-view-versus-a-copy\n",
      "  \n"
     ]
    }
   ],
   "source": [
    "values = set(train_and_val[['product_0', 'product_1', 'product_2', 'product_3', 'product_4', 'product_5', 'product_6']].values.reshape(-1))\n",
    "producs_count = len(values)\n",
    "d = dict(zip(list(values), range(1, len(values)+1)))\n",
    "for f in ['product_0', 'product_1', 'product_2', 'product_3', 'product_4', 'product_5', 'product_6']:\n",
    "    train[f]=train[f].map(lambda x:  d[x])\n",
    "    val[f]=val[f].map(lambda x:  d[x])"
   ]
  },
  {
   "cell_type": "code",
   "execution_count": 14,
   "metadata": {},
   "outputs": [],
   "source": [
    "import keras.backend as K\n",
    "def metric_loss(batch_size):\n",
    "    d = np.sum(np.abs(valY))\n",
    "    def the_loss(y_true, y_pred):\n",
    "        return -(len(val.customer_id.values)/batch_size)*K.sum(y_true*y_pred)/d\n",
    "    return(the_loss)\n"
   ]
  },
  {
   "cell_type": "code",
   "execution_count": 15,
   "metadata": {},
   "outputs": [],
   "source": [
    "def reaction_to_class(reaction):\n",
    "    if reaction==\"dislike\":\n",
    "        return -10\n",
    "    if reaction==\"like\":\n",
    "        return 0.5\n",
    "    if reaction==\"view\":\n",
    "        return 0.1\n",
    "    if reaction==\"skip\":\n",
    "        return -0.1\n",
    "trainY = np.array(list(train.event.map(lambda x: reaction_to_class(x)).values))\n",
    "valY = np.array(list(val.event.map(lambda x: reaction_to_class(x)).values))"
   ]
  },
  {
   "cell_type": "code",
   "execution_count": 16,
   "metadata": {},
   "outputs": [
    {
     "name": "stdout",
     "output_type": "stream",
     "text": [
      "Model: \"model_1\"\n",
      "__________________________________________________________________________________________________\n",
      "Layer (type)                    Output Shape         Param #     Connected to                     \n",
      "==================================================================================================\n",
      "customer_id (InputLayer)        (None, 1)            0                                            \n",
      "__________________________________________________________________________________________________\n",
      "story_id (InputLayer)           (None, 1)            0                                            \n",
      "__________________________________________________________________________________________________\n",
      "producs (InputLayer)            (None, 7)            0                                            \n",
      "__________________________________________________________________________________________________\n",
      "story_name_id (InputLayer)      (None, 1)            0                                            \n",
      "__________________________________________________________________________________________________\n",
      "model_input_subset (InputLayer) (None, 1)            0                                            \n",
      "__________________________________________________________________________________________________\n",
      "embedding_1 (Embedding)         (None, 1, 4)         164004      customer_id[0][0]                \n",
      "__________________________________________________________________________________________________\n",
      "embedding_2 (Embedding)         (None, 1, 2)         1826        story_id[0][0]                   \n",
      "__________________________________________________________________________________________________\n",
      "embedding_3 (Embedding)         (None, 7, 1)         4           producs[0][0]                    \n",
      "__________________________________________________________________________________________________\n",
      "embedding_4 (Embedding)         (None, 1, 2)         22          story_name_id[0][0]              \n",
      "__________________________________________________________________________________________________\n",
      "embedding_5 (Embedding)         (None, 1, 2)         40          model_input_subset[0][0]         \n",
      "__________________________________________________________________________________________________\n",
      "flatten_1 (Flatten)             (None, 4)            0           embedding_1[0][0]                \n",
      "__________________________________________________________________________________________________\n",
      "flatten_2 (Flatten)             (None, 2)            0           embedding_2[0][0]                \n",
      "__________________________________________________________________________________________________\n",
      "flatten_3 (Flatten)             (None, 7)            0           embedding_3[0][0]                \n",
      "__________________________________________________________________________________________________\n",
      "flatten_4 (Flatten)             (None, 2)            0           embedding_4[0][0]                \n",
      "__________________________________________________________________________________________________\n",
      "customer_data (InputLayer)      (None, 3)            0                                            \n",
      "__________________________________________________________________________________________________\n",
      "customer_data2 (InputLayer)     (None, 2)            0                                            \n",
      "__________________________________________________________________________________________________\n",
      "flatten_5 (Flatten)             (None, 2)            0           embedding_5[0][0]                \n",
      "__________________________________________________________________________________________________\n",
      "concatenate_2 (Concatenate)     (None, 6)            0           flatten_1[0][0]                  \n",
      "                                                                 flatten_2[0][0]                  \n",
      "__________________________________________________________________________________________________\n",
      "concatenate_1 (Concatenate)     (None, 16)           0           flatten_3[0][0]                  \n",
      "                                                                 flatten_4[0][0]                  \n",
      "                                                                 customer_data[0][0]              \n",
      "                                                                 customer_data2[0][0]             \n",
      "                                                                 flatten_5[0][0]                  \n",
      "__________________________________________________________________________________________________\n",
      "dense_1 (Dense)                 (None, 8)            56          concatenate_2[0][0]              \n",
      "__________________________________________________________________________________________________\n",
      "dense_2 (Dense)                 (None, 4)            68          concatenate_1[0][0]              \n",
      "__________________________________________________________________________________________________\n",
      "concatenate_3 (Concatenate)     (None, 12)           0           dense_1[0][0]                    \n",
      "                                                                 dense_2[0][0]                    \n",
      "__________________________________________________________________________________________________\n",
      "dense_3 (Dense)                 (None, 1)            13          concatenate_3[0][0]              \n",
      "==================================================================================================\n",
      "Total params: 166,033\n",
      "Trainable params: 166,033\n",
      "Non-trainable params: 0\n",
      "__________________________________________________________________________________________________\n",
      "None\n"
     ]
    }
   ],
   "source": [
    "model_input_customer = Input((1,), name='customer_id')\n",
    "customer = Embedding(customers_count, 4, input_length=1)(model_input_customer)\n",
    "customer = Flatten()(customer)\n",
    "\n",
    "model_input_story = Input((1,), name='story_id')\n",
    "story = Embedding(stories_count, 2, input_length=1)(model_input_story)\n",
    "story = Flatten()(story)\n",
    "\n",
    "model_input_products = Input((7,), name='producs')\n",
    "products = Embedding(producs_count, 1, input_length=7)(model_input_products)\n",
    "products = Flatten()(products)\n",
    "\n",
    "\n",
    "\n",
    "model_input_story_name = Input((1,), name='story_name_id')\n",
    "story_name = Embedding(jsons_name_type_count, 2, input_length=1)(model_input_story_name)\n",
    "story_name = Flatten()(story_name)\n",
    "\n",
    "model_input_subset = Input((1,), name='model_input_subset')\n",
    "subset = Embedding(20, 2, input_length=1)(model_input_subset)\n",
    "subset = Flatten()(subset)\n",
    "\n",
    "\n",
    "model_input_3 = Input((3,), name='customer_data')\n",
    "model_input_4 = Input((2,), name='customer_data2')\n",
    "\n",
    "\n",
    "x_other = Concatenate()([ products, story_name, model_input_3, model_input_4, subset])\n",
    "x = Concatenate()([customer, story])\n",
    "\n",
    "\n",
    "x = Dense(8, \n",
    "          activation='relu', \n",
    "         )(x)\n",
    "\n",
    "\n",
    "x_other = Dense(4, \n",
    "          activation='relu', \n",
    "         )(x_other)\n",
    "\n",
    "\n",
    "\n",
    "\n",
    "x = Concatenate()([x, x_other])\n",
    "\n",
    "\n",
    "\n",
    "x = Dense(1, activation='tanh')(x)\n",
    "model = Model([model_input_customer, \n",
    "               model_input_story, \n",
    "               model_input_story_name,\n",
    "               model_input_subset,\n",
    "               model_input_3,\n",
    "               model_input_4, \n",
    "               model_input_products,\n",
    "              ], x)\n",
    "\n",
    "\n",
    "\n",
    "\n",
    "\n",
    "print(model.summary())"
   ]
  },
  {
   "cell_type": "code",
   "execution_count": null,
   "metadata": {},
   "outputs": [],
   "source": []
  },
  {
   "cell_type": "code",
   "execution_count": 17,
   "metadata": {},
   "outputs": [],
   "source": [
    "# batch_size=320248\n",
    "batch_size=64\n",
    "adam = optimizers.Adam(lr=0.001)\n",
    "model.compile(optimizer=adam, loss=metric_loss(batch_size))\n"
   ]
  },
  {
   "cell_type": "code",
   "execution_count": 19,
   "metadata": {
    "scrolled": true
   },
   "outputs": [
    {
     "name": "stdout",
     "output_type": "stream",
     "text": [
      "Train on 320248 samples, validate on 152893 samples\n",
      "Epoch 1/1\n",
      "320248/320248 [==============================] - 15s 46us/step - loss: -0.5910 - val_loss: -0.3494\n"
     ]
    },
    {
     "data": {
      "text/plain": [
       "<keras.callbacks.callbacks.History at 0x7fd48a2249b0>"
      ]
     },
     "execution_count": 19,
     "metadata": {},
     "output_type": "execute_result"
    }
   ],
   "source": [
    "\n",
    "\n",
    "model.fit(\n",
    "    shuffle=True,\n",
    "        x = [train.customer_id.values,\n",
    "             train.story_id.values,\n",
    "             train.jsons_name_type.values, \n",
    "             train.subsets.values,\n",
    "             \n",
    "             train[['gender_cd', 'children_cnt', 'first_session_dttm_year']].values,\n",
    "             train[['reaction_hour', 'reaction_dayofweek']].values/30,\n",
    "             train[['product_0', 'product_1', 'product_2', 'product_3', 'product_4', 'product_5', 'product_6']].values,\n",
    "            ], \n",
    "          y = trainY,\n",
    "          batch_size=batch_size,\n",
    "          epochs=1,\n",
    "          validation_data=([val.customer_id.values, \n",
    "                            val.story_id.values, \n",
    "                            val.jsons_name_type.values, \n",
    "                            val.subsets.values,\n",
    "                            val[['gender_cd', 'children_cnt', 'first_session_dttm_year']].values,\n",
    "                            val[['reaction_hour', 'reaction_dayofweek']].values/30,\n",
    "                            val[['product_0', 'product_1', 'product_2', 'product_3', 'product_4', 'product_5', 'product_6']].values,\n",
    "                           ], valY),\n",
    "         )\n",
    "\n",
    "# 320248/320248 [==============================] - 13s 41us/step - loss: -0.6153 - val_loss: -0.3492\n",
    "# 320248/320248 [==============================] - 13s 42us/step - loss: -0.7373 - val_loss: -0.3607\n",
    "# 320248/320248 [==============================] - 14s 42us/step - loss: -0.7263 - val_loss: -0.3656 size 4 tanh\n",
    "# 320248/320248 [==============================] - 14s 43us/step - loss: -0.7046 - val_loss: -0.3612 size 128 relu\n",
    "# 320248/320248 [==============================] - 14s 44us/step - loss: -0.7110 - val_loss: -0.3455 size 128 lrelu\n",
    "# 320248/320248 [==============================] - 14s 43us/step - loss: -0.6390 - val_loss: -0.3683 size 128 relu increase embs\n",
    "# 320248/320248 [==============================] - 16s 48us/step - loss: -0.6319 - val_loss: -0.3705 job_position_cd\n",
    "\n",
    "\n",
    "# 378578/378578 [==============================] - 61s 161us/step - loss: -0.4684 - val_loss: -0.4269\n",
    "# 378578/378578 [==============================] - 15s 41us/step - loss: -0.5597 - val_loss: -0.4413\n",
    "# 378578/378578 [==============================] - 2s 6us/step - loss: -0.5903 - val_loss: -0.4453"
   ]
  },
  {
   "cell_type": "code",
   "execution_count": 114,
   "metadata": {},
   "outputs": [
    {
     "data": {
      "text/plain": [
       "-0.35598356061260344"
      ]
     },
     "execution_count": 114,
     "metadata": {},
     "output_type": "execute_result"
    }
   ],
   "source": [
    "# train_predict = model.predict([train.customer_id.values,\n",
    "#              train.story_id.values,\n",
    "#              0*train.jsons_name_type.values, \n",
    "#              train.job_title.values,\n",
    "#              train.job_position_cd.values,\n",
    "#              0*train.marital_status_cd.values,\n",
    "#              train[['age', 'gender_cd', 'children_cnt', 'first_session_dttm_year']].values,\n",
    "#              train[[ 'customer_shows']].values/3000,\n",
    "#              0*train[['transaction_amt_count', 'transaction_amt_min', 'transaction_amt_max']].values,\n",
    "#              train[['reaction_hour', 'reaction_dayofweek']].values/30,\n",
    "#              train[['product_0', 'product_1', 'product_2', 'product_3', 'product_4', 'product_5', 'product_6']].values\n",
    "#            ])\n",
    "val_predict = model.predict([val.customer_id.values, \n",
    "                            val.story_id.values, \n",
    "                            val.jsons_name_type.values, \n",
    "                            val.subsets.values,\n",
    "                            val[['gender_cd', 'children_cnt', 'first_session_dttm_year']].values,\n",
    "                            val[['reaction_hour', 'reaction_dayofweek']].values/30,\n",
    "                            val[['product_0', 'product_1', 'product_2', 'product_3', 'product_4', 'product_5', 'product_6']].values,\n",
    "                            ])\n",
    "# train_predict = model.predict(train.customer_id.values)\n",
    "# val_predict = model.predict(val.customer_id.values)\n",
    "-np.sum(valY*val_predict[:,0] )/np.sum(np.abs(valY))\n",
    "# -0.3585501646600242"
   ]
  },
  {
   "cell_type": "code",
   "execution_count": 21,
   "metadata": {},
   "outputs": [],
   "source": [
    "# np.sum(np.abs(trainY))"
   ]
  },
  {
   "cell_type": "code",
   "execution_count": 22,
   "metadata": {},
   "outputs": [],
   "source": [
    "# -np.sum(trainY*train_predict[:,0])/np.sum(np.abs(trainY))"
   ]
  },
  {
   "cell_type": "code",
   "execution_count": 23,
   "metadata": {},
   "outputs": [],
   "source": [
    "# -np.sum(trainY*train_predict[:,0] )/np.sum(np.abs(trainY))\n"
   ]
  },
  {
   "cell_type": "code",
   "execution_count": 24,
   "metadata": {},
   "outputs": [
    {
     "data": {
      "text/plain": [
       "-0.43540499300279123"
      ]
     },
     "execution_count": 24,
     "metadata": {},
     "output_type": "execute_result"
    }
   ],
   "source": [
    "-np.sum(valY*val_predict[:,0] )/np.sum(np.abs(valY))\n",
    "# -0.22921870322866542\n",
    "# -0.29499408463224436\n",
    "# -0.3365937438413243\n",
    "# -0.34325145608255186\n",
    "# -0.35394938525789055\n",
    "\n",
    "\n",
    "# -0.34627157632374744"
   ]
  },
  {
   "cell_type": "code",
   "execution_count": 25,
   "metadata": {},
   "outputs": [
    {
     "name": "stderr",
     "output_type": "stream",
     "text": [
      "/home/ivan/PycharmProjects/tks_stories/venv/lib/python3.6/site-packages/ipykernel_launcher.py:1: SettingWithCopyWarning: \n",
      "A value is trying to be set on a copy of a slice from a DataFrame.\n",
      "Try using .loc[row_indexer,col_indexer] = value instead\n",
      "\n",
      "See the caveats in the documentation: http://pandas.pydata.org/pandas-docs/stable/user_guide/indexing.html#returning-a-view-versus-a-copy\n",
      "  \"\"\"Entry point for launching an IPython kernel.\n"
     ]
    }
   ],
   "source": [
    "val['predict'] = val_predict[:,0]"
   ]
  },
  {
   "cell_type": "code",
   "execution_count": 26,
   "metadata": {},
   "outputs": [
    {
     "name": "stderr",
     "output_type": "stream",
     "text": [
      "/home/ivan/PycharmProjects/tks_stories/venv/lib/python3.6/site-packages/pandas/core/indexing.py:494: SettingWithCopyWarning: \n",
      "A value is trying to be set on a copy of a slice from a DataFrame.\n",
      "Try using .loc[row_indexer,col_indexer] = value instead\n",
      "\n",
      "See the caveats in the documentation: http://pandas.pydata.org/pandas-docs/stable/user_guide/indexing.html#returning-a-view-versus-a-copy\n",
      "  self.obj[item] = s\n"
     ]
    }
   ],
   "source": [
    "val.loc[~val.customer_id.isin(set(train.customer_id.values)),'predict'] =-1"
   ]
  },
  {
   "cell_type": "code",
   "execution_count": 27,
   "metadata": {},
   "outputs": [
    {
     "data": {
      "text/plain": [
       "-0.4355258749860764"
      ]
     },
     "execution_count": 27,
     "metadata": {},
     "output_type": "execute_result"
    }
   ],
   "source": [
    "-np.sum(valY*val['predict'])/np.sum(np.abs(valY))\n",
    "# -0.26261507362945524\n",
    "# -0.29364859095899104\n",
    "# -0.3315410025698421"
   ]
  },
  {
   "cell_type": "code",
   "execution_count": null,
   "metadata": {},
   "outputs": [],
   "source": []
  },
  {
   "cell_type": "code",
   "execution_count": null,
   "metadata": {},
   "outputs": [],
   "source": []
  }
 ],
 "metadata": {
  "kernelspec": {
   "display_name": "Python 3",
   "language": "python",
   "name": "python3"
  },
  "language_info": {
   "codemirror_mode": {
    "name": "ipython",
    "version": 3
   },
   "file_extension": ".py",
   "mimetype": "text/x-python",
   "name": "python",
   "nbconvert_exporter": "python",
   "pygments_lexer": "ipython3",
   "version": "3.6.8"
  }
 },
 "nbformat": 4,
 "nbformat_minor": 2
}
