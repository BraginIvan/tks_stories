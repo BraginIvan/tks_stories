{
 "cells": [
  {
   "cell_type": "code",
   "execution_count": 1,
   "metadata": {},
   "outputs": [
    {
     "name": "stderr",
     "output_type": "stream",
     "text": [
      "Using TensorFlow backend.\n",
      "/home/ivan/projects/tks_stories/venv/lib/python3.6/site-packages/tensorflow/python/framework/dtypes.py:516: FutureWarning: Passing (type, 1) or '1type' as a synonym of type is deprecated; in a future version of numpy, it will be understood as (type, (1,)) / '(1,)type'.\n",
      "  _np_qint8 = np.dtype([(\"qint8\", np.int8, 1)])\n",
      "/home/ivan/projects/tks_stories/venv/lib/python3.6/site-packages/tensorflow/python/framework/dtypes.py:517: FutureWarning: Passing (type, 1) or '1type' as a synonym of type is deprecated; in a future version of numpy, it will be understood as (type, (1,)) / '(1,)type'.\n",
      "  _np_quint8 = np.dtype([(\"quint8\", np.uint8, 1)])\n",
      "/home/ivan/projects/tks_stories/venv/lib/python3.6/site-packages/tensorflow/python/framework/dtypes.py:518: FutureWarning: Passing (type, 1) or '1type' as a synonym of type is deprecated; in a future version of numpy, it will be understood as (type, (1,)) / '(1,)type'.\n",
      "  _np_qint16 = np.dtype([(\"qint16\", np.int16, 1)])\n",
      "/home/ivan/projects/tks_stories/venv/lib/python3.6/site-packages/tensorflow/python/framework/dtypes.py:519: FutureWarning: Passing (type, 1) or '1type' as a synonym of type is deprecated; in a future version of numpy, it will be understood as (type, (1,)) / '(1,)type'.\n",
      "  _np_quint16 = np.dtype([(\"quint16\", np.uint16, 1)])\n",
      "/home/ivan/projects/tks_stories/venv/lib/python3.6/site-packages/tensorflow/python/framework/dtypes.py:520: FutureWarning: Passing (type, 1) or '1type' as a synonym of type is deprecated; in a future version of numpy, it will be understood as (type, (1,)) / '(1,)type'.\n",
      "  _np_qint32 = np.dtype([(\"qint32\", np.int32, 1)])\n",
      "/home/ivan/projects/tks_stories/venv/lib/python3.6/site-packages/tensorflow/python/framework/dtypes.py:525: FutureWarning: Passing (type, 1) or '1type' as a synonym of type is deprecated; in a future version of numpy, it will be understood as (type, (1,)) / '(1,)type'.\n",
      "  np_resource = np.dtype([(\"resource\", np.ubyte, 1)])\n",
      "/home/ivan/projects/tks_stories/venv/lib/python3.6/site-packages/tensorboard/compat/tensorflow_stub/dtypes.py:541: FutureWarning: Passing (type, 1) or '1type' as a synonym of type is deprecated; in a future version of numpy, it will be understood as (type, (1,)) / '(1,)type'.\n",
      "  _np_qint8 = np.dtype([(\"qint8\", np.int8, 1)])\n",
      "/home/ivan/projects/tks_stories/venv/lib/python3.6/site-packages/tensorboard/compat/tensorflow_stub/dtypes.py:542: FutureWarning: Passing (type, 1) or '1type' as a synonym of type is deprecated; in a future version of numpy, it will be understood as (type, (1,)) / '(1,)type'.\n",
      "  _np_quint8 = np.dtype([(\"quint8\", np.uint8, 1)])\n",
      "/home/ivan/projects/tks_stories/venv/lib/python3.6/site-packages/tensorboard/compat/tensorflow_stub/dtypes.py:543: FutureWarning: Passing (type, 1) or '1type' as a synonym of type is deprecated; in a future version of numpy, it will be understood as (type, (1,)) / '(1,)type'.\n",
      "  _np_qint16 = np.dtype([(\"qint16\", np.int16, 1)])\n",
      "/home/ivan/projects/tks_stories/venv/lib/python3.6/site-packages/tensorboard/compat/tensorflow_stub/dtypes.py:544: FutureWarning: Passing (type, 1) or '1type' as a synonym of type is deprecated; in a future version of numpy, it will be understood as (type, (1,)) / '(1,)type'.\n",
      "  _np_quint16 = np.dtype([(\"quint16\", np.uint16, 1)])\n",
      "/home/ivan/projects/tks_stories/venv/lib/python3.6/site-packages/tensorboard/compat/tensorflow_stub/dtypes.py:545: FutureWarning: Passing (type, 1) or '1type' as a synonym of type is deprecated; in a future version of numpy, it will be understood as (type, (1,)) / '(1,)type'.\n",
      "  _np_qint32 = np.dtype([(\"qint32\", np.int32, 1)])\n",
      "/home/ivan/projects/tks_stories/venv/lib/python3.6/site-packages/tensorboard/compat/tensorflow_stub/dtypes.py:550: FutureWarning: Passing (type, 1) or '1type' as a synonym of type is deprecated; in a future version of numpy, it will be understood as (type, (1,)) / '(1,)type'.\n",
      "  np_resource = np.dtype([(\"resource\", np.ubyte, 1)])\n"
     ]
    }
   ],
   "source": [
    "import pandas as pd\n",
    "import numpy as np\n",
    "from catboost import CatBoostClassifier, Pool,CatBoost, CatBoostRegressor\n",
    "from collections import Counter\n",
    "from keras.layers import Dense, Dropout, Embedding, Input, Reshape, Concatenate, Input, Flatten, LeakyReLU,BatchNormalization\n",
    "from keras.layers import Multiply\n",
    "\n",
    "from keras.models import Model\n",
    "from keras import optimizers\n",
    "from keras import regularizers\n",
    "import json\n",
    "import re\n",
    "import math"
   ]
  },
  {
   "cell_type": "code",
   "execution_count": 2,
   "metadata": {},
   "outputs": [],
   "source": [
    "def jsons_name_type(jsons_name):\n",
    "    if not jsons_name:\n",
    "        return -1\n",
    "    if \"Цифра дня\" in jsons_name:\n",
    "        return 1\n",
    "    if \"AliExpress\" in jsons_name:\n",
    "        return 2 \n",
    "    if \"Тинькофф\" in jsons_name or \"Tinkoff\" in jsons_name:\n",
    "        return 3\n",
    "    if \"ЧМ\" in jsons_name:\n",
    "        return 4\n",
    "    if \"фильм\"  in jsons_name or \"смотрет\"  in jsons_name:\n",
    "        return 5\n",
    "    if \"кредит\"  in jsons_name:\n",
    "        return 6\n",
    "    if \"инвестиц\"  in jsons_name:\n",
    "        return 7\n",
    "    if \"₽\"  in jsons_name or \"$\"  in jsons_name:\n",
    "        return 8\n",
    "    if \"тпуск\"  in jsons_name:\n",
    "        return 9\n",
    "    return 0"
   ]
  },
  {
   "cell_type": "code",
   "execution_count": 3,
   "metadata": {},
   "outputs": [],
   "source": [
    "data_path = 'dataset/'\n",
    "customer_train = pd.read_csv(f'{data_path}customer_train.csv')\n",
    "customer_train['first_session_dttm']=pd.to_datetime(customer_train['first_session_dttm'],infer_datetime_format=True)\n",
    "customer_test = pd.read_csv(f'{data_path}customer_test.csv')\n",
    "customer_test['first_session_dttm']=pd.to_datetime(customer_test['first_session_dttm'],infer_datetime_format=True)\n",
    "stories_description = pd.read_csv(f'{data_path}stories_description.csv')\n",
    "\n",
    "stories_reaction_test = pd.read_csv(f'{data_path}stories_reaction_test.csv')\n",
    "stories_reaction_test['event_dttm']=pd.to_datetime(stories_reaction_test['event_dttm'],infer_datetime_format=True)\n",
    "stories_reaction_train = pd.read_csv(f'{data_path}stories_reaction_train.csv')\n",
    "stories_reaction_train['event_dttm']=pd.to_datetime(stories_reaction_train['event_dttm'],infer_datetime_format=True)\n",
    "transactions = pd.read_csv(f'{data_path}transactions.csv')\n",
    "\n",
    "\n",
    "sample_submit = pd.read_csv(f'{data_path}sample_submit.csv')"
   ]
  },
  {
   "cell_type": "code",
   "execution_count": 4,
   "metadata": {},
   "outputs": [],
   "source": [
    "\n",
    "subsets = stories_reaction_train.groupby(['customer_id', 'event_dttm']).count().reset_index()[['customer_id', 'event_dttm', 'story_id']]\n",
    "subsets.columns = ['customer_id', 'event_dttm','subsets']\n",
    "stories_reaction_train=stories_reaction_train.merge(subsets, on=['customer_id', 'event_dttm'], how='left')\n",
    "\n",
    "subsets = stories_reaction_test.groupby(['customer_id', 'event_dttm']).count().reset_index()[['customer_id', 'event_dttm', 'story_id']]\n",
    "subsets.columns = ['customer_id', 'event_dttm','subsets']\n",
    "stories_reaction_test=stories_reaction_test.merge(subsets, on=['customer_id', 'event_dttm'], how='left')"
   ]
  },
  {
   "cell_type": "code",
   "execution_count": 5,
   "metadata": {},
   "outputs": [],
   "source": [
    "stories_reaction_train['reaction_hour']=stories_reaction_train.event_dttm.dt.hour\n",
    "stories_reaction_test['reaction_hour']=stories_reaction_test.event_dttm.dt.hour\n",
    "stories_reaction_train['reaction_dayofweek']=stories_reaction_train.event_dttm.dt.dayofweek\n",
    "stories_reaction_test['reaction_dayofweek']=stories_reaction_test.event_dttm.dt.dayofweek\n",
    "\n",
    "stories_description['jsons'] = stories_description.story_json.map(lambda x:json.loads(x.replace(\"\\\\\\\\\", \"\\\\\")))\n",
    "stories_description['jsons_name'] =stories_description.jsons.map(lambda x:x['properties'].get('name'))\n",
    "stories_description['texts'] =stories_description.jsons.map(lambda x:re.findall(\"\"\"\"text\": \\\"([^\\\"]*)\\\",\"\"\", json.dumps(x, ensure_ascii=False)))\n",
    "stories_description['jsons_name_type'] = stories_description.jsons_name.map(lambda x:jsons_name_type(x))"
   ]
  },
  {
   "cell_type": "code",
   "execution_count": 6,
   "metadata": {},
   "outputs": [],
   "source": [
    "customer_train['first_session_dttm_year']=(customer_train.first_session_dttm.dt.year-2000)/20\n"
   ]
  },
  {
   "cell_type": "code",
   "execution_count": null,
   "metadata": {},
   "outputs": [],
   "source": []
  },
  {
   "cell_type": "code",
   "execution_count": 7,
   "metadata": {},
   "outputs": [],
   "source": [
    "train_and_val = stories_reaction_train.merge(customer_train, on='customer_id', how='left')\n",
    "train_and_val = train_and_val.merge(stories_description, on='story_id', how='left')\n",
    "test = stories_reaction_test.merge(customer_test, on='customer_id', how='left')\n",
    "test = test.merge(stories_description, on='story_id', how='left')\n",
    "train_and_val=train_and_val.fillna(0)\n"
   ]
  },
  {
   "cell_type": "code",
   "execution_count": null,
   "metadata": {},
   "outputs": [],
   "source": []
  },
  {
   "cell_type": "code",
   "execution_count": 8,
   "metadata": {},
   "outputs": [],
   "source": [
    "# stories_history = train_and_val.sort_values('event_dttm')[['customer_id', 'story_id']].groupby('customer_id').story_id.apply(list).to_frame().reset_index()\n",
    "# stories_history.columns = ['customer_id', 'stories_history']\n",
    "# train_and_val = train_and_val.merge(stories_history, on='customer_id', how='left')\n",
    "# train_and_val[['stories_history', 'story_id']].stories_history.values[0].index(138)\n",
    "# train_and_val['stories_history2'] = train_and_val[['stories_history', 'story_id']].apply(lambda x : x['stories_history'][:x['stories_history'].index(x['story_id'])],axis=1)\n",
    "# def static_history(x, size):\n",
    "#     res = ([0]*max(0,(size-len(x))))\n",
    "#     res.extend(x[-size:])\n",
    "#     return res\n",
    "# train_and_val['stories_history3']=train_and_val.stories_history2.map(lambda x :static_history(x,10))"
   ]
  },
  {
   "cell_type": "code",
   "execution_count": null,
   "metadata": {},
   "outputs": [],
   "source": []
  },
  {
   "cell_type": "code",
   "execution_count": null,
   "metadata": {},
   "outputs": [],
   "source": []
  },
  {
   "cell_type": "code",
   "execution_count": 9,
   "metadata": {},
   "outputs": [],
   "source": [
    "train_dates = stories_reaction_train['event_dttm'].astype(np.int64)\n",
    "test_dates = stories_reaction_test['event_dttm'].astype(np.int64)\n",
    "period = train_dates.max() - (test_dates.max() - test_dates.min())\n",
    "\n",
    "# np.random.seed(19)\n",
    "# msk = np.random.rand(len(train_and_val)) < 0.8\n",
    "# train = train_and_val[msk]\n",
    "# val = train_and_val[~msk]\n",
    "\n",
    "val = train_and_val[train_and_val.event_dttm.astype(np.int64) > period]\n",
    "train = train_and_val[train_and_val.event_dttm.astype(np.int64) <= period]"
   ]
  },
  {
   "cell_type": "code",
   "execution_count": 10,
   "metadata": {},
   "outputs": [],
   "source": [
    "# customer_shows = train.groupby('customer_id')['event'].count().to_frame().reset_index() \n",
    "# customer_shows.columns = ['customer_id', 'customer_shows']\n",
    "# customer_shows=customer_shows.fillna(0)\n",
    "# train=train.merge(customer_shows, on='customer_id')\n",
    "# val=val.merge(customer_shows, on='customer_id', how='left')\n",
    "# train['customer_shows']=train.customer_shows.fillna(-999)\n",
    "# val['customer_shows']=val.customer_shows.fillna(-999)"
   ]
  },
  {
   "cell_type": "code",
   "execution_count": 11,
   "metadata": {},
   "outputs": [
    {
     "data": {
      "text/plain": [
       "(320248, 152893)"
      ]
     },
     "execution_count": 11,
     "metadata": {},
     "output_type": "execute_result"
    }
   ],
   "source": [
    "len(train), len(val) "
   ]
  },
  {
   "cell_type": "code",
   "execution_count": 12,
   "metadata": {},
   "outputs": [
    {
     "name": "stderr",
     "output_type": "stream",
     "text": [
      "/home/ivan/projects/tks_stories/venv/lib/python3.6/site-packages/ipykernel_launcher.py:1: SettingWithCopyWarning: \n",
      "A value is trying to be set on a copy of a slice from a DataFrame.\n",
      "Try using .loc[row_indexer,col_indexer] = value instead\n",
      "\n",
      "See the caveats in the documentation: http://pandas.pydata.org/pandas-docs/stable/user_guide/indexing.html#returning-a-view-versus-a-copy\n",
      "  \"\"\"Entry point for launching an IPython kernel.\n",
      "/home/ivan/projects/tks_stories/venv/lib/python3.6/site-packages/ipykernel_launcher.py:2: SettingWithCopyWarning: \n",
      "A value is trying to be set on a copy of a slice from a DataFrame.\n",
      "Try using .loc[row_indexer,col_indexer] = value instead\n",
      "\n",
      "See the caveats in the documentation: http://pandas.pydata.org/pandas-docs/stable/user_guide/indexing.html#returning-a-view-versus-a-copy\n",
      "  \n",
      "/home/ivan/projects/tks_stories/venv/lib/python3.6/site-packages/ipykernel_launcher.py:3: SettingWithCopyWarning: \n",
      "A value is trying to be set on a copy of a slice from a DataFrame.\n",
      "Try using .loc[row_indexer,col_indexer] = value instead\n",
      "\n",
      "See the caveats in the documentation: http://pandas.pydata.org/pandas-docs/stable/user_guide/indexing.html#returning-a-view-versus-a-copy\n",
      "  This is separate from the ipykernel package so we can avoid doing imports until\n",
      "/home/ivan/projects/tks_stories/venv/lib/python3.6/site-packages/ipykernel_launcher.py:4: SettingWithCopyWarning: \n",
      "A value is trying to be set on a copy of a slice from a DataFrame.\n",
      "Try using .loc[row_indexer,col_indexer] = value instead\n",
      "\n",
      "See the caveats in the documentation: http://pandas.pydata.org/pandas-docs/stable/user_guide/indexing.html#returning-a-view-versus-a-copy\n",
      "  after removing the cwd from sys.path.\n"
     ]
    }
   ],
   "source": [
    "\n",
    "train['gender_cd']=train.gender_cd.map(lambda x: 1 if x ==\"M\" else(0 if x ==\"F\" else -1))\n",
    "val['gender_cd']=val.gender_cd.map(lambda x: 1 if x ==\"M\" else(0 if x ==\"F\" else -1))\n",
    "val['children_cnt']=val.children_cnt/10\n",
    "train['children_cnt']=train.children_cnt/10\n"
   ]
  },
  {
   "cell_type": "code",
   "execution_count": 13,
   "metadata": {},
   "outputs": [
    {
     "name": "stderr",
     "output_type": "stream",
     "text": [
      "/home/ivan/projects/tks_stories/venv/lib/python3.6/site-packages/ipykernel_launcher.py:4: SettingWithCopyWarning: \n",
      "A value is trying to be set on a copy of a slice from a DataFrame.\n",
      "Try using .loc[row_indexer,col_indexer] = value instead\n",
      "\n",
      "See the caveats in the documentation: http://pandas.pydata.org/pandas-docs/stable/user_guide/indexing.html#returning-a-view-versus-a-copy\n",
      "  after removing the cwd from sys.path.\n",
      "/home/ivan/projects/tks_stories/venv/lib/python3.6/site-packages/ipykernel_launcher.py:5: SettingWithCopyWarning: \n",
      "A value is trying to be set on a copy of a slice from a DataFrame.\n",
      "Try using .loc[row_indexer,col_indexer] = value instead\n",
      "\n",
      "See the caveats in the documentation: http://pandas.pydata.org/pandas-docs/stable/user_guide/indexing.html#returning-a-view-versus-a-copy\n",
      "  \"\"\"\n"
     ]
    }
   ],
   "source": [
    "def to_OHE(field):\n",
    "    count = len(set(train_and_val[field].values))\n",
    "    d = dict(zip(list(set(train_and_val[field].values)), range(1, count+1)))\n",
    "    train[field]=train[field].map(lambda x:  d[x])\n",
    "    val[field]=val[field].map(lambda x:  d[x])\n",
    "    return count\n",
    "customers_count = to_OHE('customer_id')\n",
    "stories_count = to_OHE('story_id')\n",
    "jsons_name_type_count = to_OHE('jsons_name_type')\n",
    "\n",
    "\n"
   ]
  },
  {
   "cell_type": "code",
   "execution_count": 14,
   "metadata": {},
   "outputs": [],
   "source": [
    "train = train.drop_duplicates(['customer_id', 'story_id', 'event'])\n",
    "# train = train[train.customer_id.isin(set(val.customer_id.values))]\n",
    "importance = val.customer_id.value_counts().map(lambda x : math.log(x+1)).to_frame().reset_index()\n",
    "# importance = val.customer_id.value_counts().map(lambda x : x+1).to_frame().reset_index()\n",
    "\n",
    "importance.columns = ['customer_id', 'importance']\n",
    "train = train.merge(importance, on='customer_id', how='left')\n",
    "train['importance'].fillna(0.5, inplace=True)"
   ]
  },
  {
   "cell_type": "code",
   "execution_count": null,
   "metadata": {},
   "outputs": [],
   "source": []
  },
  {
   "cell_type": "code",
   "execution_count": 15,
   "metadata": {},
   "outputs": [],
   "source": [
    "# values = set(np.concatenate(np.array(train_and_val.stories_history3.values)))\n",
    "# stories_history_count = len(values)\n",
    "# d = dict(zip(list(values), range(1, len(values)+1)))\n",
    "\n",
    "# train['stories_history3'] = train['stories_history3'].map(lambda f:  [d[i] for i in f])\n",
    "# val['stories_history3'] = val['stories_history3'].map(lambda f:  [d[i] for i in f])"
   ]
  },
  {
   "cell_type": "code",
   "execution_count": null,
   "metadata": {},
   "outputs": [],
   "source": []
  },
  {
   "cell_type": "code",
   "execution_count": 16,
   "metadata": {},
   "outputs": [
    {
     "name": "stderr",
     "output_type": "stream",
     "text": [
      "/home/ivan/projects/tks_stories/venv/lib/python3.6/site-packages/ipykernel_launcher.py:6: SettingWithCopyWarning: \n",
      "A value is trying to be set on a copy of a slice from a DataFrame.\n",
      "Try using .loc[row_indexer,col_indexer] = value instead\n",
      "\n",
      "See the caveats in the documentation: http://pandas.pydata.org/pandas-docs/stable/user_guide/indexing.html#returning-a-view-versus-a-copy\n",
      "  \n"
     ]
    }
   ],
   "source": [
    "values = set(train_and_val[['product_0', 'product_1', 'product_2', 'product_3', 'product_4', 'product_5', 'product_6']].values.reshape(-1))\n",
    "producs_count = len(values)\n",
    "d = dict(zip(list(values), range(1, len(values)+1)))\n",
    "for f in ['product_0', 'product_1', 'product_2', 'product_3', 'product_4', 'product_5', 'product_6']:\n",
    "    train[f]=train[f].map(lambda x:  d[x])\n",
    "    val[f]=val[f].map(lambda x:  d[x])"
   ]
  },
  {
   "cell_type": "code",
   "execution_count": 17,
   "metadata": {},
   "outputs": [],
   "source": [
    "import keras.backend as K\n",
    "def metric_loss(batch_size):\n",
    "    d = np.sum(np.abs(valY))\n",
    "    def the_loss(y_true, y_pred):\n",
    "        return -(len(val.customer_id.values)/batch_size)*K.sum(y_true*y_pred)/d\n",
    "    return(the_loss)\n"
   ]
  },
  {
   "cell_type": "code",
   "execution_count": 18,
   "metadata": {},
   "outputs": [],
   "source": [
    "def reaction_to_class(reaction, importance=1):\n",
    "    if reaction==\"dislike\":\n",
    "        return -10*importance\n",
    "    if reaction==\"like\":\n",
    "        return 0.5*importance\n",
    "    if reaction==\"view\":\n",
    "        return 0.1*importance\n",
    "    if reaction==\"skip\":\n",
    "        return -0.1*importance\n",
    "trainY = np.array(list(train[['event', 'importance']].apply(lambda x: reaction_to_class(x['event'], x['importance']),axis=1).values))\n",
    "valY = np.array(list(val.event.map(lambda x: reaction_to_class(x)).values))"
   ]
  },
  {
   "cell_type": "code",
   "execution_count": 19,
   "metadata": {},
   "outputs": [
    {
     "data": {
      "text/plain": [
       "array([-0.34965076, -0.34965076, -0.34965076, ...,  0.30445224,\n",
       "        0.30445224,  0.30445224])"
      ]
     },
     "execution_count": 19,
     "metadata": {},
     "output_type": "execute_result"
    }
   ],
   "source": [
    "trainY"
   ]
  },
  {
   "cell_type": "code",
   "execution_count": 20,
   "metadata": {},
   "outputs": [
    {
     "data": {
      "text/plain": [
       "array([ 0.1,  0.1,  0.1, ..., -0.1,  0.1, -0.1])"
      ]
     },
     "execution_count": 20,
     "metadata": {},
     "output_type": "execute_result"
    }
   ],
   "source": [
    "valY"
   ]
  },
  {
   "cell_type": "code",
   "execution_count": 46,
   "metadata": {},
   "outputs": [
    {
     "name": "stdout",
     "output_type": "stream",
     "text": [
      "Model: \"model_10\"\n",
      "__________________________________________________________________________________________________\n",
      "Layer (type)                    Output Shape         Param #     Connected to                     \n",
      "==================================================================================================\n",
      "customer_id (InputLayer)        (None, 1)            0                                            \n",
      "__________________________________________________________________________________________________\n",
      "story_id (InputLayer)           (None, 1)            0                                            \n",
      "__________________________________________________________________________________________________\n",
      "producs (InputLayer)            (None, 7)            0                                            \n",
      "__________________________________________________________________________________________________\n",
      "story_name_id (InputLayer)      (None, 1)            0                                            \n",
      "__________________________________________________________________________________________________\n",
      "embedding_44 (Embedding)        (None, 1, 8)         328008      customer_id[0][0]                \n",
      "__________________________________________________________________________________________________\n",
      "embedding_45 (Embedding)        (None, 1, 4)         3652        story_id[0][0]                   \n",
      "__________________________________________________________________________________________________\n",
      "embedding_46 (Embedding)        (None, 7, 1)         4           producs[0][0]                    \n",
      "__________________________________________________________________________________________________\n",
      "embedding_47 (Embedding)        (None, 1, 2)         22          story_name_id[0][0]              \n",
      "__________________________________________________________________________________________________\n",
      "flatten_44 (Flatten)            (None, 8)            0           embedding_44[0][0]               \n",
      "__________________________________________________________________________________________________\n",
      "flatten_45 (Flatten)            (None, 4)            0           embedding_45[0][0]               \n",
      "__________________________________________________________________________________________________\n",
      "flatten_46 (Flatten)            (None, 7)            0           embedding_46[0][0]               \n",
      "__________________________________________________________________________________________________\n",
      "flatten_47 (Flatten)            (None, 2)            0           embedding_47[0][0]               \n",
      "__________________________________________________________________________________________________\n",
      "customer_data (InputLayer)      (None, 3)            0                                            \n",
      "__________________________________________________________________________________________________\n",
      "customer_data2 (InputLayer)     (None, 2)            0                                            \n",
      "__________________________________________________________________________________________________\n",
      "model_input_subset (InputLayer) (None, 1)            0                                            \n",
      "__________________________________________________________________________________________________\n",
      "concatenate_29 (Concatenate)    (None, 12)           0           flatten_44[0][0]                 \n",
      "                                                                 flatten_45[0][0]                 \n",
      "__________________________________________________________________________________________________\n",
      "concatenate_28 (Concatenate)    (None, 15)           0           flatten_46[0][0]                 \n",
      "                                                                 flatten_47[0][0]                 \n",
      "                                                                 customer_data[0][0]              \n",
      "                                                                 customer_data2[0][0]             \n",
      "                                                                 model_input_subset[0][0]         \n",
      "__________________________________________________________________________________________________\n",
      "dense_29 (Dense)                (None, 4)            52          concatenate_29[0][0]             \n",
      "__________________________________________________________________________________________________\n",
      "dense_30 (Dense)                (None, 2)            32          concatenate_28[0][0]             \n",
      "__________________________________________________________________________________________________\n",
      "concatenate_30 (Concatenate)    (None, 6)            0           dense_29[0][0]                   \n",
      "                                                                 dense_30[0][0]                   \n",
      "__________________________________________________________________________________________________\n",
      "dense_31 (Dense)                (None, 1)            7           concatenate_30[0][0]             \n",
      "==================================================================================================\n",
      "Total params: 331,777\n",
      "Trainable params: 331,777\n",
      "Non-trainable params: 0\n",
      "__________________________________________________________________________________________________\n",
      "None\n"
     ]
    }
   ],
   "source": [
    "\n",
    "model_input_customer = Input((1,), name='customer_id')\n",
    "customer = Embedding(customers_count, 8, input_length=1)(model_input_customer)\n",
    "customer = Flatten()(customer)\n",
    "\n",
    "model_input_story = Input((1,), name='story_id')\n",
    "story = Embedding(stories_count, 4, input_length=1)(model_input_story)\n",
    "story = Flatten()(story)\n",
    "\n",
    "model_input_products = Input((7,), name='producs')\n",
    "products = Embedding(producs_count, 1, input_length=7)(model_input_products)\n",
    "products = Flatten()(products)\n",
    "\n",
    "\n",
    "\n",
    "model_input_story_name = Input((1,), name='story_name_id')\n",
    "story_name = Embedding(jsons_name_type_count, 2, input_length=1)(model_input_story_name)\n",
    "story_name = Flatten()(story_name)\n",
    "\n",
    "model_input_subset = Input((1,), name='model_input_subset')\n",
    "# subset = Embedding(20, 2, input_length=1)(model_input_subset)\n",
    "# subset = Flatten()(subset)\n",
    "\n",
    "\n",
    "model_input_3 = Input((3,), name='customer_data')\n",
    "model_input_4 = Input((2,), name='customer_data2')\n",
    "\n",
    "\n",
    "x_other = Concatenate()([ products, story_name, model_input_3, model_input_4, model_input_subset])\n",
    "x = Concatenate()([customer, story])\n",
    "\n",
    "\n",
    "x = Dense(4, \n",
    "          activation='relu', \n",
    "         )(x)\n",
    "\n",
    "\n",
    "x_other = Dense(2, \n",
    "          activation='relu', \n",
    "         )(x_other)\n",
    "\n",
    "\n",
    "\n",
    "\n",
    "\n",
    "x = Concatenate()([x, x_other])\n",
    "\n",
    "\n",
    "\n",
    "x = Dense(1, activation='tanh')(x)\n",
    "model = Model([ \n",
    "    model_input_customer, \n",
    "               model_input_story, \n",
    "               model_input_story_name,\n",
    "               model_input_subset,\n",
    "               model_input_3,\n",
    "               model_input_4, \n",
    "               model_input_products,\n",
    "              ], x)\n",
    "\n",
    "\n",
    "\n",
    "\n",
    "\n",
    "print(model.summary())"
   ]
  },
  {
   "cell_type": "code",
   "execution_count": null,
   "metadata": {},
   "outputs": [],
   "source": []
  },
  {
   "cell_type": "code",
   "execution_count": 47,
   "metadata": {},
   "outputs": [],
   "source": [
    "# batch_size=320248\n",
    "batch_size=64\n",
    "adam = optimizers.Adam(lr=0.001)\n",
    "model.compile(optimizer=adam, loss=metric_loss(batch_size))\n"
   ]
  },
  {
   "cell_type": "code",
   "execution_count": 48,
   "metadata": {
    "scrolled": true
   },
   "outputs": [
    {
     "name": "stdout",
     "output_type": "stream",
     "text": [
      "Train on 309664 samples, validate on 152893 samples\n",
      "Epoch 1/10\n",
      "309664/309664 [==============================] - 15s 48us/step - loss: -0.7430 - val_loss: -0.3384\n",
      "Epoch 2/10\n",
      "309664/309664 [==============================] - 15s 48us/step - loss: -1.3318 - val_loss: -0.3514\n",
      "Epoch 3/10\n",
      "309664/309664 [==============================] - 15s 48us/step - loss: -1.4475 - val_loss: -0.3524\n",
      "Epoch 4/10\n",
      "309664/309664 [==============================] - 14s 46us/step - loss: -1.4952 - val_loss: -0.3543\n",
      "Epoch 5/10\n",
      "156864/309664 [==============>...............] - ETA: 6s - loss: -1.5645"
     ]
    },
    {
     "ename": "KeyboardInterrupt",
     "evalue": "",
     "output_type": "error",
     "traceback": [
      "\u001b[0;31m---------------------------------------------------------------------------\u001b[0m",
      "\u001b[0;31mKeyboardInterrupt\u001b[0m                         Traceback (most recent call last)",
      "\u001b[0;32m<ipython-input-48-38c1af9da545>\u001b[0m in \u001b[0;36m<module>\u001b[0;34m\u001b[0m\n\u001b[1;32m     26\u001b[0m                             \u001b[0mval\u001b[0m\u001b[0;34m[\u001b[0m\u001b[0;34m[\u001b[0m\u001b[0;34m'reaction_hour'\u001b[0m\u001b[0;34m,\u001b[0m \u001b[0;34m'reaction_dayofweek'\u001b[0m\u001b[0;34m]\u001b[0m\u001b[0;34m]\u001b[0m\u001b[0;34m.\u001b[0m\u001b[0mvalues\u001b[0m\u001b[0;34m/\u001b[0m\u001b[0;36m24\u001b[0m\u001b[0;34m,\u001b[0m\u001b[0;34m\u001b[0m\u001b[0;34m\u001b[0m\u001b[0m\n\u001b[1;32m     27\u001b[0m                             \u001b[0mval\u001b[0m\u001b[0;34m[\u001b[0m\u001b[0;34m[\u001b[0m\u001b[0;34m'product_0'\u001b[0m\u001b[0;34m,\u001b[0m \u001b[0;34m'product_1'\u001b[0m\u001b[0;34m,\u001b[0m \u001b[0;34m'product_2'\u001b[0m\u001b[0;34m,\u001b[0m \u001b[0;34m'product_3'\u001b[0m\u001b[0;34m,\u001b[0m \u001b[0;34m'product_4'\u001b[0m\u001b[0;34m,\u001b[0m \u001b[0;34m'product_5'\u001b[0m\u001b[0;34m,\u001b[0m \u001b[0;34m'product_6'\u001b[0m\u001b[0;34m]\u001b[0m\u001b[0;34m]\u001b[0m\u001b[0;34m.\u001b[0m\u001b[0mvalues\u001b[0m\u001b[0;34m,\u001b[0m\u001b[0;34m\u001b[0m\u001b[0;34m\u001b[0m\u001b[0m\n\u001b[0;32m---> 28\u001b[0;31m                            ], valY),\n\u001b[0m\u001b[1;32m     29\u001b[0m          )\n\u001b[1;32m     30\u001b[0m \u001b[0;34m\u001b[0m\u001b[0m\n",
      "\u001b[0;32m~/projects/tks_stories/venv/lib/python3.6/site-packages/keras/engine/training.py\u001b[0m in \u001b[0;36mfit\u001b[0;34m(self, x, y, batch_size, epochs, verbose, callbacks, validation_split, validation_data, shuffle, class_weight, sample_weight, initial_epoch, steps_per_epoch, validation_steps, validation_freq, max_queue_size, workers, use_multiprocessing, **kwargs)\u001b[0m\n\u001b[1;32m   1237\u001b[0m                                         \u001b[0msteps_per_epoch\u001b[0m\u001b[0;34m=\u001b[0m\u001b[0msteps_per_epoch\u001b[0m\u001b[0;34m,\u001b[0m\u001b[0;34m\u001b[0m\u001b[0;34m\u001b[0m\u001b[0m\n\u001b[1;32m   1238\u001b[0m                                         \u001b[0mvalidation_steps\u001b[0m\u001b[0;34m=\u001b[0m\u001b[0mvalidation_steps\u001b[0m\u001b[0;34m,\u001b[0m\u001b[0;34m\u001b[0m\u001b[0;34m\u001b[0m\u001b[0m\n\u001b[0;32m-> 1239\u001b[0;31m                                         validation_freq=validation_freq)\n\u001b[0m\u001b[1;32m   1240\u001b[0m \u001b[0;34m\u001b[0m\u001b[0m\n\u001b[1;32m   1241\u001b[0m     def evaluate(self,\n",
      "\u001b[0;32m~/projects/tks_stories/venv/lib/python3.6/site-packages/keras/engine/training_arrays.py\u001b[0m in \u001b[0;36mfit_loop\u001b[0;34m(model, fit_function, fit_inputs, out_labels, batch_size, epochs, verbose, callbacks, val_function, val_inputs, shuffle, initial_epoch, steps_per_epoch, validation_steps, validation_freq)\u001b[0m\n\u001b[1;32m    194\u001b[0m                     \u001b[0mins_batch\u001b[0m\u001b[0;34m[\u001b[0m\u001b[0mi\u001b[0m\u001b[0;34m]\u001b[0m \u001b[0;34m=\u001b[0m \u001b[0mins_batch\u001b[0m\u001b[0;34m[\u001b[0m\u001b[0mi\u001b[0m\u001b[0;34m]\u001b[0m\u001b[0;34m.\u001b[0m\u001b[0mtoarray\u001b[0m\u001b[0;34m(\u001b[0m\u001b[0;34m)\u001b[0m\u001b[0;34m\u001b[0m\u001b[0;34m\u001b[0m\u001b[0m\n\u001b[1;32m    195\u001b[0m \u001b[0;34m\u001b[0m\u001b[0m\n\u001b[0;32m--> 196\u001b[0;31m                 \u001b[0mouts\u001b[0m \u001b[0;34m=\u001b[0m \u001b[0mfit_function\u001b[0m\u001b[0;34m(\u001b[0m\u001b[0mins_batch\u001b[0m\u001b[0;34m)\u001b[0m\u001b[0;34m\u001b[0m\u001b[0;34m\u001b[0m\u001b[0m\n\u001b[0m\u001b[1;32m    197\u001b[0m                 \u001b[0mouts\u001b[0m \u001b[0;34m=\u001b[0m \u001b[0mto_list\u001b[0m\u001b[0;34m(\u001b[0m\u001b[0mouts\u001b[0m\u001b[0;34m)\u001b[0m\u001b[0;34m\u001b[0m\u001b[0;34m\u001b[0m\u001b[0m\n\u001b[1;32m    198\u001b[0m                 \u001b[0;32mfor\u001b[0m \u001b[0ml\u001b[0m\u001b[0;34m,\u001b[0m \u001b[0mo\u001b[0m \u001b[0;32min\u001b[0m \u001b[0mzip\u001b[0m\u001b[0;34m(\u001b[0m\u001b[0mout_labels\u001b[0m\u001b[0;34m,\u001b[0m \u001b[0mouts\u001b[0m\u001b[0;34m)\u001b[0m\u001b[0;34m:\u001b[0m\u001b[0;34m\u001b[0m\u001b[0;34m\u001b[0m\u001b[0m\n",
      "\u001b[0;32m~/projects/tks_stories/venv/lib/python3.6/site-packages/tensorflow/python/keras/backend.py\u001b[0m in \u001b[0;36m__call__\u001b[0;34m(self, inputs)\u001b[0m\n\u001b[1;32m   3290\u001b[0m \u001b[0;34m\u001b[0m\u001b[0m\n\u001b[1;32m   3291\u001b[0m     fetched = self._callable_fn(*array_vals,\n\u001b[0;32m-> 3292\u001b[0;31m                                 run_metadata=self.run_metadata)\n\u001b[0m\u001b[1;32m   3293\u001b[0m     \u001b[0mself\u001b[0m\u001b[0;34m.\u001b[0m\u001b[0m_call_fetch_callbacks\u001b[0m\u001b[0;34m(\u001b[0m\u001b[0mfetched\u001b[0m\u001b[0;34m[\u001b[0m\u001b[0;34m-\u001b[0m\u001b[0mlen\u001b[0m\u001b[0;34m(\u001b[0m\u001b[0mself\u001b[0m\u001b[0;34m.\u001b[0m\u001b[0m_fetches\u001b[0m\u001b[0;34m)\u001b[0m\u001b[0;34m:\u001b[0m\u001b[0;34m]\u001b[0m\u001b[0;34m)\u001b[0m\u001b[0;34m\u001b[0m\u001b[0;34m\u001b[0m\u001b[0m\n\u001b[1;32m   3294\u001b[0m     output_structure = nest.pack_sequence_as(\n",
      "\u001b[0;32m~/projects/tks_stories/venv/lib/python3.6/site-packages/tensorflow/python/client/session.py\u001b[0m in \u001b[0;36m__call__\u001b[0;34m(self, *args, **kwargs)\u001b[0m\n\u001b[1;32m   1456\u001b[0m         ret = tf_session.TF_SessionRunCallable(self._session._session,\n\u001b[1;32m   1457\u001b[0m                                                \u001b[0mself\u001b[0m\u001b[0;34m.\u001b[0m\u001b[0m_handle\u001b[0m\u001b[0;34m,\u001b[0m \u001b[0margs\u001b[0m\u001b[0;34m,\u001b[0m\u001b[0;34m\u001b[0m\u001b[0;34m\u001b[0m\u001b[0m\n\u001b[0;32m-> 1458\u001b[0;31m                                                run_metadata_ptr)\n\u001b[0m\u001b[1;32m   1459\u001b[0m         \u001b[0;32mif\u001b[0m \u001b[0mrun_metadata\u001b[0m\u001b[0;34m:\u001b[0m\u001b[0;34m\u001b[0m\u001b[0;34m\u001b[0m\u001b[0m\n\u001b[1;32m   1460\u001b[0m           \u001b[0mproto_data\u001b[0m \u001b[0;34m=\u001b[0m \u001b[0mtf_session\u001b[0m\u001b[0;34m.\u001b[0m\u001b[0mTF_GetBuffer\u001b[0m\u001b[0;34m(\u001b[0m\u001b[0mrun_metadata_ptr\u001b[0m\u001b[0;34m)\u001b[0m\u001b[0;34m\u001b[0m\u001b[0;34m\u001b[0m\u001b[0m\n",
      "\u001b[0;31mKeyboardInterrupt\u001b[0m: "
     ]
    }
   ],
   "source": [
    "\n",
    "\n",
    "model.fit(\n",
    "    shuffle=True,\n",
    "        x = [\n",
    "#             np.stack(np.array(train.stories_history3.values)),\n",
    "            \n",
    "            train.customer_id.values,\n",
    "             train.story_id.values,\n",
    "             train.jsons_name_type.values, \n",
    "             train.subsets.values/20,\n",
    "             \n",
    "             train[['gender_cd', 'children_cnt', 'first_session_dttm_year']].values,\n",
    "             train[['reaction_hour', 'reaction_dayofweek']].values/24,\n",
    "             train[['product_0', 'product_1', 'product_2', 'product_3', 'product_4', 'product_5', 'product_6']].values,\n",
    "            ], \n",
    "          y = trainY,\n",
    "          batch_size=batch_size,\n",
    "          epochs=10,\n",
    "          validation_data=([\n",
    "#               np.stack(np.array(val.stories_history3.values)),\n",
    "              \n",
    "              val.customer_id.values, \n",
    "                            val.story_id.values, \n",
    "                            val.jsons_name_type.values, \n",
    "                            val.subsets.values/20,\n",
    "                            val[['gender_cd', 'children_cnt', 'first_session_dttm_year']].values,\n",
    "                            val[['reaction_hour', 'reaction_dayofweek']].values/24,\n",
    "                            val[['product_0', 'product_1', 'product_2', 'product_3', 'product_4', 'product_5', 'product_6']].values,\n",
    "                           ], valY),\n",
    "         )\n",
    "\n",
    "# 320248/320248 [==============================] - 13s 41us/step - loss: -0.6153 - val_loss: -0.3492\n",
    "# 320248/320248 [==============================] - 13s 42us/step - loss: -0.7373 - val_loss: -0.3607\n",
    "# 320248/320248 [==============================] - 14s 42us/step - loss: -0.7263 - val_loss: -0.3656 size 4 tanh\n",
    "# 320248/320248 [==============================] - 14s 43us/step - loss: -0.7046 - val_loss: -0.3612 size 128 relu\n",
    "# 320248/320248 [==============================] - 14s 44us/step - loss: -0.7110 - val_loss: -0.3455 size 128 lrelu\n",
    "# 320248/320248 [==============================] - 14s 43us/step - loss: -0.6390 - val_loss: -0.3683 size 128 relu increase embs\n",
    "# 320248/320248 [==============================] - 16s 48us/step - loss: -0.6319 - val_loss: -0.3705 job_position_cd\n",
    "\n",
    "\n",
    "# 378578/378578 [==============================] - 61s 161us/step - loss: -0.4684 - val_loss: -0.4269\n",
    "# 378578/378578 [==============================] - 15s 41us/step - loss: -0.5597 - val_loss: -0.4413\n",
    "# 378578/378578 [==============================] - 2s 6us/step - loss: -0.5903 - val_loss: -0.4453"
   ]
  },
  {
   "cell_type": "code",
   "execution_count": null,
   "metadata": {},
   "outputs": [],
   "source": [
    "# train_predict = model.predict([train.customer_id.values,\n",
    "#              train.story_id.values,\n",
    "#              0*train.jsons_name_type.values, \n",
    "#              train.job_title.values,\n",
    "#              train.job_position_cd.values,\n",
    "#              0*train.marital_status_cd.values,\n",
    "#              train[['age', 'gender_cd', 'children_cnt', 'first_session_dttm_year']].values,\n",
    "#              train[[ 'customer_shows']].values/3000,\n",
    "#              0*train[['transaction_amt_count', 'transaction_amt_min', 'transaction_amt_max']].values,\n",
    "#              train[['reaction_hour', 'reaction_dayofweek']].values/30,\n",
    "#              train[['product_0', 'product_1', 'product_2', 'product_3', 'product_4', 'product_5', 'product_6']].values\n",
    "#            ])\n",
    "val_predict = model.predict([\n",
    "              \n",
    "              val.customer_id.values, \n",
    "                            val.story_id.values, \n",
    "                            val.jsons_name_type.values, \n",
    "                            val.subsets.values,\n",
    "                            val[['gender_cd', 'children_cnt', 'first_session_dttm_year']].values,\n",
    "                            val[['reaction_hour', 'reaction_dayofweek']].values/30,\n",
    "                            val[['product_0', 'product_1', 'product_2', 'product_3', 'product_4', 'product_5', 'product_6']].values,\n",
    "                          ])\n",
    "# train_predict = model.predict(train.customer_id.values)\n",
    "# val_predict = model.predict(val.customer_id.values)\n",
    "-np.sum(valY*val_predict[:,0] )/np.sum(np.abs(valY))\n",
    "# -0.3488346709728467"
   ]
  },
  {
   "cell_type": "code",
   "execution_count": null,
   "metadata": {},
   "outputs": [],
   "source": [
    "# np.sum(np.abs(trainY))"
   ]
  },
  {
   "cell_type": "code",
   "execution_count": null,
   "metadata": {},
   "outputs": [],
   "source": [
    "# -np.sum(trainY*train_predict[:,0])/np.sum(np.abs(trainY))"
   ]
  },
  {
   "cell_type": "code",
   "execution_count": null,
   "metadata": {},
   "outputs": [],
   "source": [
    "# -np.sum(trainY*train_predict[:,0] )/np.sum(np.abs(trainY))\n"
   ]
  },
  {
   "cell_type": "code",
   "execution_count": null,
   "metadata": {},
   "outputs": [],
   "source": [
    "-np.sum(valY*val_predict[:,0] )/np.sum(np.abs(valY))\n",
    "# -0.22921870322866542\n",
    "# -0.29499408463224436\n",
    "# -0.3365937438413243\n",
    "# -0.34325145608255186\n",
    "# -0.35394938525789055\n",
    "\n",
    "\n",
    "# -0.34627157632374744"
   ]
  },
  {
   "cell_type": "code",
   "execution_count": null,
   "metadata": {},
   "outputs": [],
   "source": [
    "val['predict'] = val_predict[:,0]"
   ]
  },
  {
   "cell_type": "code",
   "execution_count": null,
   "metadata": {},
   "outputs": [],
   "source": [
    "val.loc[~val.customer_id.isin(set(train.customer_id.values)),'predict'] =-1"
   ]
  },
  {
   "cell_type": "code",
   "execution_count": null,
   "metadata": {},
   "outputs": [],
   "source": [
    "-np.sum(valY*val['predict'])/np.sum(np.abs(valY))\n",
    "# -0.26261507362945524\n",
    "# -0.29364859095899104\n",
    "# -0.3315410025698421"
   ]
  },
  {
   "cell_type": "code",
   "execution_count": null,
   "metadata": {},
   "outputs": [],
   "source": []
  },
  {
   "cell_type": "code",
   "execution_count": null,
   "metadata": {},
   "outputs": [],
   "source": []
  }
 ],
 "metadata": {
  "kernelspec": {
   "display_name": "Python 3",
   "language": "python",
   "name": "python3"
  },
  "language_info": {
   "codemirror_mode": {
    "name": "ipython",
    "version": 3
   },
   "file_extension": ".py",
   "mimetype": "text/x-python",
   "name": "python",
   "nbconvert_exporter": "python",
   "pygments_lexer": "ipython3",
   "version": "3.6.8"
  }
 },
 "nbformat": 4,
 "nbformat_minor": 2
}
