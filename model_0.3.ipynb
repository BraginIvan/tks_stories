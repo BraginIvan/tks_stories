{
 "cells": [
  {
   "cell_type": "code",
   "execution_count": 1,
   "metadata": {},
   "outputs": [],
   "source": [
    "import pandas as pd\n",
    "import numpy as np\n",
    "from catboost import CatBoostClassifier, Pool,CatBoost, CatBoostRegressor\n",
    "from collections import Counter"
   ]
  },
  {
   "cell_type": "code",
   "execution_count": 2,
   "metadata": {},
   "outputs": [],
   "source": [
    "data_path = 'dataset/'\n",
    "customer_train = pd.read_csv(f'{data_path}customer_train.csv')\n",
    "customer_test = pd.read_csv(f'{data_path}customer_test.csv')\n",
    "stories_description = pd.read_csv(f'{data_path}stories_description.csv')\n",
    "stories_reaction_test = pd.read_csv(f'{data_path}stories_reaction_test.csv')\n",
    "stories_reaction_test['event_dttm']=pd.to_datetime(stories_reaction_test['event_dttm'],infer_datetime_format=True)\n",
    "stories_reaction_train = pd.read_csv(f'{data_path}stories_reaction_train.csv')\n",
    "stories_reaction_train['event_dttm']=pd.to_datetime(stories_reaction_train['event_dttm'],infer_datetime_format=True)\n",
    "transactions = pd.read_csv(f'{data_path}transactions.csv')\n",
    "\n",
    "\n",
    "sample_submit = pd.read_csv(f'{data_path}sample_submit.csv')"
   ]
  },
  {
   "cell_type": "code",
   "execution_count": 87,
   "metadata": {},
   "outputs": [],
   "source": [
    "train_and_val = stories_reaction_train.merge(customer_train, on='customer_id', how='left')\n",
    "test = stories_reaction_test.merge(customer_test, on='customer_id', how='left')\n"
   ]
  },
  {
   "cell_type": "code",
   "execution_count": 4,
   "metadata": {},
   "outputs": [
    {
     "data": {
      "text/plain": [
       "514522     804\n",
       "588639     788\n",
       "333041     768\n",
       "588106     700\n",
       "673392     690\n",
       "          ... \n",
       "542958       1\n",
       "462666       1\n",
       "743422       1\n",
       "1010076      1\n",
       "195566       1\n",
       "Name: customer_id, Length: 46948, dtype: int64"
      ]
     },
     "execution_count": 4,
     "metadata": {},
     "output_type": "execute_result"
    }
   ],
   "source": [
    "transactions.customer_id.value_counts()"
   ]
  },
  {
   "cell_type": "code",
   "execution_count": 88,
   "metadata": {},
   "outputs": [],
   "source": [
    "train_dates = stories_reaction_train['event_dttm'].astype(np.int64)\n",
    "test_dates = stories_reaction_test['event_dttm'].astype(np.int64)\n",
    "period = train_dates.max() - (test_dates.max() - test_dates.min())"
   ]
  },
  {
   "cell_type": "code",
   "execution_count": 89,
   "metadata": {},
   "outputs": [],
   "source": [
    "val = train_and_val[train_and_val.event_dttm.astype(np.int64) > period]\n",
    "train = train_and_val[train_and_val.event_dttm.astype(np.int64) <= period]"
   ]
  },
  {
   "cell_type": "code",
   "execution_count": 90,
   "metadata": {},
   "outputs": [
    {
     "data": {
      "text/plain": [
       "(320248, 152893)"
      ]
     },
     "execution_count": 90,
     "metadata": {},
     "output_type": "execute_result"
    }
   ],
   "source": [
    "len(train), len(val) "
   ]
  },
  {
   "cell_type": "code",
   "execution_count": 91,
   "metadata": {},
   "outputs": [],
   "source": [
    "train=train.fillna(-999)\n",
    "val=val.fillna(-999)\n",
    "test=test.fillna(-999)"
   ]
  },
  {
   "cell_type": "code",
   "execution_count": 92,
   "metadata": {},
   "outputs": [],
   "source": [
    "drop_columns = ['event_dttm', 'first_session_dttm']\n",
    "for c in drop_columns:\n",
    "    del train[c]\n",
    "    del val[c]\n",
    "    del test[c]"
   ]
  },
  {
   "cell_type": "code",
   "execution_count": 93,
   "metadata": {},
   "outputs": [],
   "source": [
    "def reaction_to_weight(reaction):\n",
    "    if reaction =='dislike':\n",
    "        return 10.0*34.5\n",
    "    if reaction =='like':\n",
    "        return 0.5*3.8\n",
    "    if reaction =='view':\n",
    "        return 0.1\n",
    "    if reaction =='skip':\n",
    "        return 0.1*1.4\n",
    "    \n",
    "def reaction_to_class(reaction):\n",
    "    if reaction =='dislike':\n",
    "        return -1\n",
    "    if reaction =='like':\n",
    "        return 1\n",
    "    if reaction =='view':\n",
    "        return 1\n",
    "    if reaction =='skip':\n",
    "        return -1"
   ]
  },
  {
   "cell_type": "code",
   "execution_count": 94,
   "metadata": {},
   "outputs": [],
   "source": [
    "train_class = train.event.values\n",
    "trainY = [reaction_to_class(reaction)  for reaction in train.event.values]\n",
    "train_weights = [reaction_to_weight(reaction) for reaction in train.event.values]\n",
    "del train['event']\n",
    "val_class = val.event.values\n",
    "valY = [reaction_to_class(reaction) for reaction in val.event.values]\n",
    "val_weights = [reaction_to_weight(reaction) for reaction in val.event.values]\n",
    "del val['event']\n",
    "\n"
   ]
  },
  {
   "cell_type": "code",
   "execution_count": 95,
   "metadata": {},
   "outputs": [],
   "source": [
    "cat_columns = ['customer_id',\n",
    "               'product_0', 'product_1', 'product_2', 'product_3', 'product_4', 'product_5', 'product_6',\n",
    "               'gender_cd', 'marital_status_cd', 'job_position_cd', 'job_title']\n",
    "\n",
    "val_data = Pool(val,\n",
    "                valY,\n",
    "                 cat_features=cat_columns,\n",
    "               weight=val_weights\n",
    "               )\n",
    "train_data = Pool(train,\n",
    "                  trainY,\n",
    "                  cat_features=cat_columns,\n",
    "                 weight=train_weights\n",
    "                 )"
   ]
  },
  {
   "cell_type": "code",
   "execution_count": 105,
   "metadata": {
    "scrolled": true
   },
   "outputs": [
    {
     "name": "stdout",
     "output_type": "stream",
     "text": [
      "model\n",
      "0:\tlearn: 0.6309962\ttest: 0.6300043\tbest: 0.6300043 (0)\ttotal: 19.2ms\tremaining: 5.73s\n",
      "1:\tlearn: 0.5758782\ttest: 0.5753344\tbest: 0.5753344 (1)\ttotal: 42.6ms\tremaining: 6.35s\n",
      "2:\tlearn: 0.5280578\ttest: 0.5274836\tbest: 0.5274836 (2)\ttotal: 64.1ms\tremaining: 6.35s\n",
      "3:\tlearn: 0.4863352\ttest: 0.4855487\tbest: 0.4855487 (3)\ttotal: 89.5ms\tremaining: 6.63s\n",
      "4:\tlearn: 0.4518085\ttest: 0.4502437\tbest: 0.4502437 (4)\ttotal: 110ms\tremaining: 6.47s\n",
      "5:\tlearn: 0.4221332\ttest: 0.4196574\tbest: 0.4196574 (5)\ttotal: 131ms\tremaining: 6.43s\n",
      "6:\tlearn: 0.3950892\ttest: 0.3918979\tbest: 0.3918979 (6)\ttotal: 149ms\tremaining: 6.25s\n",
      "7:\tlearn: 0.3717403\ttest: 0.3677514\tbest: 0.3677514 (7)\ttotal: 163ms\tremaining: 5.94s\n",
      "8:\tlearn: 0.3512027\ttest: 0.3471489\tbest: 0.3471489 (8)\ttotal: 182ms\tremaining: 5.9s\n",
      "9:\tlearn: 0.3343085\ttest: 0.3298725\tbest: 0.3298725 (9)\ttotal: 198ms\tremaining: 5.75s\n",
      "10:\tlearn: 0.3195113\ttest: 0.3146598\tbest: 0.3146598 (10)\ttotal: 215ms\tremaining: 5.66s\n",
      "11:\tlearn: 0.3065734\ttest: 0.3014351\tbest: 0.3014351 (11)\ttotal: 232ms\tremaining: 5.56s\n",
      "12:\tlearn: 0.2946936\ttest: 0.2893378\tbest: 0.2893378 (12)\ttotal: 252ms\tremaining: 5.57s\n",
      "13:\tlearn: 0.2846674\ttest: 0.2789840\tbest: 0.2789840 (13)\ttotal: 270ms\tremaining: 5.52s\n",
      "14:\tlearn: 0.2756228\ttest: 0.2695959\tbest: 0.2695959 (14)\ttotal: 289ms\tremaining: 5.5s\n",
      "15:\tlearn: 0.2676252\ttest: 0.2614643\tbest: 0.2614643 (15)\ttotal: 304ms\tremaining: 5.39s\n",
      "16:\tlearn: 0.2607550\ttest: 0.2543297\tbest: 0.2543297 (16)\ttotal: 320ms\tremaining: 5.33s\n",
      "17:\tlearn: 0.2548746\ttest: 0.2481729\tbest: 0.2481729 (17)\ttotal: 337ms\tremaining: 5.29s\n",
      "18:\tlearn: 0.2497280\ttest: 0.2427020\tbest: 0.2427020 (18)\ttotal: 353ms\tremaining: 5.23s\n",
      "19:\tlearn: 0.2447566\ttest: 0.2373594\tbest: 0.2373594 (19)\ttotal: 372ms\tremaining: 5.21s\n",
      "20:\tlearn: 0.2406803\ttest: 0.2330446\tbest: 0.2330446 (20)\ttotal: 389ms\tremaining: 5.17s\n",
      "21:\tlearn: 0.2370223\ttest: 0.2291439\tbest: 0.2291439 (21)\ttotal: 409ms\tremaining: 5.17s\n",
      "22:\tlearn: 0.2335203\ttest: 0.2254694\tbest: 0.2254694 (22)\ttotal: 423ms\tremaining: 5.09s\n",
      "23:\tlearn: 0.2307320\ttest: 0.2223274\tbest: 0.2223274 (23)\ttotal: 440ms\tremaining: 5.06s\n",
      "24:\tlearn: 0.2279610\ttest: 0.2193716\tbest: 0.2193716 (24)\ttotal: 460ms\tremaining: 5.06s\n",
      "25:\tlearn: 0.2253527\ttest: 0.2167237\tbest: 0.2167237 (25)\ttotal: 474ms\tremaining: 5s\n",
      "26:\tlearn: 0.2231065\ttest: 0.2147213\tbest: 0.2147213 (26)\ttotal: 492ms\tremaining: 4.98s\n",
      "27:\tlearn: 0.2212884\ttest: 0.2127236\tbest: 0.2127236 (27)\ttotal: 510ms\tremaining: 4.96s\n",
      "28:\tlearn: 0.2196543\ttest: 0.2109206\tbest: 0.2109206 (28)\ttotal: 528ms\tremaining: 4.93s\n",
      "29:\tlearn: 0.2181610\ttest: 0.2095004\tbest: 0.2095004 (29)\ttotal: 546ms\tremaining: 4.91s\n",
      "30:\tlearn: 0.2166886\ttest: 0.2079094\tbest: 0.2079094 (30)\ttotal: 559ms\tremaining: 4.85s\n",
      "31:\tlearn: 0.2154923\ttest: 0.2065632\tbest: 0.2065632 (31)\ttotal: 576ms\tremaining: 4.83s\n",
      "32:\tlearn: 0.2143238\ttest: 0.2052936\tbest: 0.2052936 (32)\ttotal: 593ms\tremaining: 4.79s\n",
      "33:\tlearn: 0.2133539\ttest: 0.2042068\tbest: 0.2042068 (33)\ttotal: 610ms\tremaining: 4.77s\n",
      "34:\tlearn: 0.2126143\ttest: 0.2032976\tbest: 0.2032976 (34)\ttotal: 627ms\tremaining: 4.74s\n",
      "35:\tlearn: 0.2119501\ttest: 0.2025493\tbest: 0.2025493 (35)\ttotal: 644ms\tremaining: 4.72s\n",
      "36:\tlearn: 0.2113738\ttest: 0.2018821\tbest: 0.2018821 (36)\ttotal: 664ms\tremaining: 4.72s\n",
      "37:\tlearn: 0.2107066\ttest: 0.2011694\tbest: 0.2011694 (37)\ttotal: 684ms\tremaining: 4.72s\n",
      "38:\tlearn: 0.2100916\ttest: 0.2004860\tbest: 0.2004860 (38)\ttotal: 702ms\tremaining: 4.7s\n",
      "39:\tlearn: 0.2094854\ttest: 0.1998412\tbest: 0.1998412 (39)\ttotal: 720ms\tremaining: 4.68s\n",
      "40:\tlearn: 0.2090168\ttest: 0.1995340\tbest: 0.1995340 (40)\ttotal: 739ms\tremaining: 4.67s\n",
      "41:\tlearn: 0.2086180\ttest: 0.1990851\tbest: 0.1990851 (41)\ttotal: 757ms\tremaining: 4.65s\n",
      "42:\tlearn: 0.2082236\ttest: 0.1987338\tbest: 0.1987338 (42)\ttotal: 774ms\tremaining: 4.63s\n",
      "43:\tlearn: 0.2077603\ttest: 0.1982587\tbest: 0.1982587 (43)\ttotal: 789ms\tremaining: 4.59s\n",
      "44:\tlearn: 0.2075006\ttest: 0.1978876\tbest: 0.1978876 (44)\ttotal: 808ms\tremaining: 4.58s\n",
      "45:\tlearn: 0.2071363\ttest: 0.1975313\tbest: 0.1975313 (45)\ttotal: 825ms\tremaining: 4.55s\n",
      "46:\tlearn: 0.2068307\ttest: 0.1973778\tbest: 0.1973778 (46)\ttotal: 842ms\tremaining: 4.53s\n",
      "47:\tlearn: 0.2065933\ttest: 0.1971639\tbest: 0.1971639 (47)\ttotal: 864ms\tremaining: 4.53s\n",
      "48:\tlearn: 0.2064247\ttest: 0.1968982\tbest: 0.1968982 (48)\ttotal: 881ms\tremaining: 4.51s\n",
      "49:\tlearn: 0.2060872\ttest: 0.1966535\tbest: 0.1966535 (49)\ttotal: 899ms\tremaining: 4.5s\n",
      "50:\tlearn: 0.2059037\ttest: 0.1964522\tbest: 0.1964522 (50)\ttotal: 919ms\tremaining: 4.49s\n",
      "51:\tlearn: 0.2057150\ttest: 0.1962493\tbest: 0.1962493 (51)\ttotal: 937ms\tremaining: 4.47s\n",
      "52:\tlearn: 0.2054807\ttest: 0.1959787\tbest: 0.1959787 (52)\ttotal: 953ms\tremaining: 4.44s\n",
      "53:\tlearn: 0.2053216\ttest: 0.1958931\tbest: 0.1958931 (53)\ttotal: 971ms\tremaining: 4.42s\n",
      "54:\tlearn: 0.2051615\ttest: 0.1957589\tbest: 0.1957589 (54)\ttotal: 987ms\tremaining: 4.4s\n",
      "55:\tlearn: 0.2050255\ttest: 0.1956208\tbest: 0.1956208 (55)\ttotal: 1s\tremaining: 4.37s\n",
      "56:\tlearn: 0.2049074\ttest: 0.1955488\tbest: 0.1955488 (56)\ttotal: 1.02s\tremaining: 4.35s\n",
      "57:\tlearn: 0.2048294\ttest: 0.1954774\tbest: 0.1954774 (57)\ttotal: 1.04s\tremaining: 4.34s\n",
      "58:\tlearn: 0.2047413\ttest: 0.1953497\tbest: 0.1953497 (58)\ttotal: 1.05s\tremaining: 4.3s\n",
      "59:\tlearn: 0.2046016\ttest: 0.1952602\tbest: 0.1952602 (59)\ttotal: 1.07s\tremaining: 4.29s\n",
      "60:\tlearn: 0.2044422\ttest: 0.1952240\tbest: 0.1952240 (60)\ttotal: 1.09s\tremaining: 4.28s\n",
      "61:\tlearn: 0.2043310\ttest: 0.1950979\tbest: 0.1950979 (61)\ttotal: 1.11s\tremaining: 4.26s\n",
      "62:\tlearn: 0.2041929\ttest: 0.1950257\tbest: 0.1950257 (62)\ttotal: 1.13s\tremaining: 4.24s\n",
      "63:\tlearn: 0.2041600\ttest: 0.1949930\tbest: 0.1949930 (63)\ttotal: 1.15s\tremaining: 4.22s\n",
      "64:\tlearn: 0.2040968\ttest: 0.1949615\tbest: 0.1949615 (64)\ttotal: 1.16s\tremaining: 4.21s\n",
      "65:\tlearn: 0.2040716\ttest: 0.1948968\tbest: 0.1948968 (65)\ttotal: 1.18s\tremaining: 4.19s\n",
      "66:\tlearn: 0.2040168\ttest: 0.1947970\tbest: 0.1947970 (66)\ttotal: 1.2s\tremaining: 4.18s\n",
      "67:\tlearn: 0.2039670\ttest: 0.1947640\tbest: 0.1947640 (67)\ttotal: 1.23s\tremaining: 4.18s\n",
      "68:\tlearn: 0.2038464\ttest: 0.1947374\tbest: 0.1947374 (68)\ttotal: 1.24s\tremaining: 4.17s\n",
      "69:\tlearn: 0.2037069\ttest: 0.1946567\tbest: 0.1946567 (69)\ttotal: 1.27s\tremaining: 4.16s\n",
      "70:\tlearn: 0.2035694\ttest: 0.1945585\tbest: 0.1945585 (70)\ttotal: 1.28s\tremaining: 4.14s\n",
      "71:\tlearn: 0.2035113\ttest: 0.1945803\tbest: 0.1945585 (70)\ttotal: 1.31s\tremaining: 4.14s\n",
      "72:\tlearn: 0.2034470\ttest: 0.1945333\tbest: 0.1945333 (72)\ttotal: 1.32s\tremaining: 4.12s\n",
      "73:\tlearn: 0.2034091\ttest: 0.1945277\tbest: 0.1945277 (73)\ttotal: 1.35s\tremaining: 4.11s\n",
      "74:\tlearn: 0.2033747\ttest: 0.1945394\tbest: 0.1945277 (73)\ttotal: 1.37s\tremaining: 4.11s\n",
      "75:\tlearn: 0.2032677\ttest: 0.1945406\tbest: 0.1945277 (73)\ttotal: 1.39s\tremaining: 4.09s\n",
      "76:\tlearn: 0.2032362\ttest: 0.1945561\tbest: 0.1945277 (73)\ttotal: 1.41s\tremaining: 4.08s\n",
      "77:\tlearn: 0.2032035\ttest: 0.1945216\tbest: 0.1945216 (77)\ttotal: 1.43s\tremaining: 4.07s\n",
      "78:\tlearn: 0.2031875\ttest: 0.1945357\tbest: 0.1945216 (77)\ttotal: 1.45s\tremaining: 4.05s\n",
      "79:\tlearn: 0.2030861\ttest: 0.1945213\tbest: 0.1945213 (79)\ttotal: 1.47s\tremaining: 4.03s\n",
      "80:\tlearn: 0.2030567\ttest: 0.1944761\tbest: 0.1944761 (80)\ttotal: 1.49s\tremaining: 4.02s\n",
      "81:\tlearn: 0.2029978\ttest: 0.1944203\tbest: 0.1944203 (81)\ttotal: 1.51s\tremaining: 4s\n",
      "82:\tlearn: 0.2029613\ttest: 0.1944317\tbest: 0.1944203 (81)\ttotal: 1.53s\tremaining: 4s\n",
      "83:\tlearn: 0.2028959\ttest: 0.1943992\tbest: 0.1943992 (83)\ttotal: 1.55s\tremaining: 3.98s\n",
      "84:\tlearn: 0.2028407\ttest: 0.1944406\tbest: 0.1943992 (83)\ttotal: 1.57s\tremaining: 3.97s\n",
      "85:\tlearn: 0.2028036\ttest: 0.1944154\tbest: 0.1943992 (83)\ttotal: 1.59s\tremaining: 3.96s\n",
      "86:\tlearn: 0.2027193\ttest: 0.1946272\tbest: 0.1943992 (83)\ttotal: 1.61s\tremaining: 3.94s\n",
      "87:\tlearn: 0.2026722\ttest: 0.1946632\tbest: 0.1943992 (83)\ttotal: 1.63s\tremaining: 3.93s\n",
      "88:\tlearn: 0.2026613\ttest: 0.1946343\tbest: 0.1943992 (83)\ttotal: 1.65s\tremaining: 3.91s\n",
      "89:\tlearn: 0.2026270\ttest: 0.1946191\tbest: 0.1943992 (83)\ttotal: 1.66s\tremaining: 3.88s\n",
      "90:\tlearn: 0.2025316\ttest: 0.1945303\tbest: 0.1943992 (83)\ttotal: 1.68s\tremaining: 3.86s\n",
      "91:\tlearn: 0.2024817\ttest: 0.1945317\tbest: 0.1943992 (83)\ttotal: 1.69s\tremaining: 3.83s\n",
      "92:\tlearn: 0.2023929\ttest: 0.1945480\tbest: 0.1943992 (83)\ttotal: 1.71s\tremaining: 3.81s\n",
      "93:\tlearn: 0.2023076\ttest: 0.1945023\tbest: 0.1943992 (83)\ttotal: 1.73s\tremaining: 3.79s\n",
      "94:\tlearn: 0.2022711\ttest: 0.1944810\tbest: 0.1943992 (83)\ttotal: 1.75s\tremaining: 3.77s\n",
      "95:\tlearn: 0.2022110\ttest: 0.1944222\tbest: 0.1943992 (83)\ttotal: 1.76s\tremaining: 3.75s\n",
      "96:\tlearn: 0.2021070\ttest: 0.1945110\tbest: 0.1943992 (83)\ttotal: 1.78s\tremaining: 3.73s\n",
      "97:\tlearn: 0.2020780\ttest: 0.1945087\tbest: 0.1943992 (83)\ttotal: 1.8s\tremaining: 3.71s\n",
      "98:\tlearn: 0.2020157\ttest: 0.1945170\tbest: 0.1943992 (83)\ttotal: 1.81s\tremaining: 3.68s\n",
      "99:\tlearn: 0.2019607\ttest: 0.1945088\tbest: 0.1943992 (83)\ttotal: 1.83s\tremaining: 3.65s\n",
      "100:\tlearn: 0.2019071\ttest: 0.1945004\tbest: 0.1943992 (83)\ttotal: 1.84s\tremaining: 3.63s\n",
      "101:\tlearn: 0.2018785\ttest: 0.1945037\tbest: 0.1943992 (83)\ttotal: 1.86s\tremaining: 3.61s\n",
      "102:\tlearn: 0.2018072\ttest: 0.1944227\tbest: 0.1943992 (83)\ttotal: 1.88s\tremaining: 3.59s\n"
     ]
    },
    {
     "name": "stdout",
     "output_type": "stream",
     "text": [
      "103:\tlearn: 0.2017894\ttest: 0.1943922\tbest: 0.1943922 (103)\ttotal: 1.89s\tremaining: 3.57s\n",
      "104:\tlearn: 0.2017752\ttest: 0.1943771\tbest: 0.1943771 (104)\ttotal: 1.91s\tremaining: 3.55s\n",
      "105:\tlearn: 0.2016872\ttest: 0.1944167\tbest: 0.1943771 (104)\ttotal: 1.93s\tremaining: 3.53s\n",
      "106:\tlearn: 0.2016510\ttest: 0.1944325\tbest: 0.1943771 (104)\ttotal: 1.95s\tremaining: 3.51s\n",
      "107:\tlearn: 0.2015826\ttest: 0.1945446\tbest: 0.1943771 (104)\ttotal: 1.96s\tremaining: 3.49s\n",
      "108:\tlearn: 0.2015028\ttest: 0.1945388\tbest: 0.1943771 (104)\ttotal: 1.98s\tremaining: 3.47s\n",
      "109:\tlearn: 0.2014683\ttest: 0.1946144\tbest: 0.1943771 (104)\ttotal: 2s\tremaining: 3.45s\n",
      "110:\tlearn: 0.2014565\ttest: 0.1946141\tbest: 0.1943771 (104)\ttotal: 2.02s\tremaining: 3.43s\n",
      "111:\tlearn: 0.2014123\ttest: 0.1946394\tbest: 0.1943771 (104)\ttotal: 2.03s\tremaining: 3.42s\n",
      "112:\tlearn: 0.2014089\ttest: 0.1946373\tbest: 0.1943771 (104)\ttotal: 2.05s\tremaining: 3.4s\n",
      "113:\tlearn: 0.2013916\ttest: 0.1946372\tbest: 0.1943771 (104)\ttotal: 2.07s\tremaining: 3.38s\n",
      "114:\tlearn: 0.2013772\ttest: 0.1946770\tbest: 0.1943771 (104)\ttotal: 2.09s\tremaining: 3.36s\n",
      "115:\tlearn: 0.2013388\ttest: 0.1946820\tbest: 0.1943771 (104)\ttotal: 2.11s\tremaining: 3.34s\n",
      "116:\tlearn: 0.2013298\ttest: 0.1946829\tbest: 0.1943771 (104)\ttotal: 2.13s\tremaining: 3.33s\n",
      "117:\tlearn: 0.2013242\ttest: 0.1947160\tbest: 0.1943771 (104)\ttotal: 2.15s\tremaining: 3.31s\n",
      "118:\tlearn: 0.2012980\ttest: 0.1947728\tbest: 0.1943771 (104)\ttotal: 2.17s\tremaining: 3.29s\n",
      "119:\tlearn: 0.2012643\ttest: 0.1947642\tbest: 0.1943771 (104)\ttotal: 2.18s\tremaining: 3.27s\n",
      "120:\tlearn: 0.2012507\ttest: 0.1947553\tbest: 0.1943771 (104)\ttotal: 2.2s\tremaining: 3.25s\n",
      "121:\tlearn: 0.2011782\ttest: 0.1946733\tbest: 0.1943771 (104)\ttotal: 2.22s\tremaining: 3.23s\n",
      "122:\tlearn: 0.2011156\ttest: 0.1946617\tbest: 0.1943771 (104)\ttotal: 2.23s\tremaining: 3.21s\n",
      "123:\tlearn: 0.2010941\ttest: 0.1946502\tbest: 0.1943771 (104)\ttotal: 2.25s\tremaining: 3.19s\n",
      "124:\tlearn: 0.2010356\ttest: 0.1946745\tbest: 0.1943771 (104)\ttotal: 2.27s\tremaining: 3.18s\n",
      "125:\tlearn: 0.2010067\ttest: 0.1947702\tbest: 0.1943771 (104)\ttotal: 2.29s\tremaining: 3.16s\n",
      "126:\tlearn: 0.2009829\ttest: 0.1948125\tbest: 0.1943771 (104)\ttotal: 2.3s\tremaining: 3.14s\n",
      "127:\tlearn: 0.2009491\ttest: 0.1948351\tbest: 0.1943771 (104)\ttotal: 2.32s\tremaining: 3.12s\n",
      "128:\tlearn: 0.2008946\ttest: 0.1948654\tbest: 0.1943771 (104)\ttotal: 2.35s\tremaining: 3.11s\n",
      "129:\tlearn: 0.2008723\ttest: 0.1949343\tbest: 0.1943771 (104)\ttotal: 2.37s\tremaining: 3.1s\n",
      "130:\tlearn: 0.2008556\ttest: 0.1950576\tbest: 0.1943771 (104)\ttotal: 2.39s\tremaining: 3.08s\n",
      "131:\tlearn: 0.2008517\ttest: 0.1950910\tbest: 0.1943771 (104)\ttotal: 2.41s\tremaining: 3.07s\n",
      "132:\tlearn: 0.2007941\ttest: 0.1951456\tbest: 0.1943771 (104)\ttotal: 2.43s\tremaining: 3.05s\n",
      "133:\tlearn: 0.2007097\ttest: 0.1952072\tbest: 0.1943771 (104)\ttotal: 2.45s\tremaining: 3.04s\n",
      "134:\tlearn: 0.2006641\ttest: 0.1952007\tbest: 0.1943771 (104)\ttotal: 2.47s\tremaining: 3.02s\n",
      "135:\tlearn: 0.2006557\ttest: 0.1951926\tbest: 0.1943771 (104)\ttotal: 2.5s\tremaining: 3.01s\n",
      "136:\tlearn: 0.2006491\ttest: 0.1952158\tbest: 0.1943771 (104)\ttotal: 2.52s\tremaining: 2.99s\n",
      "137:\tlearn: 0.2006150\ttest: 0.1951670\tbest: 0.1943771 (104)\ttotal: 2.54s\tremaining: 2.98s\n",
      "138:\tlearn: 0.2005747\ttest: 0.1951456\tbest: 0.1943771 (104)\ttotal: 2.56s\tremaining: 2.96s\n",
      "139:\tlearn: 0.2005542\ttest: 0.1951596\tbest: 0.1943771 (104)\ttotal: 2.58s\tremaining: 2.95s\n",
      "140:\tlearn: 0.2005455\ttest: 0.1951897\tbest: 0.1943771 (104)\ttotal: 2.6s\tremaining: 2.93s\n",
      "141:\tlearn: 0.2005146\ttest: 0.1951763\tbest: 0.1943771 (104)\ttotal: 2.62s\tremaining: 2.91s\n",
      "142:\tlearn: 0.2004393\ttest: 0.1952494\tbest: 0.1943771 (104)\ttotal: 2.64s\tremaining: 2.9s\n",
      "143:\tlearn: 0.2004202\ttest: 0.1952709\tbest: 0.1943771 (104)\ttotal: 2.66s\tremaining: 2.88s\n",
      "144:\tlearn: 0.2003941\ttest: 0.1953304\tbest: 0.1943771 (104)\ttotal: 2.68s\tremaining: 2.87s\n",
      "145:\tlearn: 0.2003840\ttest: 0.1953293\tbest: 0.1943771 (104)\ttotal: 2.71s\tremaining: 2.85s\n",
      "146:\tlearn: 0.2003473\ttest: 0.1953329\tbest: 0.1943771 (104)\ttotal: 2.73s\tremaining: 2.84s\n",
      "147:\tlearn: 0.2003073\ttest: 0.1953078\tbest: 0.1943771 (104)\ttotal: 2.75s\tremaining: 2.82s\n",
      "148:\tlearn: 0.2002672\ttest: 0.1953195\tbest: 0.1943771 (104)\ttotal: 2.77s\tremaining: 2.81s\n",
      "149:\tlearn: 0.2002486\ttest: 0.1953365\tbest: 0.1943771 (104)\ttotal: 2.79s\tremaining: 2.79s\n",
      "150:\tlearn: 0.2002421\ttest: 0.1953366\tbest: 0.1943771 (104)\ttotal: 2.81s\tremaining: 2.77s\n",
      "151:\tlearn: 0.2002230\ttest: 0.1953382\tbest: 0.1943771 (104)\ttotal: 2.83s\tremaining: 2.75s\n",
      "152:\tlearn: 0.2002030\ttest: 0.1953387\tbest: 0.1943771 (104)\ttotal: 2.85s\tremaining: 2.74s\n",
      "153:\tlearn: 0.2001917\ttest: 0.1953834\tbest: 0.1943771 (104)\ttotal: 2.87s\tremaining: 2.72s\n",
      "154:\tlearn: 0.2001590\ttest: 0.1954435\tbest: 0.1943771 (104)\ttotal: 2.89s\tremaining: 2.7s\n",
      "155:\tlearn: 0.2001286\ttest: 0.1953466\tbest: 0.1943771 (104)\ttotal: 2.91s\tremaining: 2.69s\n",
      "156:\tlearn: 0.2001131\ttest: 0.1953164\tbest: 0.1943771 (104)\ttotal: 2.93s\tremaining: 2.67s\n",
      "157:\tlearn: 0.2000633\ttest: 0.1953159\tbest: 0.1943771 (104)\ttotal: 2.95s\tremaining: 2.65s\n",
      "158:\tlearn: 0.2000446\ttest: 0.1954026\tbest: 0.1943771 (104)\ttotal: 2.97s\tremaining: 2.63s\n",
      "159:\tlearn: 0.1999904\ttest: 0.1953325\tbest: 0.1943771 (104)\ttotal: 2.98s\tremaining: 2.61s\n",
      "160:\tlearn: 0.1999453\ttest: 0.1953589\tbest: 0.1943771 (104)\ttotal: 3.01s\tremaining: 2.6s\n",
      "161:\tlearn: 0.1999004\ttest: 0.1954024\tbest: 0.1943771 (104)\ttotal: 3.03s\tremaining: 2.58s\n",
      "162:\tlearn: 0.1998675\ttest: 0.1954024\tbest: 0.1943771 (104)\ttotal: 3.05s\tremaining: 2.56s\n",
      "163:\tlearn: 0.1998466\ttest: 0.1953998\tbest: 0.1943771 (104)\ttotal: 3.07s\tremaining: 2.55s\n",
      "164:\tlearn: 0.1998132\ttest: 0.1953985\tbest: 0.1943771 (104)\ttotal: 3.09s\tremaining: 2.53s\n",
      "165:\tlearn: 0.1997370\ttest: 0.1954455\tbest: 0.1943771 (104)\ttotal: 3.11s\tremaining: 2.51s\n",
      "166:\tlearn: 0.1997198\ttest: 0.1961577\tbest: 0.1943771 (104)\ttotal: 3.13s\tremaining: 2.49s\n",
      "167:\tlearn: 0.1996462\ttest: 0.1962375\tbest: 0.1943771 (104)\ttotal: 3.14s\tremaining: 2.47s\n",
      "168:\tlearn: 0.1996154\ttest: 0.1962660\tbest: 0.1943771 (104)\ttotal: 3.16s\tremaining: 2.45s\n",
      "169:\tlearn: 0.1995897\ttest: 0.1962246\tbest: 0.1943771 (104)\ttotal: 3.18s\tremaining: 2.43s\n",
      "170:\tlearn: 0.1995449\ttest: 0.1962316\tbest: 0.1943771 (104)\ttotal: 3.19s\tremaining: 2.41s\n",
      "171:\tlearn: 0.1994828\ttest: 0.1962209\tbest: 0.1943771 (104)\ttotal: 3.21s\tremaining: 2.39s\n",
      "172:\tlearn: 0.1994646\ttest: 0.1962487\tbest: 0.1943771 (104)\ttotal: 3.23s\tremaining: 2.37s\n",
      "173:\tlearn: 0.1994466\ttest: 0.1963270\tbest: 0.1943771 (104)\ttotal: 3.25s\tremaining: 2.35s\n",
      "174:\tlearn: 0.1994416\ttest: 0.1963303\tbest: 0.1943771 (104)\ttotal: 3.27s\tremaining: 2.33s\n",
      "175:\tlearn: 0.1993999\ttest: 0.1963029\tbest: 0.1943771 (104)\ttotal: 3.29s\tremaining: 2.31s\n",
      "176:\tlearn: 0.1993977\ttest: 0.1963073\tbest: 0.1943771 (104)\ttotal: 3.3s\tremaining: 2.29s\n",
      "177:\tlearn: 0.1993677\ttest: 0.1963527\tbest: 0.1943771 (104)\ttotal: 3.32s\tremaining: 2.27s\n",
      "178:\tlearn: 0.1993413\ttest: 0.1963594\tbest: 0.1943771 (104)\ttotal: 3.33s\tremaining: 2.25s\n",
      "179:\tlearn: 0.1993202\ttest: 0.1963975\tbest: 0.1943771 (104)\ttotal: 3.35s\tremaining: 2.24s\n",
      "180:\tlearn: 0.1992653\ttest: 0.1964526\tbest: 0.1943771 (104)\ttotal: 3.37s\tremaining: 2.22s\n",
      "181:\tlearn: 0.1992612\ttest: 0.1964578\tbest: 0.1943771 (104)\ttotal: 3.39s\tremaining: 2.2s\n",
      "182:\tlearn: 0.1992439\ttest: 0.1964634\tbest: 0.1943771 (104)\ttotal: 3.41s\tremaining: 2.18s\n",
      "183:\tlearn: 0.1992136\ttest: 0.1964697\tbest: 0.1943771 (104)\ttotal: 3.43s\tremaining: 2.16s\n",
      "184:\tlearn: 0.1991983\ttest: 0.1965005\tbest: 0.1943771 (104)\ttotal: 3.45s\tremaining: 2.14s\n",
      "185:\tlearn: 0.1991076\ttest: 0.1964766\tbest: 0.1943771 (104)\ttotal: 3.47s\tremaining: 2.12s\n",
      "186:\tlearn: 0.1990937\ttest: 0.1964862\tbest: 0.1943771 (104)\ttotal: 3.49s\tremaining: 2.11s\n",
      "187:\tlearn: 0.1990903\ttest: 0.1964965\tbest: 0.1943771 (104)\ttotal: 3.5s\tremaining: 2.09s\n",
      "188:\tlearn: 0.1990668\ttest: 0.1965593\tbest: 0.1943771 (104)\ttotal: 3.52s\tremaining: 2.07s\n",
      "189:\tlearn: 0.1990385\ttest: 0.1965850\tbest: 0.1943771 (104)\ttotal: 3.54s\tremaining: 2.05s\n",
      "190:\tlearn: 0.1990068\ttest: 0.1966202\tbest: 0.1943771 (104)\ttotal: 3.56s\tremaining: 2.03s\n",
      "191:\tlearn: 0.1989576\ttest: 0.1965953\tbest: 0.1943771 (104)\ttotal: 3.58s\tremaining: 2.01s\n",
      "192:\tlearn: 0.1989187\ttest: 0.1966067\tbest: 0.1943771 (104)\ttotal: 3.6s\tremaining: 2s\n",
      "193:\tlearn: 0.1988873\ttest: 0.1965636\tbest: 0.1943771 (104)\ttotal: 3.62s\tremaining: 1.98s\n",
      "194:\tlearn: 0.1988653\ttest: 0.1965590\tbest: 0.1943771 (104)\ttotal: 3.64s\tremaining: 1.96s\n",
      "195:\tlearn: 0.1988135\ttest: 0.1965347\tbest: 0.1943771 (104)\ttotal: 3.65s\tremaining: 1.94s\n",
      "196:\tlearn: 0.1987895\ttest: 0.1965502\tbest: 0.1943771 (104)\ttotal: 3.67s\tremaining: 1.92s\n",
      "197:\tlearn: 0.1987423\ttest: 0.1966242\tbest: 0.1943771 (104)\ttotal: 3.69s\tremaining: 1.9s\n",
      "198:\tlearn: 0.1987096\ttest: 0.1966265\tbest: 0.1943771 (104)\ttotal: 3.71s\tremaining: 1.88s\n",
      "199:\tlearn: 0.1986886\ttest: 0.1966325\tbest: 0.1943771 (104)\ttotal: 3.72s\tremaining: 1.86s\n",
      "200:\tlearn: 0.1986226\ttest: 0.1965661\tbest: 0.1943771 (104)\ttotal: 3.74s\tremaining: 1.84s\n",
      "201:\tlearn: 0.1986151\ttest: 0.1965590\tbest: 0.1943771 (104)\ttotal: 3.76s\tremaining: 1.82s\n",
      "202:\tlearn: 0.1985983\ttest: 0.1965799\tbest: 0.1943771 (104)\ttotal: 3.77s\tremaining: 1.8s\n",
      "203:\tlearn: 0.1985645\ttest: 0.1966061\tbest: 0.1943771 (104)\ttotal: 3.79s\tremaining: 1.78s\n"
     ]
    },
    {
     "name": "stdout",
     "output_type": "stream",
     "text": [
      "204:\tlearn: 0.1985559\ttest: 0.1966143\tbest: 0.1943771 (104)\ttotal: 3.8s\tremaining: 1.76s\n",
      "205:\tlearn: 0.1985546\ttest: 0.1966158\tbest: 0.1943771 (104)\ttotal: 3.82s\tremaining: 1.74s\n",
      "206:\tlearn: 0.1985397\ttest: 0.1965516\tbest: 0.1943771 (104)\ttotal: 3.84s\tremaining: 1.73s\n",
      "207:\tlearn: 0.1985166\ttest: 0.1966189\tbest: 0.1943771 (104)\ttotal: 3.86s\tremaining: 1.71s\n",
      "208:\tlearn: 0.1985018\ttest: 0.1966900\tbest: 0.1943771 (104)\ttotal: 3.87s\tremaining: 1.69s\n",
      "209:\tlearn: 0.1984354\ttest: 0.1966881\tbest: 0.1943771 (104)\ttotal: 3.89s\tremaining: 1.67s\n",
      "210:\tlearn: 0.1984095\ttest: 0.1966899\tbest: 0.1943771 (104)\ttotal: 3.91s\tremaining: 1.65s\n",
      "211:\tlearn: 0.1983786\ttest: 0.1967344\tbest: 0.1943771 (104)\ttotal: 3.92s\tremaining: 1.63s\n",
      "212:\tlearn: 0.1983624\ttest: 0.1967283\tbest: 0.1943771 (104)\ttotal: 3.94s\tremaining: 1.61s\n",
      "213:\tlearn: 0.1983534\ttest: 0.1967455\tbest: 0.1943771 (104)\ttotal: 3.96s\tremaining: 1.59s\n",
      "214:\tlearn: 0.1983435\ttest: 0.1967508\tbest: 0.1943771 (104)\ttotal: 3.97s\tremaining: 1.57s\n",
      "215:\tlearn: 0.1983218\ttest: 0.1967126\tbest: 0.1943771 (104)\ttotal: 3.99s\tremaining: 1.55s\n",
      "216:\tlearn: 0.1982786\ttest: 0.1968201\tbest: 0.1943771 (104)\ttotal: 4.01s\tremaining: 1.53s\n",
      "217:\tlearn: 0.1982726\ttest: 0.1968282\tbest: 0.1943771 (104)\ttotal: 4.03s\tremaining: 1.51s\n",
      "218:\tlearn: 0.1982280\ttest: 0.1968862\tbest: 0.1943771 (104)\ttotal: 4.04s\tremaining: 1.5s\n",
      "219:\tlearn: 0.1981704\ttest: 0.1970923\tbest: 0.1943771 (104)\ttotal: 4.06s\tremaining: 1.48s\n",
      "220:\tlearn: 0.1981304\ttest: 0.1971106\tbest: 0.1943771 (104)\ttotal: 4.08s\tremaining: 1.46s\n",
      "221:\tlearn: 0.1981196\ttest: 0.1971282\tbest: 0.1943771 (104)\ttotal: 4.1s\tremaining: 1.44s\n",
      "222:\tlearn: 0.1981031\ttest: 0.1971258\tbest: 0.1943771 (104)\ttotal: 4.11s\tremaining: 1.42s\n",
      "223:\tlearn: 0.1980727\ttest: 0.1974164\tbest: 0.1943771 (104)\ttotal: 4.13s\tremaining: 1.4s\n",
      "224:\tlearn: 0.1980484\ttest: 0.1974320\tbest: 0.1943771 (104)\ttotal: 4.15s\tremaining: 1.38s\n",
      "225:\tlearn: 0.1980408\ttest: 0.1974287\tbest: 0.1943771 (104)\ttotal: 4.17s\tremaining: 1.36s\n",
      "226:\tlearn: 0.1980225\ttest: 0.1973902\tbest: 0.1943771 (104)\ttotal: 4.19s\tremaining: 1.35s\n",
      "227:\tlearn: 0.1979922\ttest: 0.1973769\tbest: 0.1943771 (104)\ttotal: 4.21s\tremaining: 1.33s\n",
      "228:\tlearn: 0.1979192\ttest: 0.1973506\tbest: 0.1943771 (104)\ttotal: 4.22s\tremaining: 1.31s\n",
      "229:\tlearn: 0.1979026\ttest: 0.1973651\tbest: 0.1943771 (104)\ttotal: 4.24s\tremaining: 1.29s\n",
      "230:\tlearn: 0.1978902\ttest: 0.1973829\tbest: 0.1943771 (104)\ttotal: 4.26s\tremaining: 1.27s\n",
      "231:\tlearn: 0.1978327\ttest: 0.1974710\tbest: 0.1943771 (104)\ttotal: 4.28s\tremaining: 1.25s\n",
      "232:\tlearn: 0.1978108\ttest: 0.1974737\tbest: 0.1943771 (104)\ttotal: 4.3s\tremaining: 1.24s\n",
      "233:\tlearn: 0.1977981\ttest: 0.1974499\tbest: 0.1943771 (104)\ttotal: 4.32s\tremaining: 1.22s\n",
      "234:\tlearn: 0.1977773\ttest: 0.1974436\tbest: 0.1943771 (104)\ttotal: 4.34s\tremaining: 1.2s\n",
      "235:\tlearn: 0.1977481\ttest: 0.1974470\tbest: 0.1943771 (104)\ttotal: 4.36s\tremaining: 1.18s\n",
      "236:\tlearn: 0.1977343\ttest: 0.1975289\tbest: 0.1943771 (104)\ttotal: 4.39s\tremaining: 1.17s\n",
      "237:\tlearn: 0.1977136\ttest: 0.1982719\tbest: 0.1943771 (104)\ttotal: 4.4s\tremaining: 1.15s\n",
      "238:\tlearn: 0.1976926\ttest: 0.1983975\tbest: 0.1943771 (104)\ttotal: 4.43s\tremaining: 1.13s\n",
      "239:\tlearn: 0.1976219\ttest: 0.1983987\tbest: 0.1943771 (104)\ttotal: 4.45s\tremaining: 1.11s\n",
      "240:\tlearn: 0.1976150\ttest: 0.1983939\tbest: 0.1943771 (104)\ttotal: 4.47s\tremaining: 1.09s\n",
      "241:\tlearn: 0.1975979\ttest: 0.1983955\tbest: 0.1943771 (104)\ttotal: 4.49s\tremaining: 1.08s\n",
      "242:\tlearn: 0.1975891\ttest: 0.1984117\tbest: 0.1943771 (104)\ttotal: 4.52s\tremaining: 1.06s\n",
      "243:\tlearn: 0.1975551\ttest: 0.1983117\tbest: 0.1943771 (104)\ttotal: 4.54s\tremaining: 1.04s\n",
      "244:\tlearn: 0.1975471\ttest: 0.1983151\tbest: 0.1943771 (104)\ttotal: 4.55s\tremaining: 1.02s\n",
      "245:\tlearn: 0.1975416\ttest: 0.1983005\tbest: 0.1943771 (104)\ttotal: 4.57s\tremaining: 1s\n",
      "246:\tlearn: 0.1975203\ttest: 0.1982897\tbest: 0.1943771 (104)\ttotal: 4.59s\tremaining: 985ms\n",
      "247:\tlearn: 0.1975065\ttest: 0.1984092\tbest: 0.1943771 (104)\ttotal: 4.61s\tremaining: 966ms\n",
      "248:\tlearn: 0.1975046\ttest: 0.1984097\tbest: 0.1943771 (104)\ttotal: 4.62s\tremaining: 947ms\n",
      "249:\tlearn: 0.1974995\ttest: 0.1982446\tbest: 0.1943771 (104)\ttotal: 4.64s\tremaining: 928ms\n",
      "250:\tlearn: 0.1974763\ttest: 0.1981601\tbest: 0.1943771 (104)\ttotal: 4.66s\tremaining: 910ms\n",
      "251:\tlearn: 0.1974577\ttest: 0.1981694\tbest: 0.1943771 (104)\ttotal: 4.68s\tremaining: 891ms\n",
      "252:\tlearn: 0.1974391\ttest: 0.1981411\tbest: 0.1943771 (104)\ttotal: 4.7s\tremaining: 873ms\n",
      "253:\tlearn: 0.1973954\ttest: 0.1989249\tbest: 0.1943771 (104)\ttotal: 4.71s\tremaining: 854ms\n",
      "254:\tlearn: 0.1973906\ttest: 0.1989336\tbest: 0.1943771 (104)\ttotal: 4.73s\tremaining: 835ms\n",
      "255:\tlearn: 0.1973737\ttest: 0.1990609\tbest: 0.1943771 (104)\ttotal: 4.75s\tremaining: 816ms\n",
      "256:\tlearn: 0.1973337\ttest: 0.1990334\tbest: 0.1943771 (104)\ttotal: 4.77s\tremaining: 798ms\n",
      "257:\tlearn: 0.1973240\ttest: 0.1990370\tbest: 0.1943771 (104)\ttotal: 4.79s\tremaining: 779ms\n",
      "258:\tlearn: 0.1973189\ttest: 0.1990385\tbest: 0.1943771 (104)\ttotal: 4.8s\tremaining: 760ms\n",
      "259:\tlearn: 0.1972953\ttest: 0.1990594\tbest: 0.1943771 (104)\ttotal: 4.82s\tremaining: 742ms\n",
      "260:\tlearn: 0.1972726\ttest: 0.1990392\tbest: 0.1943771 (104)\ttotal: 4.84s\tremaining: 723ms\n",
      "261:\tlearn: 0.1972454\ttest: 0.1990712\tbest: 0.1943771 (104)\ttotal: 4.85s\tremaining: 704ms\n",
      "262:\tlearn: 0.1972241\ttest: 0.1991023\tbest: 0.1943771 (104)\ttotal: 4.87s\tremaining: 685ms\n",
      "263:\tlearn: 0.1971880\ttest: 0.1991101\tbest: 0.1943771 (104)\ttotal: 4.89s\tremaining: 667ms\n",
      "264:\tlearn: 0.1971751\ttest: 0.1992354\tbest: 0.1943771 (104)\ttotal: 4.91s\tremaining: 648ms\n",
      "265:\tlearn: 0.1971596\ttest: 0.1992387\tbest: 0.1943771 (104)\ttotal: 4.93s\tremaining: 630ms\n",
      "266:\tlearn: 0.1971481\ttest: 0.1990326\tbest: 0.1943771 (104)\ttotal: 4.94s\tremaining: 611ms\n",
      "267:\tlearn: 0.1971053\ttest: 0.1990104\tbest: 0.1943771 (104)\ttotal: 4.96s\tremaining: 593ms\n",
      "268:\tlearn: 0.1970961\ttest: 0.1989807\tbest: 0.1943771 (104)\ttotal: 4.98s\tremaining: 574ms\n",
      "269:\tlearn: 0.1970428\ttest: 0.1990257\tbest: 0.1943771 (104)\ttotal: 5s\tremaining: 555ms\n",
      "270:\tlearn: 0.1970278\ttest: 0.1990935\tbest: 0.1943771 (104)\ttotal: 5.01s\tremaining: 537ms\n",
      "271:\tlearn: 0.1969842\ttest: 0.1991358\tbest: 0.1943771 (104)\ttotal: 5.03s\tremaining: 518ms\n",
      "272:\tlearn: 0.1969724\ttest: 0.1991856\tbest: 0.1943771 (104)\ttotal: 5.05s\tremaining: 499ms\n",
      "273:\tlearn: 0.1969538\ttest: 0.1992717\tbest: 0.1943771 (104)\ttotal: 5.07s\tremaining: 481ms\n",
      "274:\tlearn: 0.1969374\ttest: 0.1992643\tbest: 0.1943771 (104)\ttotal: 5.09s\tremaining: 463ms\n",
      "275:\tlearn: 0.1969250\ttest: 0.1992778\tbest: 0.1943771 (104)\ttotal: 5.11s\tremaining: 444ms\n",
      "276:\tlearn: 0.1969073\ttest: 0.1992549\tbest: 0.1943771 (104)\ttotal: 5.13s\tremaining: 426ms\n",
      "277:\tlearn: 0.1968995\ttest: 0.1993946\tbest: 0.1943771 (104)\ttotal: 5.15s\tremaining: 407ms\n",
      "278:\tlearn: 0.1968771\ttest: 0.1993486\tbest: 0.1943771 (104)\ttotal: 5.17s\tremaining: 389ms\n",
      "279:\tlearn: 0.1968675\ttest: 0.1993373\tbest: 0.1943771 (104)\ttotal: 5.18s\tremaining: 370ms\n",
      "280:\tlearn: 0.1968561\ttest: 0.1993399\tbest: 0.1943771 (104)\ttotal: 5.2s\tremaining: 352ms\n",
      "281:\tlearn: 0.1968382\ttest: 0.1994400\tbest: 0.1943771 (104)\ttotal: 5.22s\tremaining: 333ms\n",
      "282:\tlearn: 0.1968178\ttest: 0.1994511\tbest: 0.1943771 (104)\ttotal: 5.24s\tremaining: 314ms\n",
      "283:\tlearn: 0.1967852\ttest: 0.1994445\tbest: 0.1943771 (104)\ttotal: 5.25s\tremaining: 296ms\n",
      "284:\tlearn: 0.1967794\ttest: 0.1994515\tbest: 0.1943771 (104)\ttotal: 5.27s\tremaining: 277ms\n",
      "285:\tlearn: 0.1967708\ttest: 0.1995024\tbest: 0.1943771 (104)\ttotal: 5.29s\tremaining: 259ms\n",
      "286:\tlearn: 0.1966835\ttest: 0.1994720\tbest: 0.1943771 (104)\ttotal: 5.31s\tremaining: 240ms\n",
      "287:\tlearn: 0.1966648\ttest: 0.1995017\tbest: 0.1943771 (104)\ttotal: 5.33s\tremaining: 222ms\n",
      "288:\tlearn: 0.1966308\ttest: 0.1995548\tbest: 0.1943771 (104)\ttotal: 5.34s\tremaining: 203ms\n",
      "289:\tlearn: 0.1966194\ttest: 0.1995654\tbest: 0.1943771 (104)\ttotal: 5.36s\tremaining: 185ms\n",
      "290:\tlearn: 0.1966037\ttest: 0.1995878\tbest: 0.1943771 (104)\ttotal: 5.38s\tremaining: 166ms\n",
      "291:\tlearn: 0.1966013\ttest: 0.1995884\tbest: 0.1943771 (104)\ttotal: 5.39s\tremaining: 148ms\n",
      "292:\tlearn: 0.1965765\ttest: 0.1996322\tbest: 0.1943771 (104)\ttotal: 5.41s\tremaining: 129ms\n",
      "293:\tlearn: 0.1965688\ttest: 0.1996306\tbest: 0.1943771 (104)\ttotal: 5.43s\tremaining: 111ms\n",
      "294:\tlearn: 0.1965423\ttest: 0.1995879\tbest: 0.1943771 (104)\ttotal: 5.45s\tremaining: 92.4ms\n",
      "295:\tlearn: 0.1965145\ttest: 0.1995911\tbest: 0.1943771 (104)\ttotal: 5.46s\tremaining: 73.8ms\n",
      "296:\tlearn: 0.1964989\ttest: 0.1995885\tbest: 0.1943771 (104)\ttotal: 5.48s\tremaining: 55.4ms\n"
     ]
    },
    {
     "name": "stdout",
     "output_type": "stream",
     "text": [
      "297:\tlearn: 0.1964886\ttest: 0.1996413\tbest: 0.1943771 (104)\ttotal: 5.5s\tremaining: 36.9ms\n",
      "298:\tlearn: 0.1964565\ttest: 0.1996256\tbest: 0.1943771 (104)\ttotal: 5.52s\tremaining: 18.5ms\n",
      "299:\tlearn: 0.1964467\ttest: 0.1996237\tbest: 0.1943771 (104)\ttotal: 5.54s\tremaining: 0us\n",
      "bestTest = 0.1943771369\n",
      "bestIteration = 104\n",
      "Shrink model to first 105 iterations.\n"
     ]
    },
    {
     "data": {
      "text/plain": [
       "<catboost.core.CatBoostClassifier at 0x7f9e7051bd68>"
      ]
     },
     "execution_count": 105,
     "metadata": {},
     "output_type": "execute_result"
    }
   ],
   "source": [
    "model = CatBoostClassifier(iterations=300,\n",
    "                           depth=4, \n",
    "#                            scale_pos_weight=1/pds[0].isLiked.mean(),\n",
    "                           learning_rate=0.05,\n",
    "#                            loss_function='Logloss', \n",
    "#                            logging_level='Verbose',\n",
    "#                            eval_metric='AUC',\n",
    "# #                            has_time=True,\n",
    "#                            bagging_temperature=0.8,\n",
    "#                            max_bin=128,\n",
    "#                            random_strength=2,\n",
    "#                            max_ctr_complexity=2,\n",
    "#                            l2_leaf_reg=30,\n",
    "# #                            rsm=0.2\n",
    "#                            use_best_model=False,\n",
    "                           task_type='GPU',\n",
    "# #                            used_ram_limit='11GB'\n",
    "                 \n",
    "                          )\n",
    "\n",
    "print('model')\n",
    "#train the model\n",
    "model.fit(train_data,\n",
    "          eval_set=val_data\n",
    "         )"
   ]
  },
  {
   "cell_type": "code",
   "execution_count": 97,
   "metadata": {
    "scrolled": true
   },
   "outputs": [
    {
     "name": "stdout",
     "output_type": "stream",
     "text": [
      "customer_id 60.19305629910757\n",
      "story_id 10.534362647404947\n",
      "product_0 0.9506436074873177\n",
      "product_1 0.1746532916654849\n",
      "product_2 0.6569158776234072\n",
      "product_3 0.0\n",
      "product_4 0.5636636615403703\n",
      "product_5 3.1604962712154423\n",
      "product_6 1.1419763628845778\n",
      "gender_cd 7.003588502157351\n",
      "age 8.641628096987858\n",
      "marital_status_cd 0.44631169603355364\n",
      "children_cnt 2.199113115122494\n",
      "job_position_cd 0.25559610377213704\n",
      "job_title 4.077994466997489\n"
     ]
    }
   ],
   "source": [
    "columns=train.columns\n",
    "x = model.get_feature_importance(train_data)\n",
    "for i in range(len(x)):\n",
    "    print(columns[i], x[i])"
   ]
  },
  {
   "cell_type": "code",
   "execution_count": 82,
   "metadata": {},
   "outputs": [
    {
     "data": {
      "text/plain": [
       "34.57800345721694"
      ]
     },
     "execution_count": 82,
     "metadata": {},
     "output_type": "execute_result"
    }
   ],
   "source": [
    "160027/4628"
   ]
  },
  {
   "cell_type": "code",
   "execution_count": 74,
   "metadata": {},
   "outputs": [
    {
     "data": {
      "text/plain": [
       "array([[0.51479455, 0.48520545],\n",
       "       [0.51479455, 0.48520545],\n",
       "       [0.69756948, 0.30243052],\n",
       "       ...,\n",
       "       [0.31696796, 0.68303204],\n",
       "       [0.39236524, 0.60763476],\n",
       "       [0.41481388, 0.58518612]])"
      ]
     },
     "execution_count": 74,
     "metadata": {},
     "output_type": "execute_result"
    }
   ],
   "source": [
    "model.predict_proba(train_data)"
   ]
  },
  {
   "cell_type": "code",
   "execution_count": 75,
   "metadata": {},
   "outputs": [
    {
     "data": {
      "text/plain": [
       "Counter({'skip': 113598, 'view': 160027, 'like': 41995, 'dislike': 4628})"
      ]
     },
     "execution_count": 75,
     "metadata": {},
     "output_type": "execute_result"
    }
   ],
   "source": [
    "Counter(train_class)\n"
   ]
  },
  {
   "cell_type": "code",
   "execution_count": 106,
   "metadata": {},
   "outputs": [],
   "source": [
    "def metric(predicts, Ys):\n",
    "    counter = Counter(Ys)\n",
    "    max_value = counter['view']*0.1+counter['skip']*0.1+counter['like']*0.5+counter['dislike']*10\n",
    "    value = 0\n",
    "    for y,p in zip(Ys,predicts):\n",
    "        if y == \"dislike\":\n",
    "            value-=10*p\n",
    "        if y == \"like\":\n",
    "            value+=0.5*p\n",
    "        if y =='view':\n",
    "            value+=0.1*p\n",
    "        if y =='skip':\n",
    "            value-=0.1*p\n",
    "    return value/max_value\n",
    "            \n",
    "            "
   ]
  },
  {
   "cell_type": "code",
   "execution_count": 116,
   "metadata": {},
   "outputs": [
    {
     "name": "stdout",
     "output_type": "stream",
     "text": [
      "train metric 0.22542627766837098\n",
      "val metric 0.21883847275582882\n"
     ]
    }
   ],
   "source": [
    "train_predict = (model.predict_proba(train_data)[:,1]-0.5)*2\n",
    "val_predict = (model.predict_proba(val_data)[:,1]-0.5)*2\n",
    "\n",
    "print('train metric ' + str(metric(train_predict, train_class)))\n",
    "print('val metric ' + str(metric(val_predict, val_class)))"
   ]
  },
  {
   "cell_type": "code",
   "execution_count": null,
   "metadata": {},
   "outputs": [],
   "source": []
  },
  {
   "cell_type": "code",
   "execution_count": 108,
   "metadata": {},
   "outputs": [],
   "source": [
    "test_id = test.answer_id\n",
    "del test['answer_id']"
   ]
  },
  {
   "cell_type": "code",
   "execution_count": 109,
   "metadata": {},
   "outputs": [
    {
     "data": {
      "text/plain": [
       "array([     0,      1,      2, ..., 172046, 172047, 172048])"
      ]
     },
     "execution_count": 109,
     "metadata": {},
     "output_type": "execute_result"
    }
   ],
   "source": [
    "test_id"
   ]
  },
  {
   "cell_type": "code",
   "execution_count": 113,
   "metadata": {},
   "outputs": [],
   "source": [
    "test['score'] = (model.predict_proba(test)[:,1]-0.5)*2\n",
    "test['answer_id'] = test_id"
   ]
  },
  {
   "cell_type": "code",
   "execution_count": 119,
   "metadata": {},
   "outputs": [],
   "source": [
    "test[['answer_id', 'score']].to_csv(\"predict.csv\", index=False, float_format='%.3f')"
   ]
  },
  {
   "cell_type": "code",
   "execution_count": null,
   "metadata": {},
   "outputs": [],
   "source": []
  }
 ],
 "metadata": {
  "kernelspec": {
   "display_name": "Python 3",
   "language": "python",
   "name": "python3"
  },
  "language_info": {
   "codemirror_mode": {
    "name": "ipython",
    "version": 3
   },
   "file_extension": ".py",
   "mimetype": "text/x-python",
   "name": "python",
   "nbconvert_exporter": "python",
   "pygments_lexer": "ipython3",
   "version": "3.6.8"
  }
 },
 "nbformat": 4,
 "nbformat_minor": 2
}
